{
  "cells": [
    {
      "cell_type": "code",
      "execution_count": 1,
      "metadata": {
        "id": "qjOQCsVZqY7f"
      },
      "outputs": [],
      "source": [
        "import pandas as pd\n",
        "import pandas as pd\n",
        "import numpy as np\n",
        "import seaborn as sns\n",
        "from sklearn.decomposition import PCA\n",
        "from sklearn import preprocessing\n",
        "import matplotlib.pyplot as plt\n",
        "from sklearn.preprocessing import StandardScaler\n",
        "import matplotlib.pyplot as plt\n",
        "from sklearn.model_selection import train_test_split\n",
        "from sklearn.preprocessing import StandardScaler\n",
        "from sklearn.linear_model import LogisticRegression\n",
        "from sklearn.metrics import confusion_matrix\n",
        "from sklearn.metrics import accuracy_score\n",
        "from matplotlib.colors import ListedColormap\n",
        "from sklearn.svm import SVC\n",
        "from numpy import array \n",
        "from sklearn.feature_selection import SelectKBest\n",
        "from sklearn.feature_selection import chi2\n",
        "from pandas.plotting import scatter_matrix"
      ]
    },
    {
      "cell_type": "markdown",
      "source": [
        "## L’exploration des données du Data set en utilisant pandas."
      ],
      "metadata": {
        "id": "bfNC9J9XxwNp"
      }
    },
    {
      "cell_type": "code",
      "execution_count": 2,
      "metadata": {
        "id": "4xEpsr7gqe1B"
      },
      "outputs": [],
      "source": [
        "#  load data from CSV\n",
        "train = pd.read_csv(\"/content/sample_data/train.csv\")\n",
        "test = pd.read_csv(\"/content/sample_data/test.csv\")"
      ]
    },
    {
      "cell_type": "code",
      "execution_count": 3,
      "metadata": {
        "colab": {
          "base_uri": "https://localhost:8080/"
        },
        "id": "8qt21-fOqqQi",
        "outputId": "362033c3-8a23-49e5-f964-ac5593b7bea2"
      },
      "outputs": [
        {
          "output_type": "stream",
          "name": "stdout",
          "text": [
            "(12873, 190)\n"
          ]
        }
      ],
      "source": [
        "print(train.shape)"
      ]
    },
    {
      "cell_type": "code",
      "source": [
        "print(test.shape)"
      ],
      "metadata": {
        "colab": {
          "base_uri": "https://localhost:8080/"
        },
        "id": "sydx1p0a2HpL",
        "outputId": "7f7eecc8-4c79-4165-a10e-f1657bd1976b"
      },
      "execution_count": 4,
      "outputs": [
        {
          "output_type": "stream",
          "name": "stdout",
          "text": [
            "(8848, 189)\n"
          ]
        }
      ]
    },
    {
      "cell_type": "code",
      "execution_count": 5,
      "metadata": {
        "colab": {
          "base_uri": "https://localhost:8080/"
        },
        "id": "Ua5yq9liqqWE",
        "outputId": "b5a1234f-55b9-410b-cb00-5cb3a24718aa"
      },
      "outputs": [
        {
          "output_type": "stream",
          "name": "stdout",
          "text": [
            "<bound method DataFrame.info of              id target     home_team_name         away_team_name  \\\n",
            "0      11906497   away  Newell's Old Boys            River Plate   \n",
            "1      11984383   home        Real Estelí  Deportivo Las Sabanas   \n",
            "2      11983301   draw              UPNFM               Marathón   \n",
            "3      11983471   away               León                Morelia   \n",
            "4      11883005   home     Cobán Imperial                 Iztapa   \n",
            "...         ...    ...                ...                    ...   \n",
            "12868  11908577   away         Concarneau               Boulogne   \n",
            "12869  11908573   home       Bastia-Borgo        Gazélec Ajaccio   \n",
            "12870  11871407   draw           Le Havre                   Lens   \n",
            "12871  11908575   draw              Laval           Lyon Duchère   \n",
            "12872  11872123   home     MVV Maastricht               Jong PSV   \n",
            "\n",
            "            match_date       league_name  league_id  is_cup  \\\n",
            "0       12/1/2019 0:45         Superliga        636   False   \n",
            "1       12/1/2019 1:00  Primera Division        752   False   \n",
            "2       12/1/2019 1:00     Liga Nacional        734   False   \n",
            "3       12/1/2019 1:00           Liga MX        743   False   \n",
            "4       12/1/2019 1:00     Liga Nacional        705   False   \n",
            "...                ...               ...        ...     ...   \n",
            "12868  1/31/2020 19:00          National        313   False   \n",
            "12869  1/31/2020 19:00          National        313   False   \n",
            "12870  1/31/2020 19:00           Ligue 2        304   False   \n",
            "12871  1/31/2020 19:00          National        313   False   \n",
            "12872  1/31/2020 19:00    Eerste Divisie         74   False   \n",
            "\n",
            "       home_team_coach_id  away_team_coach_id  ...  \\\n",
            "0                468196.0            468200.0  ...   \n",
            "1                516788.0          22169161.0  ...   \n",
            "2               2510608.0            456313.0  ...   \n",
            "3               1552508.0            465797.0  ...   \n",
            "4                429958.0            426870.0  ...   \n",
            "...                   ...                 ...  ...   \n",
            "12868          28932745.0           1552334.0  ...   \n",
            "12869           1553075.0            896573.0  ...   \n",
            "12870           2823347.0            896551.0  ...   \n",
            "12871            456483.0          37260046.0  ...   \n",
            "12872          37257610.0             26258.0  ...   \n",
            "\n",
            "      away_team_history_league_id_1 away_team_history_league_id_2  \\\n",
            "0                            1122.0                         642.0   \n",
            "1                             752.0                         752.0   \n",
            "2                             734.0                         734.0   \n",
            "3                             743.0                         743.0   \n",
            "4                             705.0                         705.0   \n",
            "...                             ...                           ...   \n",
            "12868                         313.0                         313.0   \n",
            "12869                         313.0                         313.0   \n",
            "12870                         304.0                         304.0   \n",
            "12871                         313.0                         313.0   \n",
            "12872                           NaN                           NaN   \n",
            "\n",
            "      away_team_history_league_id_3 away_team_history_league_id_4  \\\n",
            "0                             636.0                         636.0   \n",
            "1                             752.0                         752.0   \n",
            "2                             734.0                         734.0   \n",
            "3                             743.0                         743.0   \n",
            "4                             705.0                         705.0   \n",
            "...                             ...                           ...   \n",
            "12868                         313.0                         313.0   \n",
            "12869                         313.0                         313.0   \n",
            "12870                         304.0                         304.0   \n",
            "12871                         313.0                         313.0   \n",
            "12872                           NaN                           NaN   \n",
            "\n",
            "      away_team_history_league_id_5 away_team_history_league_id_6  \\\n",
            "0                             636.0                        1122.0   \n",
            "1                             752.0                         752.0   \n",
            "2                             734.0                         734.0   \n",
            "3                             743.0                         743.0   \n",
            "4                             705.0                         705.0   \n",
            "...                             ...                           ...   \n",
            "12868                         313.0                         313.0   \n",
            "12869                         313.0                         307.0   \n",
            "12870                         307.0                         304.0   \n",
            "12871                         313.0                         313.0   \n",
            "12872                           NaN                           NaN   \n",
            "\n",
            "      away_team_history_league_id_7 away_team_history_league_id_8  \\\n",
            "0                             636.0                         642.0   \n",
            "1                             752.0                         752.0   \n",
            "2                             734.0                         734.0   \n",
            "3                             743.0                         743.0   \n",
            "4                             705.0                         705.0   \n",
            "...                             ...                           ...   \n",
            "12868                         307.0                         313.0   \n",
            "12869                         313.0                         313.0   \n",
            "12870                         304.0                         304.0   \n",
            "12871                         313.0                         313.0   \n",
            "12872                           NaN                           NaN   \n",
            "\n",
            "      away_team_history_league_id_9 away_team_history_league_id_10  \n",
            "0                             636.0                         1122.0  \n",
            "1                             752.0                          752.0  \n",
            "2                             734.0                          734.0  \n",
            "3                             746.0                          743.0  \n",
            "4                             705.0                          705.0  \n",
            "...                             ...                            ...  \n",
            "12868                         313.0                          313.0  \n",
            "12869                         313.0                          313.0  \n",
            "12870                         307.0                          304.0  \n",
            "12871                         313.0                          313.0  \n",
            "12872                           NaN                            NaN  \n",
            "\n",
            "[12873 rows x 190 columns]>\n"
          ]
        }
      ],
      "source": [
        "print(train.info)"
      ]
    },
    {
      "cell_type": "markdown",
      "source": [
        "## Le résumer statistique du Data Set "
      ],
      "metadata": {
        "id": "vrJ-xJvPx3LQ"
      }
    },
    {
      "cell_type": "code",
      "execution_count": 6,
      "metadata": {
        "colab": {
          "base_uri": "https://localhost:8080/",
          "height": 394
        },
        "id": "H104VnXTqqYw",
        "outputId": "011038c0-8dba-43e0-c3e2-c5e49334d5eb"
      },
      "outputs": [
        {
          "output_type": "execute_result",
          "data": {
            "text/plain": [
              "                 id     league_id  home_team_coach_id  away_team_coach_id  \\\n",
              "count  1.287300e+04  12873.000000        1.275500e+04        1.275500e+04   \n",
              "mean   1.194160e+07    893.847588        1.770749e+07        1.785615e+07   \n",
              "std    5.024559e+04    524.059033        1.710250e+07        1.708244e+07   \n",
              "min    1.142829e+07      2.000000        2.000000e+00        2.000000e+00   \n",
              "25%    1.190892e+07    432.000000        4.715320e+05        4.732085e+05   \n",
              "50%    1.194627e+07   1025.000000        1.030971e+07        1.171194e+07   \n",
              "75%    1.198289e+07   1271.000000        3.725251e+07        3.725251e+07   \n",
              "max    1.201625e+07   1786.000000        3.741043e+07        3.741056e+07   \n",
              "\n",
              "       home_team_history_is_play_home_1  home_team_history_is_play_home_2  \\\n",
              "count                      12706.000000                      12528.000000   \n",
              "mean                           0.324335                          0.547573   \n",
              "std                            0.468144                          0.497751   \n",
              "min                            0.000000                          0.000000   \n",
              "25%                            0.000000                          0.000000   \n",
              "50%                            0.000000                          1.000000   \n",
              "75%                            1.000000                          1.000000   \n",
              "max                            1.000000                          1.000000   \n",
              "\n",
              "       home_team_history_is_play_home_3  home_team_history_is_play_home_4  \\\n",
              "count                      12340.000000                      12178.000000   \n",
              "mean                           0.485413                          0.505584   \n",
              "std                            0.499807                          0.499989   \n",
              "min                            0.000000                          0.000000   \n",
              "25%                            0.000000                          0.000000   \n",
              "50%                            0.000000                          1.000000   \n",
              "75%                            1.000000                          1.000000   \n",
              "max                            1.000000                          1.000000   \n",
              "\n",
              "       home_team_history_is_play_home_5  home_team_history_is_play_home_6  \\\n",
              "count                      12012.000000                      11853.000000   \n",
              "mean                           0.492674                          0.507382   \n",
              "std                            0.499967                          0.499967   \n",
              "min                            0.000000                          0.000000   \n",
              "25%                            0.000000                          0.000000   \n",
              "50%                            0.000000                          1.000000   \n",
              "75%                            1.000000                          1.000000   \n",
              "max                            1.000000                          1.000000   \n",
              "\n",
              "       ...  away_team_history_league_id_1  away_team_history_league_id_2  \\\n",
              "count  ...                   12688.000000                   12477.000000   \n",
              "mean   ...                     865.892891                     844.585397   \n",
              "std    ...                     528.147486                     528.962305   \n",
              "min    ...                       2.000000                       2.000000   \n",
              "25%    ...                     384.000000                     372.000000   \n",
              "50%    ...                     947.000000                     902.000000   \n",
              "75%    ...                    1269.000000                    1265.000000   \n",
              "max    ...                    1784.000000                    1784.000000   \n",
              "\n",
              "       away_team_history_league_id_3  away_team_history_league_id_4  \\\n",
              "count                   12278.000000                   12086.000000   \n",
              "mean                      825.813569                     809.466490   \n",
              "std                       527.529287                     525.603769   \n",
              "min                         2.000000                       2.000000   \n",
              "25%                       343.000000                     328.000000   \n",
              "50%                       875.000000                     854.000000   \n",
              "75%                      1263.000000                    1261.000000   \n",
              "max                      1777.000000                    1777.000000   \n",
              "\n",
              "       away_team_history_league_id_5  away_team_history_league_id_6  \\\n",
              "count                   11915.000000                   11717.000000   \n",
              "mean                      800.629794                     791.737305   \n",
              "std                       523.573614                     521.812387   \n",
              "min                         2.000000                       2.000000   \n",
              "25%                       328.000000                     325.000000   \n",
              "50%                       830.000000                     827.000000   \n",
              "75%                      1258.000000                    1255.000000   \n",
              "max                      1777.000000                    1773.000000   \n",
              "\n",
              "       away_team_history_league_id_7  away_team_history_league_id_8  \\\n",
              "count                   11539.000000                   11318.000000   \n",
              "mean                      787.397608                     775.203923   \n",
              "std                       523.367859                     522.043173   \n",
              "min                         2.000000                       2.000000   \n",
              "25%                       313.000000                     304.000000   \n",
              "50%                       818.000000                     806.000000   \n",
              "75%                      1255.000000                    1254.000000   \n",
              "max                      1766.000000                    1759.000000   \n",
              "\n",
              "       away_team_history_league_id_9  away_team_history_league_id_10  \n",
              "count                   11100.000000                    10865.000000  \n",
              "mean                      771.364865                      761.671422  \n",
              "std                       523.061717                      522.089390  \n",
              "min                         2.000000                        2.000000  \n",
              "25%                       304.000000                      301.000000  \n",
              "50%                       770.000000                      743.000000  \n",
              "75%                      1253.000000                     1252.000000  \n",
              "max                      1759.000000                     1759.000000  \n",
              "\n",
              "[8 rows x 164 columns]"
            ],
            "text/html": [
              "\n",
              "  <div id=\"df-cfa2f4b0-af3d-4efe-a562-3258ebb350f2\">\n",
              "    <div class=\"colab-df-container\">\n",
              "      <div>\n",
              "<style scoped>\n",
              "    .dataframe tbody tr th:only-of-type {\n",
              "        vertical-align: middle;\n",
              "    }\n",
              "\n",
              "    .dataframe tbody tr th {\n",
              "        vertical-align: top;\n",
              "    }\n",
              "\n",
              "    .dataframe thead th {\n",
              "        text-align: right;\n",
              "    }\n",
              "</style>\n",
              "<table border=\"1\" class=\"dataframe\">\n",
              "  <thead>\n",
              "    <tr style=\"text-align: right;\">\n",
              "      <th></th>\n",
              "      <th>id</th>\n",
              "      <th>league_id</th>\n",
              "      <th>home_team_coach_id</th>\n",
              "      <th>away_team_coach_id</th>\n",
              "      <th>home_team_history_is_play_home_1</th>\n",
              "      <th>home_team_history_is_play_home_2</th>\n",
              "      <th>home_team_history_is_play_home_3</th>\n",
              "      <th>home_team_history_is_play_home_4</th>\n",
              "      <th>home_team_history_is_play_home_5</th>\n",
              "      <th>home_team_history_is_play_home_6</th>\n",
              "      <th>...</th>\n",
              "      <th>away_team_history_league_id_1</th>\n",
              "      <th>away_team_history_league_id_2</th>\n",
              "      <th>away_team_history_league_id_3</th>\n",
              "      <th>away_team_history_league_id_4</th>\n",
              "      <th>away_team_history_league_id_5</th>\n",
              "      <th>away_team_history_league_id_6</th>\n",
              "      <th>away_team_history_league_id_7</th>\n",
              "      <th>away_team_history_league_id_8</th>\n",
              "      <th>away_team_history_league_id_9</th>\n",
              "      <th>away_team_history_league_id_10</th>\n",
              "    </tr>\n",
              "  </thead>\n",
              "  <tbody>\n",
              "    <tr>\n",
              "      <th>count</th>\n",
              "      <td>1.287300e+04</td>\n",
              "      <td>12873.000000</td>\n",
              "      <td>1.275500e+04</td>\n",
              "      <td>1.275500e+04</td>\n",
              "      <td>12706.000000</td>\n",
              "      <td>12528.000000</td>\n",
              "      <td>12340.000000</td>\n",
              "      <td>12178.000000</td>\n",
              "      <td>12012.000000</td>\n",
              "      <td>11853.000000</td>\n",
              "      <td>...</td>\n",
              "      <td>12688.000000</td>\n",
              "      <td>12477.000000</td>\n",
              "      <td>12278.000000</td>\n",
              "      <td>12086.000000</td>\n",
              "      <td>11915.000000</td>\n",
              "      <td>11717.000000</td>\n",
              "      <td>11539.000000</td>\n",
              "      <td>11318.000000</td>\n",
              "      <td>11100.000000</td>\n",
              "      <td>10865.000000</td>\n",
              "    </tr>\n",
              "    <tr>\n",
              "      <th>mean</th>\n",
              "      <td>1.194160e+07</td>\n",
              "      <td>893.847588</td>\n",
              "      <td>1.770749e+07</td>\n",
              "      <td>1.785615e+07</td>\n",
              "      <td>0.324335</td>\n",
              "      <td>0.547573</td>\n",
              "      <td>0.485413</td>\n",
              "      <td>0.505584</td>\n",
              "      <td>0.492674</td>\n",
              "      <td>0.507382</td>\n",
              "      <td>...</td>\n",
              "      <td>865.892891</td>\n",
              "      <td>844.585397</td>\n",
              "      <td>825.813569</td>\n",
              "      <td>809.466490</td>\n",
              "      <td>800.629794</td>\n",
              "      <td>791.737305</td>\n",
              "      <td>787.397608</td>\n",
              "      <td>775.203923</td>\n",
              "      <td>771.364865</td>\n",
              "      <td>761.671422</td>\n",
              "    </tr>\n",
              "    <tr>\n",
              "      <th>std</th>\n",
              "      <td>5.024559e+04</td>\n",
              "      <td>524.059033</td>\n",
              "      <td>1.710250e+07</td>\n",
              "      <td>1.708244e+07</td>\n",
              "      <td>0.468144</td>\n",
              "      <td>0.497751</td>\n",
              "      <td>0.499807</td>\n",
              "      <td>0.499989</td>\n",
              "      <td>0.499967</td>\n",
              "      <td>0.499967</td>\n",
              "      <td>...</td>\n",
              "      <td>528.147486</td>\n",
              "      <td>528.962305</td>\n",
              "      <td>527.529287</td>\n",
              "      <td>525.603769</td>\n",
              "      <td>523.573614</td>\n",
              "      <td>521.812387</td>\n",
              "      <td>523.367859</td>\n",
              "      <td>522.043173</td>\n",
              "      <td>523.061717</td>\n",
              "      <td>522.089390</td>\n",
              "    </tr>\n",
              "    <tr>\n",
              "      <th>min</th>\n",
              "      <td>1.142829e+07</td>\n",
              "      <td>2.000000</td>\n",
              "      <td>2.000000e+00</td>\n",
              "      <td>2.000000e+00</td>\n",
              "      <td>0.000000</td>\n",
              "      <td>0.000000</td>\n",
              "      <td>0.000000</td>\n",
              "      <td>0.000000</td>\n",
              "      <td>0.000000</td>\n",
              "      <td>0.000000</td>\n",
              "      <td>...</td>\n",
              "      <td>2.000000</td>\n",
              "      <td>2.000000</td>\n",
              "      <td>2.000000</td>\n",
              "      <td>2.000000</td>\n",
              "      <td>2.000000</td>\n",
              "      <td>2.000000</td>\n",
              "      <td>2.000000</td>\n",
              "      <td>2.000000</td>\n",
              "      <td>2.000000</td>\n",
              "      <td>2.000000</td>\n",
              "    </tr>\n",
              "    <tr>\n",
              "      <th>25%</th>\n",
              "      <td>1.190892e+07</td>\n",
              "      <td>432.000000</td>\n",
              "      <td>4.715320e+05</td>\n",
              "      <td>4.732085e+05</td>\n",
              "      <td>0.000000</td>\n",
              "      <td>0.000000</td>\n",
              "      <td>0.000000</td>\n",
              "      <td>0.000000</td>\n",
              "      <td>0.000000</td>\n",
              "      <td>0.000000</td>\n",
              "      <td>...</td>\n",
              "      <td>384.000000</td>\n",
              "      <td>372.000000</td>\n",
              "      <td>343.000000</td>\n",
              "      <td>328.000000</td>\n",
              "      <td>328.000000</td>\n",
              "      <td>325.000000</td>\n",
              "      <td>313.000000</td>\n",
              "      <td>304.000000</td>\n",
              "      <td>304.000000</td>\n",
              "      <td>301.000000</td>\n",
              "    </tr>\n",
              "    <tr>\n",
              "      <th>50%</th>\n",
              "      <td>1.194627e+07</td>\n",
              "      <td>1025.000000</td>\n",
              "      <td>1.030971e+07</td>\n",
              "      <td>1.171194e+07</td>\n",
              "      <td>0.000000</td>\n",
              "      <td>1.000000</td>\n",
              "      <td>0.000000</td>\n",
              "      <td>1.000000</td>\n",
              "      <td>0.000000</td>\n",
              "      <td>1.000000</td>\n",
              "      <td>...</td>\n",
              "      <td>947.000000</td>\n",
              "      <td>902.000000</td>\n",
              "      <td>875.000000</td>\n",
              "      <td>854.000000</td>\n",
              "      <td>830.000000</td>\n",
              "      <td>827.000000</td>\n",
              "      <td>818.000000</td>\n",
              "      <td>806.000000</td>\n",
              "      <td>770.000000</td>\n",
              "      <td>743.000000</td>\n",
              "    </tr>\n",
              "    <tr>\n",
              "      <th>75%</th>\n",
              "      <td>1.198289e+07</td>\n",
              "      <td>1271.000000</td>\n",
              "      <td>3.725251e+07</td>\n",
              "      <td>3.725251e+07</td>\n",
              "      <td>1.000000</td>\n",
              "      <td>1.000000</td>\n",
              "      <td>1.000000</td>\n",
              "      <td>1.000000</td>\n",
              "      <td>1.000000</td>\n",
              "      <td>1.000000</td>\n",
              "      <td>...</td>\n",
              "      <td>1269.000000</td>\n",
              "      <td>1265.000000</td>\n",
              "      <td>1263.000000</td>\n",
              "      <td>1261.000000</td>\n",
              "      <td>1258.000000</td>\n",
              "      <td>1255.000000</td>\n",
              "      <td>1255.000000</td>\n",
              "      <td>1254.000000</td>\n",
              "      <td>1253.000000</td>\n",
              "      <td>1252.000000</td>\n",
              "    </tr>\n",
              "    <tr>\n",
              "      <th>max</th>\n",
              "      <td>1.201625e+07</td>\n",
              "      <td>1786.000000</td>\n",
              "      <td>3.741043e+07</td>\n",
              "      <td>3.741056e+07</td>\n",
              "      <td>1.000000</td>\n",
              "      <td>1.000000</td>\n",
              "      <td>1.000000</td>\n",
              "      <td>1.000000</td>\n",
              "      <td>1.000000</td>\n",
              "      <td>1.000000</td>\n",
              "      <td>...</td>\n",
              "      <td>1784.000000</td>\n",
              "      <td>1784.000000</td>\n",
              "      <td>1777.000000</td>\n",
              "      <td>1777.000000</td>\n",
              "      <td>1777.000000</td>\n",
              "      <td>1773.000000</td>\n",
              "      <td>1766.000000</td>\n",
              "      <td>1759.000000</td>\n",
              "      <td>1759.000000</td>\n",
              "      <td>1759.000000</td>\n",
              "    </tr>\n",
              "  </tbody>\n",
              "</table>\n",
              "<p>8 rows × 164 columns</p>\n",
              "</div>\n",
              "      <button class=\"colab-df-convert\" onclick=\"convertToInteractive('df-cfa2f4b0-af3d-4efe-a562-3258ebb350f2')\"\n",
              "              title=\"Convert this dataframe to an interactive table.\"\n",
              "              style=\"display:none;\">\n",
              "        \n",
              "  <svg xmlns=\"http://www.w3.org/2000/svg\" height=\"24px\"viewBox=\"0 0 24 24\"\n",
              "       width=\"24px\">\n",
              "    <path d=\"M0 0h24v24H0V0z\" fill=\"none\"/>\n",
              "    <path d=\"M18.56 5.44l.94 2.06.94-2.06 2.06-.94-2.06-.94-.94-2.06-.94 2.06-2.06.94zm-11 1L8.5 8.5l.94-2.06 2.06-.94-2.06-.94L8.5 2.5l-.94 2.06-2.06.94zm10 10l.94 2.06.94-2.06 2.06-.94-2.06-.94-.94-2.06-.94 2.06-2.06.94z\"/><path d=\"M17.41 7.96l-1.37-1.37c-.4-.4-.92-.59-1.43-.59-.52 0-1.04.2-1.43.59L10.3 9.45l-7.72 7.72c-.78.78-.78 2.05 0 2.83L4 21.41c.39.39.9.59 1.41.59.51 0 1.02-.2 1.41-.59l7.78-7.78 2.81-2.81c.8-.78.8-2.07 0-2.86zM5.41 20L4 18.59l7.72-7.72 1.47 1.35L5.41 20z\"/>\n",
              "  </svg>\n",
              "      </button>\n",
              "      \n",
              "  <style>\n",
              "    .colab-df-container {\n",
              "      display:flex;\n",
              "      flex-wrap:wrap;\n",
              "      gap: 12px;\n",
              "    }\n",
              "\n",
              "    .colab-df-convert {\n",
              "      background-color: #E8F0FE;\n",
              "      border: none;\n",
              "      border-radius: 50%;\n",
              "      cursor: pointer;\n",
              "      display: none;\n",
              "      fill: #1967D2;\n",
              "      height: 32px;\n",
              "      padding: 0 0 0 0;\n",
              "      width: 32px;\n",
              "    }\n",
              "\n",
              "    .colab-df-convert:hover {\n",
              "      background-color: #E2EBFA;\n",
              "      box-shadow: 0px 1px 2px rgba(60, 64, 67, 0.3), 0px 1px 3px 1px rgba(60, 64, 67, 0.15);\n",
              "      fill: #174EA6;\n",
              "    }\n",
              "\n",
              "    [theme=dark] .colab-df-convert {\n",
              "      background-color: #3B4455;\n",
              "      fill: #D2E3FC;\n",
              "    }\n",
              "\n",
              "    [theme=dark] .colab-df-convert:hover {\n",
              "      background-color: #434B5C;\n",
              "      box-shadow: 0px 1px 3px 1px rgba(0, 0, 0, 0.15);\n",
              "      filter: drop-shadow(0px 1px 2px rgba(0, 0, 0, 0.3));\n",
              "      fill: #FFFFFF;\n",
              "    }\n",
              "  </style>\n",
              "\n",
              "      <script>\n",
              "        const buttonEl =\n",
              "          document.querySelector('#df-cfa2f4b0-af3d-4efe-a562-3258ebb350f2 button.colab-df-convert');\n",
              "        buttonEl.style.display =\n",
              "          google.colab.kernel.accessAllowed ? 'block' : 'none';\n",
              "\n",
              "        async function convertToInteractive(key) {\n",
              "          const element = document.querySelector('#df-cfa2f4b0-af3d-4efe-a562-3258ebb350f2');\n",
              "          const dataTable =\n",
              "            await google.colab.kernel.invokeFunction('convertToInteractive',\n",
              "                                                     [key], {});\n",
              "          if (!dataTable) return;\n",
              "\n",
              "          const docLinkHtml = 'Like what you see? Visit the ' +\n",
              "            '<a target=\"_blank\" href=https://colab.research.google.com/notebooks/data_table.ipynb>data table notebook</a>'\n",
              "            + ' to learn more about interactive tables.';\n",
              "          element.innerHTML = '';\n",
              "          dataTable['output_type'] = 'display_data';\n",
              "          await google.colab.output.renderOutput(dataTable, element);\n",
              "          const docLink = document.createElement('div');\n",
              "          docLink.innerHTML = docLinkHtml;\n",
              "          element.appendChild(docLink);\n",
              "        }\n",
              "      </script>\n",
              "    </div>\n",
              "  </div>\n",
              "  "
            ]
          },
          "metadata": {},
          "execution_count": 6
        }
      ],
      "source": [
        "train.describe()"
      ]
    },
    {
      "cell_type": "markdown",
      "source": [
        "## L'affichage des nuages des points "
      ],
      "metadata": {
        "id": "OI7j3uwqzQyO"
      }
    },
    {
      "cell_type": "code",
      "source": [
        "plt.scatter(train.home_team_history_is_play_home_1,train.away_team_history_opponent_rating_1)"
      ],
      "metadata": {
        "colab": {
          "base_uri": "https://localhost:8080/",
          "height": 282
        },
        "id": "GTP5FDFpzaHs",
        "outputId": "d2a5c5b0-38ee-40e2-b2ae-bc9f9205b072"
      },
      "execution_count": 98,
      "outputs": [
        {
          "output_type": "execute_result",
          "data": {
            "text/plain": [
              "<matplotlib.collections.PathCollection at 0x7f8c35632b10>"
            ]
          },
          "metadata": {},
          "execution_count": 98
        },
        {
          "output_type": "display_data",
          "data": {
            "text/plain": [
              "<Figure size 432x288 with 1 Axes>"
            ],
            "image/png": "[encoded data removed]"
          },
          "metadata": {
            "needs_background": "light"
          }
        }
      ]
    },
    {
      "cell_type": "code",
      "source": [
        "train"
      ],
      "metadata": {
        "colab": {
          "base_uri": "https://localhost:8080/",
          "height": 661
        },
        "id": "OlF7LhODR2XR",
        "outputId": "612e32f8-7a68-47aa-9687-4b2c3302a1b3"
      },
      "execution_count": 9,
      "outputs": [
        {
          "output_type": "execute_result",
          "data": {
            "text/plain": [
              "             id target     home_team_name         away_team_name  \\\n",
              "0      11906497   away  Newell's Old Boys            River Plate   \n",
              "1      11984383   home        Real Estelí  Deportivo Las Sabanas   \n",
              "2      11983301   draw              UPNFM               Marathón   \n",
              "3      11983471   away               León                Morelia   \n",
              "4      11883005   home     Cobán Imperial                 Iztapa   \n",
              "...         ...    ...                ...                    ...   \n",
              "12868  11908577   away         Concarneau               Boulogne   \n",
              "12869  11908573   home       Bastia-Borgo        Gazélec Ajaccio   \n",
              "12870  11871407   draw           Le Havre                   Lens   \n",
              "12871  11908575   draw              Laval           Lyon Duchère   \n",
              "12872  11872123   home     MVV Maastricht               Jong PSV   \n",
              "\n",
              "            match_date       league_name  league_id  is_cup  \\\n",
              "0       12/1/2019 0:45         Superliga        636   False   \n",
              "1       12/1/2019 1:00  Primera Division        752   False   \n",
              "2       12/1/2019 1:00     Liga Nacional        734   False   \n",
              "3       12/1/2019 1:00           Liga MX        743   False   \n",
              "4       12/1/2019 1:00     Liga Nacional        705   False   \n",
              "...                ...               ...        ...     ...   \n",
              "12868  1/31/2020 19:00          National        313   False   \n",
              "12869  1/31/2020 19:00          National        313   False   \n",
              "12870  1/31/2020 19:00           Ligue 2        304   False   \n",
              "12871  1/31/2020 19:00          National        313   False   \n",
              "12872  1/31/2020 19:00    Eerste Divisie         74   False   \n",
              "\n",
              "       home_team_coach_id  away_team_coach_id  ...  \\\n",
              "0                468196.0            468200.0  ...   \n",
              "1                516788.0          22169161.0  ...   \n",
              "2               2510608.0            456313.0  ...   \n",
              "3               1552508.0            465797.0  ...   \n",
              "4                429958.0            426870.0  ...   \n",
              "...                   ...                 ...  ...   \n",
              "12868          28932745.0           1552334.0  ...   \n",
              "12869           1553075.0            896573.0  ...   \n",
              "12870           2823347.0            896551.0  ...   \n",
              "12871            456483.0          37260046.0  ...   \n",
              "12872          37257610.0             26258.0  ...   \n",
              "\n",
              "      away_team_history_league_id_1 away_team_history_league_id_2  \\\n",
              "0                            1122.0                         642.0   \n",
              "1                             752.0                         752.0   \n",
              "2                             734.0                         734.0   \n",
              "3                             743.0                         743.0   \n",
              "4                             705.0                         705.0   \n",
              "...                             ...                           ...   \n",
              "12868                         313.0                         313.0   \n",
              "12869                         313.0                         313.0   \n",
              "12870                         304.0                         304.0   \n",
              "12871                         313.0                         313.0   \n",
              "12872                           NaN                           NaN   \n",
              "\n",
              "      away_team_history_league_id_3 away_team_history_league_id_4  \\\n",
              "0                             636.0                         636.0   \n",
              "1                             752.0                         752.0   \n",
              "2                             734.0                         734.0   \n",
              "3                             743.0                         743.0   \n",
              "4                             705.0                         705.0   \n",
              "...                             ...                           ...   \n",
              "12868                         313.0                         313.0   \n",
              "12869                         313.0                         313.0   \n",
              "12870                         304.0                         304.0   \n",
              "12871                         313.0                         313.0   \n",
              "12872                           NaN                           NaN   \n",
              "\n",
              "      away_team_history_league_id_5 away_team_history_league_id_6  \\\n",
              "0                             636.0                        1122.0   \n",
              "1                             752.0                         752.0   \n",
              "2                             734.0                         734.0   \n",
              "3                             743.0                         743.0   \n",
              "4                             705.0                         705.0   \n",
              "...                             ...                           ...   \n",
              "12868                         313.0                         313.0   \n",
              "12869                         313.0                         307.0   \n",
              "12870                         307.0                         304.0   \n",
              "12871                         313.0                         313.0   \n",
              "12872                           NaN                           NaN   \n",
              "\n",
              "      away_team_history_league_id_7 away_team_history_league_id_8  \\\n",
              "0                             636.0                         642.0   \n",
              "1                             752.0                         752.0   \n",
              "2                             734.0                         734.0   \n",
              "3                             743.0                         743.0   \n",
              "4                             705.0                         705.0   \n",
              "...                             ...                           ...   \n",
              "12868                         307.0                         313.0   \n",
              "12869                         313.0                         313.0   \n",
              "12870                         304.0                         304.0   \n",
              "12871                         313.0                         313.0   \n",
              "12872                           NaN                           NaN   \n",
              "\n",
              "      away_team_history_league_id_9 away_team_history_league_id_10  \n",
              "0                             636.0                         1122.0  \n",
              "1                             752.0                          752.0  \n",
              "2                             734.0                          734.0  \n",
              "3                             746.0                          743.0  \n",
              "4                             705.0                          705.0  \n",
              "...                             ...                            ...  \n",
              "12868                         313.0                          313.0  \n",
              "12869                         313.0                          313.0  \n",
              "12870                         307.0                          304.0  \n",
              "12871                         313.0                          313.0  \n",
              "12872                           NaN                            NaN  \n",
              "\n",
              "[12873 rows x 190 columns]"
            ],
            "text/html": [
              "\n",
              "  <div id=\"df-60c812c4-1f63-4b0b-be45-9a0c6186f327\">\n",
              "    <div class=\"colab-df-container\">\n",
              "      <div>\n",
              "<style scoped>\n",
              "    .dataframe tbody tr th:only-of-type {\n",
              "        vertical-align: middle;\n",
              "    }\n",
              "\n",
              "    .dataframe tbody tr th {\n",
              "        vertical-align: top;\n",
              "    }\n",
              "\n",
              "    .dataframe thead th {\n",
              "        text-align: right;\n",
              "    }\n",
              "</style>\n",
              "<table border=\"1\" class=\"dataframe\">\n",
              "  <thead>\n",
              "    <tr style=\"text-align: right;\">\n",
              "      <th></th>\n",
              "      <th>id</th>\n",
              "      <th>target</th>\n",
              "      <th>home_team_name</th>\n",
              "      <th>away_team_name</th>\n",
              "      <th>match_date</th>\n",
              "      <th>league_name</th>\n",
              "      <th>league_id</th>\n",
              "      <th>is_cup</th>\n",
              "      <th>home_team_coach_id</th>\n",
              "      <th>away_team_coach_id</th>\n",
              "      <th>...</th>\n",
              "      <th>away_team_history_league_id_1</th>\n",
              "      <th>away_team_history_league_id_2</th>\n",
              "      <th>away_team_history_league_id_3</th>\n",
              "      <th>away_team_history_league_id_4</th>\n",
              "      <th>away_team_history_league_id_5</th>\n",
              "      <th>away_team_history_league_id_6</th>\n",
              "      <th>away_team_history_league_id_7</th>\n",
              "      <th>away_team_history_league_id_8</th>\n",
              "      <th>away_team_history_league_id_9</th>\n",
              "      <th>away_team_history_league_id_10</th>\n",
              "    </tr>\n",
              "  </thead>\n",
              "  <tbody>\n",
              "    <tr>\n",
              "      <th>0</th>\n",
              "      <td>11906497</td>\n",
              "      <td>away</td>\n",
              "      <td>Newell's Old Boys</td>\n",
              "      <td>River Plate</td>\n",
              "      <td>12/1/2019 0:45</td>\n",
              "      <td>Superliga</td>\n",
              "      <td>636</td>\n",
              "      <td>False</td>\n",
              "      <td>468196.0</td>\n",
              "      <td>468200.0</td>\n",
              "      <td>...</td>\n",
              "      <td>1122.0</td>\n",
              "      <td>642.0</td>\n",
              "      <td>636.0</td>\n",
              "      <td>636.0</td>\n",
              "      <td>636.0</td>\n",
              "      <td>1122.0</td>\n",
              "      <td>636.0</td>\n",
              "      <td>642.0</td>\n",
              "      <td>636.0</td>\n",
              "      <td>1122.0</td>\n",
              "    </tr>\n",
              "    <tr>\n",
              "      <th>1</th>\n",
              "      <td>11984383</td>\n",
              "      <td>home</td>\n",
              "      <td>Real Estelí</td>\n",
              "      <td>Deportivo Las Sabanas</td>\n",
              "      <td>12/1/2019 1:00</td>\n",
              "      <td>Primera Division</td>\n",
              "      <td>752</td>\n",
              "      <td>False</td>\n",
              "      <td>516788.0</td>\n",
              "      <td>22169161.0</td>\n",
              "      <td>...</td>\n",
              "      <td>752.0</td>\n",
              "      <td>752.0</td>\n",
              "      <td>752.0</td>\n",
              "      <td>752.0</td>\n",
              "      <td>752.0</td>\n",
              "      <td>752.0</td>\n",
              "      <td>752.0</td>\n",
              "      <td>752.0</td>\n",
              "      <td>752.0</td>\n",
              "      <td>752.0</td>\n",
              "    </tr>\n",
              "    <tr>\n",
              "      <th>2</th>\n",
              "      <td>11983301</td>\n",
              "      <td>draw</td>\n",
              "      <td>UPNFM</td>\n",
              "      <td>Marathón</td>\n",
              "      <td>12/1/2019 1:00</td>\n",
              "      <td>Liga Nacional</td>\n",
              "      <td>734</td>\n",
              "      <td>False</td>\n",
              "      <td>2510608.0</td>\n",
              "      <td>456313.0</td>\n",
              "      <td>...</td>\n",
              "      <td>734.0</td>\n",
              "      <td>734.0</td>\n",
              "      <td>734.0</td>\n",
              "      <td>734.0</td>\n",
              "      <td>734.0</td>\n",
              "      <td>734.0</td>\n",
              "      <td>734.0</td>\n",
              "      <td>734.0</td>\n",
              "      <td>734.0</td>\n",
              "      <td>734.0</td>\n",
              "    </tr>\n",
              "    <tr>\n",
              "      <th>3</th>\n",
              "      <td>11983471</td>\n",
              "      <td>away</td>\n",
              "      <td>León</td>\n",
              "      <td>Morelia</td>\n",
              "      <td>12/1/2019 1:00</td>\n",
              "      <td>Liga MX</td>\n",
              "      <td>743</td>\n",
              "      <td>False</td>\n",
              "      <td>1552508.0</td>\n",
              "      <td>465797.0</td>\n",
              "      <td>...</td>\n",
              "      <td>743.0</td>\n",
              "      <td>743.0</td>\n",
              "      <td>743.0</td>\n",
              "      <td>743.0</td>\n",
              "      <td>743.0</td>\n",
              "      <td>743.0</td>\n",
              "      <td>743.0</td>\n",
              "      <td>743.0</td>\n",
              "      <td>746.0</td>\n",
              "      <td>743.0</td>\n",
              "    </tr>\n",
              "    <tr>\n",
              "      <th>4</th>\n",
              "      <td>11883005</td>\n",
              "      <td>home</td>\n",
              "      <td>Cobán Imperial</td>\n",
              "      <td>Iztapa</td>\n",
              "      <td>12/1/2019 1:00</td>\n",
              "      <td>Liga Nacional</td>\n",
              "      <td>705</td>\n",
              "      <td>False</td>\n",
              "      <td>429958.0</td>\n",
              "      <td>426870.0</td>\n",
              "      <td>...</td>\n",
              "      <td>705.0</td>\n",
              "      <td>705.0</td>\n",
              "      <td>705.0</td>\n",
              "      <td>705.0</td>\n",
              "      <td>705.0</td>\n",
              "      <td>705.0</td>\n",
              "      <td>705.0</td>\n",
              "      <td>705.0</td>\n",
              "      <td>705.0</td>\n",
              "      <td>705.0</td>\n",
              "    </tr>\n",
              "    <tr>\n",
              "      <th>...</th>\n",
              "      <td>...</td>\n",
              "      <td>...</td>\n",
              "      <td>...</td>\n",
              "      <td>...</td>\n",
              "      <td>...</td>\n",
              "      <td>...</td>\n",
              "      <td>...</td>\n",
              "      <td>...</td>\n",
              "      <td>...</td>\n",
              "      <td>...</td>\n",
              "      <td>...</td>\n",
              "      <td>...</td>\n",
              "      <td>...</td>\n",
              "      <td>...</td>\n",
              "      <td>...</td>\n",
              "      <td>...</td>\n",
              "      <td>...</td>\n",
              "      <td>...</td>\n",
              "      <td>...</td>\n",
              "      <td>...</td>\n",
              "      <td>...</td>\n",
              "    </tr>\n",
              "    <tr>\n",
              "      <th>12868</th>\n",
              "      <td>11908577</td>\n",
              "      <td>away</td>\n",
              "      <td>Concarneau</td>\n",
              "      <td>Boulogne</td>\n",
              "      <td>1/31/2020 19:00</td>\n",
              "      <td>National</td>\n",
              "      <td>313</td>\n",
              "      <td>False</td>\n",
              "      <td>28932745.0</td>\n",
              "      <td>1552334.0</td>\n",
              "      <td>...</td>\n",
              "      <td>313.0</td>\n",
              "      <td>313.0</td>\n",
              "      <td>313.0</td>\n",
              "      <td>313.0</td>\n",
              "      <td>313.0</td>\n",
              "      <td>313.0</td>\n",
              "      <td>307.0</td>\n",
              "      <td>313.0</td>\n",
              "      <td>313.0</td>\n",
              "      <td>313.0</td>\n",
              "    </tr>\n",
              "    <tr>\n",
              "      <th>12869</th>\n",
              "      <td>11908573</td>\n",
              "      <td>home</td>\n",
              "      <td>Bastia-Borgo</td>\n",
              "      <td>Gazélec Ajaccio</td>\n",
              "      <td>1/31/2020 19:00</td>\n",
              "      <td>National</td>\n",
              "      <td>313</td>\n",
              "      <td>False</td>\n",
              "      <td>1553075.0</td>\n",
              "      <td>896573.0</td>\n",
              "      <td>...</td>\n",
              "      <td>313.0</td>\n",
              "      <td>313.0</td>\n",
              "      <td>313.0</td>\n",
              "      <td>313.0</td>\n",
              "      <td>313.0</td>\n",
              "      <td>307.0</td>\n",
              "      <td>313.0</td>\n",
              "      <td>313.0</td>\n",
              "      <td>313.0</td>\n",
              "      <td>313.0</td>\n",
              "    </tr>\n",
              "    <tr>\n",
              "      <th>12870</th>\n",
              "      <td>11871407</td>\n",
              "      <td>draw</td>\n",
              "      <td>Le Havre</td>\n",
              "      <td>Lens</td>\n",
              "      <td>1/31/2020 19:00</td>\n",
              "      <td>Ligue 2</td>\n",
              "      <td>304</td>\n",
              "      <td>False</td>\n",
              "      <td>2823347.0</td>\n",
              "      <td>896551.0</td>\n",
              "      <td>...</td>\n",
              "      <td>304.0</td>\n",
              "      <td>304.0</td>\n",
              "      <td>304.0</td>\n",
              "      <td>304.0</td>\n",
              "      <td>307.0</td>\n",
              "      <td>304.0</td>\n",
              "      <td>304.0</td>\n",
              "      <td>304.0</td>\n",
              "      <td>307.0</td>\n",
              "      <td>304.0</td>\n",
              "    </tr>\n",
              "    <tr>\n",
              "      <th>12871</th>\n",
              "      <td>11908575</td>\n",
              "      <td>draw</td>\n",
              "      <td>Laval</td>\n",
              "      <td>Lyon Duchère</td>\n",
              "      <td>1/31/2020 19:00</td>\n",
              "      <td>National</td>\n",
              "      <td>313</td>\n",
              "      <td>False</td>\n",
              "      <td>456483.0</td>\n",
              "      <td>37260046.0</td>\n",
              "      <td>...</td>\n",
              "      <td>313.0</td>\n",
              "      <td>313.0</td>\n",
              "      <td>313.0</td>\n",
              "      <td>313.0</td>\n",
              "      <td>313.0</td>\n",
              "      <td>313.0</td>\n",
              "      <td>313.0</td>\n",
              "      <td>313.0</td>\n",
              "      <td>313.0</td>\n",
              "      <td>313.0</td>\n",
              "    </tr>\n",
              "    <tr>\n",
              "      <th>12872</th>\n",
              "      <td>11872123</td>\n",
              "      <td>home</td>\n",
              "      <td>MVV Maastricht</td>\n",
              "      <td>Jong PSV</td>\n",
              "      <td>1/31/2020 19:00</td>\n",
              "      <td>Eerste Divisie</td>\n",
              "      <td>74</td>\n",
              "      <td>False</td>\n",
              "      <td>37257610.0</td>\n",
              "      <td>26258.0</td>\n",
              "      <td>...</td>\n",
              "      <td>NaN</td>\n",
              "      <td>NaN</td>\n",
              "      <td>NaN</td>\n",
              "      <td>NaN</td>\n",
              "      <td>NaN</td>\n",
              "      <td>NaN</td>\n",
              "      <td>NaN</td>\n",
              "      <td>NaN</td>\n",
              "      <td>NaN</td>\n",
              "      <td>NaN</td>\n",
              "    </tr>\n",
              "  </tbody>\n",
              "</table>\n",
              "<p>12873 rows × 190 columns</p>\n",
              "</div>\n",
              "      <button class=\"colab-df-convert\" onclick=\"convertToInteractive('df-60c812c4-1f63-4b0b-be45-9a0c6186f327')\"\n",
              "              title=\"Convert this dataframe to an interactive table.\"\n",
              "              style=\"display:none;\">\n",
              "        \n",
              "  <svg xmlns=\"http://www.w3.org/2000/svg\" height=\"24px\"viewBox=\"0 0 24 24\"\n",
              "       width=\"24px\">\n",
              "    <path d=\"M0 0h24v24H0V0z\" fill=\"none\"/>\n",
              "    <path d=\"M18.56 5.44l.94 2.06.94-2.06 2.06-.94-2.06-.94-.94-2.06-.94 2.06-2.06.94zm-11 1L8.5 8.5l.94-2.06 2.06-.94-2.06-.94L8.5 2.5l-.94 2.06-2.06.94zm10 10l.94 2.06.94-2.06 2.06-.94-2.06-.94-.94-2.06-.94 2.06-2.06.94z\"/><path d=\"M17.41 7.96l-1.37-1.37c-.4-.4-.92-.59-1.43-.59-.52 0-1.04.2-1.43.59L10.3 9.45l-7.72 7.72c-.78.78-.78 2.05 0 2.83L4 21.41c.39.39.9.59 1.41.59.51 0 1.02-.2 1.41-.59l7.78-7.78 2.81-2.81c.8-.78.8-2.07 0-2.86zM5.41 20L4 18.59l7.72-7.72 1.47 1.35L5.41 20z\"/>\n",
              "  </svg>\n",
              "      </button>\n",
              "      \n",
              "  <style>\n",
              "    .colab-df-container {\n",
              "      display:flex;\n",
              "      flex-wrap:wrap;\n",
              "      gap: 12px;\n",
              "    }\n",
              "\n",
              "    .colab-df-convert {\n",
              "      background-color: #E8F0FE;\n",
              "      border: none;\n",
              "      border-radius: 50%;\n",
              "      cursor: pointer;\n",
              "      display: none;\n",
              "      fill: #1967D2;\n",
              "      height: 32px;\n",
              "      padding: 0 0 0 0;\n",
              "      width: 32px;\n",
              "    }\n",
              "\n",
              "    .colab-df-convert:hover {\n",
              "      background-color: #E2EBFA;\n",
              "      box-shadow: 0px 1px 2px rgba(60, 64, 67, 0.3), 0px 1px 3px 1px rgba(60, 64, 67, 0.15);\n",
              "      fill: #174EA6;\n",
              "    }\n",
              "\n",
              "    [theme=dark] .colab-df-convert {\n",
              "      background-color: #3B4455;\n",
              "      fill: #D2E3FC;\n",
              "    }\n",
              "\n",
              "    [theme=dark] .colab-df-convert:hover {\n",
              "      background-color: #434B5C;\n",
              "      box-shadow: 0px 1px 3px 1px rgba(0, 0, 0, 0.15);\n",
              "      filter: drop-shadow(0px 1px 2px rgba(0, 0, 0, 0.3));\n",
              "      fill: #FFFFFF;\n",
              "    }\n",
              "  </style>\n",
              "\n",
              "      <script>\n",
              "        const buttonEl =\n",
              "          document.querySelector('#df-60c812c4-1f63-4b0b-be45-9a0c6186f327 button.colab-df-convert');\n",
              "        buttonEl.style.display =\n",
              "          google.colab.kernel.accessAllowed ? 'block' : 'none';\n",
              "\n",
              "        async function convertToInteractive(key) {\n",
              "          const element = document.querySelector('#df-60c812c4-1f63-4b0b-be45-9a0c6186f327');\n",
              "          const dataTable =\n",
              "            await google.colab.kernel.invokeFunction('convertToInteractive',\n",
              "                                                     [key], {});\n",
              "          if (!dataTable) return;\n",
              "\n",
              "          const docLinkHtml = 'Like what you see? Visit the ' +\n",
              "            '<a target=\"_blank\" href=https://colab.research.google.com/notebooks/data_table.ipynb>data table notebook</a>'\n",
              "            + ' to learn more about interactive tables.';\n",
              "          element.innerHTML = '';\n",
              "          dataTable['output_type'] = 'display_data';\n",
              "          await google.colab.output.renderOutput(dataTable, element);\n",
              "          const docLink = document.createElement('div');\n",
              "          docLink.innerHTML = docLinkHtml;\n",
              "          element.appendChild(docLink);\n",
              "        }\n",
              "      </script>\n",
              "    </div>\n",
              "  </div>\n",
              "  "
            ]
          },
          "metadata": {},
          "execution_count": 9
        }
      ]
    },
    {
      "cell_type": "code",
      "source": [
        "#Cenvert string value to boolean\n",
        "is_cup = [\"True\", \"False\", \"True\", \"True\", \"False\"] \n",
        "  \n",
        "print(\"The original list : \" + str(is_cup)) \n",
        "  \n",
        "res = list(map(lambda ele: ele == \"True\", is_cup)) \n",
        "  \n",
        "print(\"The converted Boolean values : \" + str(res))"
      ],
      "metadata": {
        "colab": {
          "base_uri": "https://localhost:8080/"
        },
        "id": "QesgXQZxRxu-",
        "outputId": "b117e158-aa0b-440a-f5d4-5478be2f47a6"
      },
      "execution_count": 10,
      "outputs": [
        {
          "output_type": "stream",
          "name": "stdout",
          "text": [
            "The original list : ['True', 'False', 'True', 'True', 'False']\n",
            "The converted Boolean values : [True, False, True, True, False]\n"
          ]
        }
      ]
    },
    {
      "cell_type": "code",
      "execution_count": 11,
      "metadata": {
        "id": "W52fm69iqqci"
      },
      "outputs": [],
      "source": [
        "#keep only some features\n",
        "new_data_train = train.drop(['home_team_name', 'away_team_name'], axis=1) #, inplace=True) # is_cup EXCLUDED\n",
        "# Exclude all date, league, coach columns\n",
        "new_data_train.drop(train.filter(regex='date').columns, axis=1, inplace = True)\n",
        "new_data_train.drop(train.filter(regex='league').columns, axis=1, inplace = True)\n",
        "new_data_train.drop(train.filter(regex='coach').columns, axis=1, inplace = True)"
      ]
    },
    {
      "cell_type": "code",
      "source": [
        "new_data_train"
      ],
      "metadata": {
        "colab": {
          "base_uri": "https://localhost:8080/",
          "height": 488
        },
        "id": "p5rnIaHBRwg2",
        "outputId": "ec24af4e-40a4-4760-a56b-73aa50f3bd5a"
      },
      "execution_count": 12,
      "outputs": [
        {
          "output_type": "execute_result",
          "data": {
            "text/plain": [
              "             id target  is_cup  home_team_history_is_play_home_1  \\\n",
              "0      11906497   away   False                               0.0   \n",
              "1      11984383   home   False                               1.0   \n",
              "2      11983301   draw   False                               0.0   \n",
              "3      11983471   away   False                               0.0   \n",
              "4      11883005   home   False                               0.0   \n",
              "...         ...    ...     ...                               ...   \n",
              "12868  11908577   away   False                               0.0   \n",
              "12869  11908573   home   False                               0.0   \n",
              "12870  11871407   draw   False                               1.0   \n",
              "12871  11908575   draw   False                               0.0   \n",
              "12872  11872123   home   False                               0.0   \n",
              "\n",
              "       home_team_history_is_play_home_2  home_team_history_is_play_home_3  \\\n",
              "0                                   1.0                               0.0   \n",
              "1                                   0.0                               1.0   \n",
              "2                                   1.0                               0.0   \n",
              "3                                   0.0                               1.0   \n",
              "4                                   1.0                               0.0   \n",
              "...                                 ...                               ...   \n",
              "12868                               1.0                               0.0   \n",
              "12869                               1.0                               1.0   \n",
              "12870                               0.0                               1.0   \n",
              "12871                               1.0                               0.0   \n",
              "12872                               1.0                               0.0   \n",
              "\n",
              "       home_team_history_is_play_home_4  home_team_history_is_play_home_5  \\\n",
              "0                                   1.0                               0.0   \n",
              "1                                   0.0                               1.0   \n",
              "2                                   1.0                               0.0   \n",
              "3                                   1.0                               0.0   \n",
              "4                                   1.0                               0.0   \n",
              "...                                 ...                               ...   \n",
              "12868                               1.0                               0.0   \n",
              "12869                               0.0                               0.0   \n",
              "12870                               0.0                               1.0   \n",
              "12871                               1.0                               0.0   \n",
              "12872                               1.0                               0.0   \n",
              "\n",
              "       home_team_history_is_play_home_6  home_team_history_is_play_home_7  \\\n",
              "0                                   1.0                               0.0   \n",
              "1                                   1.0                               0.0   \n",
              "2                                   1.0                               0.0   \n",
              "3                                   1.0                               0.0   \n",
              "4                                   1.0                               0.0   \n",
              "...                                 ...                               ...   \n",
              "12868                               1.0                               0.0   \n",
              "12869                               1.0                               0.0   \n",
              "12870                               0.0                               1.0   \n",
              "12871                               1.0                               0.0   \n",
              "12872                               1.0                               0.0   \n",
              "\n",
              "       ...  away_team_history_opponent_rating_1  \\\n",
              "0      ...                             5.253225   \n",
              "1      ...                             6.881762   \n",
              "2      ...                             5.487337   \n",
              "3      ...                             5.998800   \n",
              "4      ...                             5.575180   \n",
              "...    ...                                  ...   \n",
              "12868  ...                             4.305275   \n",
              "12869  ...                             3.678342   \n",
              "12870  ...                             3.650136   \n",
              "12871  ...                             4.867088   \n",
              "12872  ...                                  NaN   \n",
              "\n",
              "       away_team_history_opponent_rating_2  \\\n",
              "0                                 2.819962   \n",
              "1                                 6.840558   \n",
              "2                                 7.697712   \n",
              "3                                 6.548433   \n",
              "4                                 5.901842   \n",
              "...                                    ...   \n",
              "12868                             5.421500   \n",
              "12869                             4.524245   \n",
              "12870                             5.032269   \n",
              "12871                             5.825165   \n",
              "12872                                  NaN   \n",
              "\n",
              "       away_team_history_opponent_rating_3  \\\n",
              "0                                 3.114820   \n",
              "1                                 8.700363   \n",
              "2                                 4.186315   \n",
              "3                                 4.576617   \n",
              "4                                 5.751275   \n",
              "...                                    ...   \n",
              "12868                             4.991617   \n",
              "12869                             6.142694   \n",
              "12870                             2.802264   \n",
              "12871                             4.776544   \n",
              "12872                                  NaN   \n",
              "\n",
              "       away_team_history_opponent_rating_4  \\\n",
              "0                                 3.283603   \n",
              "1                                 5.156150   \n",
              "2                                 5.183071   \n",
              "3                                 8.342183   \n",
              "4                                 4.163600   \n",
              "...                                    ...   \n",
              "12868                             6.864350   \n",
              "12869                             5.968797   \n",
              "12870                             4.537529   \n",
              "12871                             4.928560   \n",
              "12872                                  NaN   \n",
              "\n",
              "       away_team_history_opponent_rating_5  \\\n",
              "0                                 2.574183   \n",
              "1                                 3.864878   \n",
              "2                                 6.176583   \n",
              "3                                 4.878850   \n",
              "4                                 8.559950   \n",
              "...                                    ...   \n",
              "12868                             4.561317   \n",
              "12869                             4.164942   \n",
              "12870                             3.968821   \n",
              "12871                             4.054137   \n",
              "12872                                  NaN   \n",
              "\n",
              "       away_team_history_opponent_rating_6  \\\n",
              "0                                 5.887331   \n",
              "1                                 6.237028   \n",
              "2                                 4.054209   \n",
              "3                                 6.208425   \n",
              "4                                 4.059211   \n",
              "...                                    ...   \n",
              "12868                             4.266373   \n",
              "12869                             4.697400   \n",
              "12870                             3.374376   \n",
              "12871                             5.069400   \n",
              "12872                                  NaN   \n",
              "\n",
              "       away_team_history_opponent_rating_7  \\\n",
              "0                                 4.570225   \n",
              "1                                 6.871904   \n",
              "2                                 4.650054   \n",
              "3                                 7.483589   \n",
              "4                                 8.935007   \n",
              "...                                    ...   \n",
              "12868                             7.372010   \n",
              "12869                             5.334936   \n",
              "12870                             4.006581   \n",
              "12871                             3.970109   \n",
              "12872                                  NaN   \n",
              "\n",
              "       away_team_history_opponent_rating_8  \\\n",
              "0                                 2.843268   \n",
              "1                                 5.716200   \n",
              "2                                 5.284983   \n",
              "3                                 5.587388   \n",
              "4                                 5.888077   \n",
              "...                                    ...   \n",
              "12868                             4.177341   \n",
              "12869                             5.510450   \n",
              "12870                             3.173963   \n",
              "12871                             4.940986   \n",
              "12872                                  NaN   \n",
              "\n",
              "       away_team_history_opponent_rating_9  \\\n",
              "0                                 3.057739   \n",
              "1                                 7.960465   \n",
              "2                                 5.299259   \n",
              "3                                 7.301455   \n",
              "4                                 4.413683   \n",
              "...                                    ...   \n",
              "12868                             4.769371   \n",
              "12869                             5.853711   \n",
              "12870                             3.828390   \n",
              "12871                             5.114317   \n",
              "12872                                  NaN   \n",
              "\n",
              "       away_team_history_opponent_rating_10  \n",
              "0                                  4.684664  \n",
              "1                                  9.994456  \n",
              "2                                  3.862791  \n",
              "3                                  7.766762  \n",
              "4                                  7.031962  \n",
              "...                                     ...  \n",
              "12868                              3.725611  \n",
              "12869                              4.247770  \n",
              "12870                              3.920891  \n",
              "12871                              4.181472  \n",
              "12872                                   NaN  \n",
              "\n",
              "[12873 rows x 123 columns]"
            ],
            "text/html": [
              "\n",
              "  <div id=\"df-11e204ec-b9a1-4660-8441-1e4c2e358b87\">\n",
              "    <div class=\"colab-df-container\">\n",
              "      <div>\n",
              "<style scoped>\n",
              "    .dataframe tbody tr th:only-of-type {\n",
              "        vertical-align: middle;\n",
              "    }\n",
              "\n",
              "    .dataframe tbody tr th {\n",
              "        vertical-align: top;\n",
              "    }\n",
              "\n",
              "    .dataframe thead th {\n",
              "        text-align: right;\n",
              "    }\n",
              "</style>\n",
              "<table border=\"1\" class=\"dataframe\">\n",
              "  <thead>\n",
              "    <tr style=\"text-align: right;\">\n",
              "      <th></th>\n",
              "      <th>id</th>\n",
              "      <th>target</th>\n",
              "      <th>is_cup</th>\n",
              "      <th>home_team_history_is_play_home_1</th>\n",
              "      <th>home_team_history_is_play_home_2</th>\n",
              "      <th>home_team_history_is_play_home_3</th>\n",
              "      <th>home_team_history_is_play_home_4</th>\n",
              "      <th>home_team_history_is_play_home_5</th>\n",
              "      <th>home_team_history_is_play_home_6</th>\n",
              "      <th>home_team_history_is_play_home_7</th>\n",
              "      <th>...</th>\n",
              "      <th>away_team_history_opponent_rating_1</th>\n",
              "      <th>away_team_history_opponent_rating_2</th>\n",
              "      <th>away_team_history_opponent_rating_3</th>\n",
              "      <th>away_team_history_opponent_rating_4</th>\n",
              "      <th>away_team_history_opponent_rating_5</th>\n",
              "      <th>away_team_history_opponent_rating_6</th>\n",
              "      <th>away_team_history_opponent_rating_7</th>\n",
              "      <th>away_team_history_opponent_rating_8</th>\n",
              "      <th>away_team_history_opponent_rating_9</th>\n",
              "      <th>away_team_history_opponent_rating_10</th>\n",
              "    </tr>\n",
              "  </thead>\n",
              "  <tbody>\n",
              "    <tr>\n",
              "      <th>0</th>\n",
              "      <td>11906497</td>\n",
              "      <td>away</td>\n",
              "      <td>False</td>\n",
              "      <td>0.0</td>\n",
              "      <td>1.0</td>\n",
              "      <td>0.0</td>\n",
              "      <td>1.0</td>\n",
              "      <td>0.0</td>\n",
              "      <td>1.0</td>\n",
              "      <td>0.0</td>\n",
              "      <td>...</td>\n",
              "      <td>5.253225</td>\n",
              "      <td>2.819962</td>\n",
              "      <td>3.114820</td>\n",
              "      <td>3.283603</td>\n",
              "      <td>2.574183</td>\n",
              "      <td>5.887331</td>\n",
              "      <td>4.570225</td>\n",
              "      <td>2.843268</td>\n",
              "      <td>3.057739</td>\n",
              "      <td>4.684664</td>\n",
              "    </tr>\n",
              "    <tr>\n",
              "      <th>1</th>\n",
              "      <td>11984383</td>\n",
              "      <td>home</td>\n",
              "      <td>False</td>\n",
              "      <td>1.0</td>\n",
              "      <td>0.0</td>\n",
              "      <td>1.0</td>\n",
              "      <td>0.0</td>\n",
              "      <td>1.0</td>\n",
              "      <td>1.0</td>\n",
              "      <td>0.0</td>\n",
              "      <td>...</td>\n",
              "      <td>6.881762</td>\n",
              "      <td>6.840558</td>\n",
              "      <td>8.700363</td>\n",
              "      <td>5.156150</td>\n",
              "      <td>3.864878</td>\n",
              "      <td>6.237028</td>\n",
              "      <td>6.871904</td>\n",
              "      <td>5.716200</td>\n",
              "      <td>7.960465</td>\n",
              "      <td>9.994456</td>\n",
              "    </tr>\n",
              "    <tr>\n",
              "      <th>2</th>\n",
              "      <td>11983301</td>\n",
              "      <td>draw</td>\n",
              "      <td>False</td>\n",
              "      <td>0.0</td>\n",
              "      <td>1.0</td>\n",
              "      <td>0.0</td>\n",
              "      <td>1.0</td>\n",
              "      <td>0.0</td>\n",
              "      <td>1.0</td>\n",
              "      <td>0.0</td>\n",
              "      <td>...</td>\n",
              "      <td>5.487337</td>\n",
              "      <td>7.697712</td>\n",
              "      <td>4.186315</td>\n",
              "      <td>5.183071</td>\n",
              "      <td>6.176583</td>\n",
              "      <td>4.054209</td>\n",
              "      <td>4.650054</td>\n",
              "      <td>5.284983</td>\n",
              "      <td>5.299259</td>\n",
              "      <td>3.862791</td>\n",
              "    </tr>\n",
              "    <tr>\n",
              "      <th>3</th>\n",
              "      <td>11983471</td>\n",
              "      <td>away</td>\n",
              "      <td>False</td>\n",
              "      <td>0.0</td>\n",
              "      <td>0.0</td>\n",
              "      <td>1.0</td>\n",
              "      <td>1.0</td>\n",
              "      <td>0.0</td>\n",
              "      <td>1.0</td>\n",
              "      <td>0.0</td>\n",
              "      <td>...</td>\n",
              "      <td>5.998800</td>\n",
              "      <td>6.548433</td>\n",
              "      <td>4.576617</td>\n",
              "      <td>8.342183</td>\n",
              "      <td>4.878850</td>\n",
              "      <td>6.208425</td>\n",
              "      <td>7.483589</td>\n",
              "      <td>5.587388</td>\n",
              "      <td>7.301455</td>\n",
              "      <td>7.766762</td>\n",
              "    </tr>\n",
              "    <tr>\n",
              "      <th>4</th>\n",
              "      <td>11883005</td>\n",
              "      <td>home</td>\n",
              "      <td>False</td>\n",
              "      <td>0.0</td>\n",
              "      <td>1.0</td>\n",
              "      <td>0.0</td>\n",
              "      <td>1.0</td>\n",
              "      <td>0.0</td>\n",
              "      <td>1.0</td>\n",
              "      <td>0.0</td>\n",
              "      <td>...</td>\n",
              "      <td>5.575180</td>\n",
              "      <td>5.901842</td>\n",
              "      <td>5.751275</td>\n",
              "      <td>4.163600</td>\n",
              "      <td>8.559950</td>\n",
              "      <td>4.059211</td>\n",
              "      <td>8.935007</td>\n",
              "      <td>5.888077</td>\n",
              "      <td>4.413683</td>\n",
              "      <td>7.031962</td>\n",
              "    </tr>\n",
              "    <tr>\n",
              "      <th>...</th>\n",
              "      <td>...</td>\n",
              "      <td>...</td>\n",
              "      <td>...</td>\n",
              "      <td>...</td>\n",
              "      <td>...</td>\n",
              "      <td>...</td>\n",
              "      <td>...</td>\n",
              "      <td>...</td>\n",
              "      <td>...</td>\n",
              "      <td>...</td>\n",
              "      <td>...</td>\n",
              "      <td>...</td>\n",
              "      <td>...</td>\n",
              "      <td>...</td>\n",
              "      <td>...</td>\n",
              "      <td>...</td>\n",
              "      <td>...</td>\n",
              "      <td>...</td>\n",
              "      <td>...</td>\n",
              "      <td>...</td>\n",
              "      <td>...</td>\n",
              "    </tr>\n",
              "    <tr>\n",
              "      <th>12868</th>\n",
              "      <td>11908577</td>\n",
              "      <td>away</td>\n",
              "      <td>False</td>\n",
              "      <td>0.0</td>\n",
              "      <td>1.0</td>\n",
              "      <td>0.0</td>\n",
              "      <td>1.0</td>\n",
              "      <td>0.0</td>\n",
              "      <td>1.0</td>\n",
              "      <td>0.0</td>\n",
              "      <td>...</td>\n",
              "      <td>4.305275</td>\n",
              "      <td>5.421500</td>\n",
              "      <td>4.991617</td>\n",
              "      <td>6.864350</td>\n",
              "      <td>4.561317</td>\n",
              "      <td>4.266373</td>\n",
              "      <td>7.372010</td>\n",
              "      <td>4.177341</td>\n",
              "      <td>4.769371</td>\n",
              "      <td>3.725611</td>\n",
              "    </tr>\n",
              "    <tr>\n",
              "      <th>12869</th>\n",
              "      <td>11908573</td>\n",
              "      <td>home</td>\n",
              "      <td>False</td>\n",
              "      <td>0.0</td>\n",
              "      <td>1.0</td>\n",
              "      <td>1.0</td>\n",
              "      <td>0.0</td>\n",
              "      <td>0.0</td>\n",
              "      <td>1.0</td>\n",
              "      <td>0.0</td>\n",
              "      <td>...</td>\n",
              "      <td>3.678342</td>\n",
              "      <td>4.524245</td>\n",
              "      <td>6.142694</td>\n",
              "      <td>5.968797</td>\n",
              "      <td>4.164942</td>\n",
              "      <td>4.697400</td>\n",
              "      <td>5.334936</td>\n",
              "      <td>5.510450</td>\n",
              "      <td>5.853711</td>\n",
              "      <td>4.247770</td>\n",
              "    </tr>\n",
              "    <tr>\n",
              "      <th>12870</th>\n",
              "      <td>11871407</td>\n",
              "      <td>draw</td>\n",
              "      <td>False</td>\n",
              "      <td>1.0</td>\n",
              "      <td>0.0</td>\n",
              "      <td>1.0</td>\n",
              "      <td>0.0</td>\n",
              "      <td>1.0</td>\n",
              "      <td>0.0</td>\n",
              "      <td>1.0</td>\n",
              "      <td>...</td>\n",
              "      <td>3.650136</td>\n",
              "      <td>5.032269</td>\n",
              "      <td>2.802264</td>\n",
              "      <td>4.537529</td>\n",
              "      <td>3.968821</td>\n",
              "      <td>3.374376</td>\n",
              "      <td>4.006581</td>\n",
              "      <td>3.173963</td>\n",
              "      <td>3.828390</td>\n",
              "      <td>3.920891</td>\n",
              "    </tr>\n",
              "    <tr>\n",
              "      <th>12871</th>\n",
              "      <td>11908575</td>\n",
              "      <td>draw</td>\n",
              "      <td>False</td>\n",
              "      <td>0.0</td>\n",
              "      <td>1.0</td>\n",
              "      <td>0.0</td>\n",
              "      <td>1.0</td>\n",
              "      <td>0.0</td>\n",
              "      <td>1.0</td>\n",
              "      <td>0.0</td>\n",
              "      <td>...</td>\n",
              "      <td>4.867088</td>\n",
              "      <td>5.825165</td>\n",
              "      <td>4.776544</td>\n",
              "      <td>4.928560</td>\n",
              "      <td>4.054137</td>\n",
              "      <td>5.069400</td>\n",
              "      <td>3.970109</td>\n",
              "      <td>4.940986</td>\n",
              "      <td>5.114317</td>\n",
              "      <td>4.181472</td>\n",
              "    </tr>\n",
              "    <tr>\n",
              "      <th>12872</th>\n",
              "      <td>11872123</td>\n",
              "      <td>home</td>\n",
              "      <td>False</td>\n",
              "      <td>0.0</td>\n",
              "      <td>1.0</td>\n",
              "      <td>0.0</td>\n",
              "      <td>1.0</td>\n",
              "      <td>0.0</td>\n",
              "      <td>1.0</td>\n",
              "      <td>0.0</td>\n",
              "      <td>...</td>\n",
              "      <td>NaN</td>\n",
              "      <td>NaN</td>\n",
              "      <td>NaN</td>\n",
              "      <td>NaN</td>\n",
              "      <td>NaN</td>\n",
              "      <td>NaN</td>\n",
              "      <td>NaN</td>\n",
              "      <td>NaN</td>\n",
              "      <td>NaN</td>\n",
              "      <td>NaN</td>\n",
              "    </tr>\n",
              "  </tbody>\n",
              "</table>\n",
              "<p>12873 rows × 123 columns</p>\n",
              "</div>\n",
              "      <button class=\"colab-df-convert\" onclick=\"convertToInteractive('df-11e204ec-b9a1-4660-8441-1e4c2e358b87')\"\n",
              "              title=\"Convert this dataframe to an interactive table.\"\n",
              "              style=\"display:none;\">\n",
              "        \n",
              "  <svg xmlns=\"http://www.w3.org/2000/svg\" height=\"24px\"viewBox=\"0 0 24 24\"\n",
              "       width=\"24px\">\n",
              "    <path d=\"M0 0h24v24H0V0z\" fill=\"none\"/>\n",
              "    <path d=\"M18.56 5.44l.94 2.06.94-2.06 2.06-.94-2.06-.94-.94-2.06-.94 2.06-2.06.94zm-11 1L8.5 8.5l.94-2.06 2.06-.94-2.06-.94L8.5 2.5l-.94 2.06-2.06.94zm10 10l.94 2.06.94-2.06 2.06-.94-2.06-.94-.94-2.06-.94 2.06-2.06.94z\"/><path d=\"M17.41 7.96l-1.37-1.37c-.4-.4-.92-.59-1.43-.59-.52 0-1.04.2-1.43.59L10.3 9.45l-7.72 7.72c-.78.78-.78 2.05 0 2.83L4 21.41c.39.39.9.59 1.41.59.51 0 1.02-.2 1.41-.59l7.78-7.78 2.81-2.81c.8-.78.8-2.07 0-2.86zM5.41 20L4 18.59l7.72-7.72 1.47 1.35L5.41 20z\"/>\n",
              "  </svg>\n",
              "      </button>\n",
              "      \n",
              "  <style>\n",
              "    .colab-df-container {\n",
              "      display:flex;\n",
              "      flex-wrap:wrap;\n",
              "      gap: 12px;\n",
              "    }\n",
              "\n",
              "    .colab-df-convert {\n",
              "      background-color: #E8F0FE;\n",
              "      border: none;\n",
              "      border-radius: 50%;\n",
              "      cursor: pointer;\n",
              "      display: none;\n",
              "      fill: #1967D2;\n",
              "      height: 32px;\n",
              "      padding: 0 0 0 0;\n",
              "      width: 32px;\n",
              "    }\n",
              "\n",
              "    .colab-df-convert:hover {\n",
              "      background-color: #E2EBFA;\n",
              "      box-shadow: 0px 1px 2px rgba(60, 64, 67, 0.3), 0px 1px 3px 1px rgba(60, 64, 67, 0.15);\n",
              "      fill: #174EA6;\n",
              "    }\n",
              "\n",
              "    [theme=dark] .colab-df-convert {\n",
              "      background-color: #3B4455;\n",
              "      fill: #D2E3FC;\n",
              "    }\n",
              "\n",
              "    [theme=dark] .colab-df-convert:hover {\n",
              "      background-color: #434B5C;\n",
              "      box-shadow: 0px 1px 3px 1px rgba(0, 0, 0, 0.15);\n",
              "      filter: drop-shadow(0px 1px 2px rgba(0, 0, 0, 0.3));\n",
              "      fill: #FFFFFF;\n",
              "    }\n",
              "  </style>\n",
              "\n",
              "      <script>\n",
              "        const buttonEl =\n",
              "          document.querySelector('#df-11e204ec-b9a1-4660-8441-1e4c2e358b87 button.colab-df-convert');\n",
              "        buttonEl.style.display =\n",
              "          google.colab.kernel.accessAllowed ? 'block' : 'none';\n",
              "\n",
              "        async function convertToInteractive(key) {\n",
              "          const element = document.querySelector('#df-11e204ec-b9a1-4660-8441-1e4c2e358b87');\n",
              "          const dataTable =\n",
              "            await google.colab.kernel.invokeFunction('convertToInteractive',\n",
              "                                                     [key], {});\n",
              "          if (!dataTable) return;\n",
              "\n",
              "          const docLinkHtml = 'Like what you see? Visit the ' +\n",
              "            '<a target=\"_blank\" href=https://colab.research.google.com/notebooks/data_table.ipynb>data table notebook</a>'\n",
              "            + ' to learn more about interactive tables.';\n",
              "          element.innerHTML = '';\n",
              "          dataTable['output_type'] = 'display_data';\n",
              "          await google.colab.output.renderOutput(dataTable, element);\n",
              "          const docLink = document.createElement('div');\n",
              "          docLink.innerHTML = docLinkHtml;\n",
              "          element.appendChild(docLink);\n",
              "        }\n",
              "      </script>\n",
              "    </div>\n",
              "  </div>\n",
              "  "
            ]
          },
          "metadata": {},
          "execution_count": 12
        }
      ]
    },
    {
      "cell_type": "code",
      "source": [
        "sns.countplot(x='is_cup', data=train)"
      ],
      "metadata": {
        "colab": {
          "base_uri": "https://localhost:8080/",
          "height": 301
        },
        "id": "PNX-w_rWTlg0",
        "outputId": "bcbfdf2f-afaa-41dc-b163-aa25c0187d7d"
      },
      "execution_count": 13,
      "outputs": [
        {
          "output_type": "execute_result",
          "data": {
            "text/plain": [
              "<matplotlib.axes._subplots.AxesSubplot at 0x7f8c3311c2d0>"
            ]
          },
          "metadata": {},
          "execution_count": 13
        },
        {
          "output_type": "display_data",
          "data": {
            "text/plain": [
              "<Figure size 432x288 with 1 Axes>"
            ],
            "image/png": "[encoded data removed]"
          },
          "metadata": {
            "needs_background": "light"
          }
        }
      ]
    },
    {
      "cell_type": "code",
      "source": [
        "sns.countplot(x='target', data=train)"
      ],
      "metadata": {
        "colab": {
          "base_uri": "https://localhost:8080/",
          "height": 296
        },
        "id": "LAzBtx1VjUoG",
        "outputId": "e9e61f83-8c42-491c-ab2b-44562aff1e3a"
      },
      "execution_count": 14,
      "outputs": [
        {
          "output_type": "execute_result",
          "data": {
            "text/plain": [
              "<matplotlib.axes._subplots.AxesSubplot at 0x7f8c33163190>"
            ]
          },
          "metadata": {},
          "execution_count": 14
        },
        {
          "output_type": "display_data",
          "data": {
            "text/plain": [
              "<Figure size 432x288 with 1 Axes>"
            ],
            "image/png": "[encoded data removed]"
          },
          "metadata": {
            "needs_background": "light"
          }
        }
      ]
    },
    {
      "cell_type": "code",
      "source": [
        "#keep only some features\n",
        "new_data_test = test.drop(['home_team_name', 'away_team_name'], axis=1) #, inplace=True) # is_cup EXCLUDED\n",
        "# Exclude all date, league, coach columns\n",
        "new_data_test.drop(test.filter(regex='date').columns, axis=1, inplace = True)\n",
        "new_data_test.drop(test.filter(regex='league').columns, axis=1, inplace = True)\n",
        "new_data_test.drop(test.filter(regex='coach').columns, axis=1, inplace = True)"
      ],
      "metadata": {
        "id": "Kq5Mr_IWof5s"
      },
      "execution_count": 15,
      "outputs": []
    },
    {
      "cell_type": "code",
      "execution_count": 16,
      "metadata": {
        "colab": {
          "base_uri": "https://localhost:8080/"
        },
        "id": "exa7PKAmq_1o",
        "outputId": "c8d30ff8-3f40-4cf0-af15-59e92732ee90"
      },
      "outputs": [
        {
          "output_type": "execute_result",
          "data": {
            "text/plain": [
              "id                                      False\n",
              "target                                  False\n",
              "is_cup                                  False\n",
              "home_team_history_is_play_home_1         True\n",
              "home_team_history_is_play_home_2         True\n",
              "                                        ...  \n",
              "away_team_history_opponent_rating_6      True\n",
              "away_team_history_opponent_rating_7      True\n",
              "away_team_history_opponent_rating_8      True\n",
              "away_team_history_opponent_rating_9      True\n",
              "away_team_history_opponent_rating_10     True\n",
              "Length: 123, dtype: bool"
            ]
          },
          "metadata": {},
          "execution_count": 16
        }
      ],
      "source": [
        "new_data_train.isnull().any()"
      ]
    },
    {
      "cell_type": "code",
      "execution_count": 17,
      "metadata": {
        "colab": {
          "base_uri": "https://localhost:8080/"
        },
        "id": "cZT1OswJwIi9",
        "outputId": "66690d1e-abb4-413c-b53f-a41977cf8be2"
      },
      "outputs": [
        {
          "output_type": "execute_result",
          "data": {
            "text/plain": [
              "id                                      False\n",
              "is_cup                                  False\n",
              "home_team_history_is_play_home_1         True\n",
              "home_team_history_is_play_home_2         True\n",
              "home_team_history_is_play_home_3         True\n",
              "                                        ...  \n",
              "away_team_history_opponent_rating_6      True\n",
              "away_team_history_opponent_rating_7      True\n",
              "away_team_history_opponent_rating_8      True\n",
              "away_team_history_opponent_rating_9      True\n",
              "away_team_history_opponent_rating_10     True\n",
              "Length: 122, dtype: bool"
            ]
          },
          "metadata": {},
          "execution_count": 17
        }
      ],
      "source": [
        "new_data_test.isnull().any()"
      ]
    },
    {
      "cell_type": "code",
      "execution_count": 18,
      "metadata": {
        "colab": {
          "base_uri": "https://localhost:8080/"
        },
        "id": "2_2WnE_3q_4b",
        "outputId": "0a89ba72-541c-4c5b-ca36-569eeb21ceed"
      },
      "outputs": [
        {
          "output_type": "execute_result",
          "data": {
            "text/plain": [
              "Index(['home_team_history_is_play_home_1', 'home_team_history_is_play_home_2',\n",
              "       'home_team_history_is_play_home_3', 'home_team_history_is_play_home_4',\n",
              "       'home_team_history_is_play_home_5', 'home_team_history_is_play_home_6',\n",
              "       'home_team_history_is_play_home_7', 'home_team_history_is_play_home_8',\n",
              "       'home_team_history_is_play_home_9', 'home_team_history_is_play_home_10',\n",
              "       ...\n",
              "       'away_team_history_opponent_rating_1',\n",
              "       'away_team_history_opponent_rating_2',\n",
              "       'away_team_history_opponent_rating_3',\n",
              "       'away_team_history_opponent_rating_4',\n",
              "       'away_team_history_opponent_rating_5',\n",
              "       'away_team_history_opponent_rating_6',\n",
              "       'away_team_history_opponent_rating_7',\n",
              "       'away_team_history_opponent_rating_8',\n",
              "       'away_team_history_opponent_rating_9',\n",
              "       'away_team_history_opponent_rating_10'],\n",
              "      dtype='object', length=120)"
            ]
          },
          "metadata": {},
          "execution_count": 18
        }
      ],
      "source": [
        "new_data_test.columns[new_data_test.isnull().any()]"
      ]
    },
    {
      "cell_type": "code",
      "source": [
        "new_data_test"
      ],
      "metadata": {
        "colab": {
          "base_uri": "https://localhost:8080/",
          "height": 488
        },
        "id": "Vyxx5Frm2B-R",
        "outputId": "3930f96d-99f2-4fa8-8067-75e4998fb3aa"
      },
      "execution_count": 19,
      "outputs": [
        {
          "output_type": "execute_result",
          "data": {
            "text/plain": [
              "            id  is_cup  home_team_history_is_play_home_1  \\\n",
              "0     17761448   False                               0.0   \n",
              "1     17695487   False                               0.0   \n",
              "2     17715496   False                               1.0   \n",
              "3     17715493   False                               0.0   \n",
              "4     17715492   False                               0.0   \n",
              "...        ...     ...                               ...   \n",
              "8843  18085099   False                               0.0   \n",
              "8844  18085097   False                               0.0   \n",
              "8845  17242709   False                               1.0   \n",
              "8846  18085095   False                               0.0   \n",
              "8847  18085098   False                               0.0   \n",
              "\n",
              "      home_team_history_is_play_home_2  home_team_history_is_play_home_3  \\\n",
              "0                                  0.0                               1.0   \n",
              "1                                  1.0                               1.0   \n",
              "2                                  0.0                               1.0   \n",
              "3                                  0.0                               1.0   \n",
              "4                                  0.0                               1.0   \n",
              "...                                ...                               ...   \n",
              "8843                               1.0                               0.0   \n",
              "8844                               1.0                               1.0   \n",
              "8845                               1.0                               1.0   \n",
              "8846                               0.0                               1.0   \n",
              "8847                               1.0                               0.0   \n",
              "\n",
              "      home_team_history_is_play_home_4  home_team_history_is_play_home_5  \\\n",
              "0                                  1.0                               0.0   \n",
              "1                                  0.0                               1.0   \n",
              "2                                  0.0                               0.0   \n",
              "3                                  0.0                               1.0   \n",
              "4                                  0.0                               1.0   \n",
              "...                                ...                               ...   \n",
              "8843                               1.0                               0.0   \n",
              "8844                               0.0                               0.0   \n",
              "8845                               0.0                               0.0   \n",
              "8846                               0.0                               1.0   \n",
              "8847                               0.0                               1.0   \n",
              "\n",
              "      home_team_history_is_play_home_6  home_team_history_is_play_home_7  \\\n",
              "0                                  0.0                               0.0   \n",
              "1                                  0.0                               0.0   \n",
              "2                                  1.0                               0.0   \n",
              "3                                  0.0                               0.0   \n",
              "4                                  0.0                               1.0   \n",
              "...                                ...                               ...   \n",
              "8843                               1.0                               0.0   \n",
              "8844                               1.0                               0.0   \n",
              "8845                               1.0                               0.0   \n",
              "8846                               0.0                               1.0   \n",
              "8847                               1.0                               1.0   \n",
              "\n",
              "      home_team_history_is_play_home_8  ...  \\\n",
              "0                                  0.0  ...   \n",
              "1                                  1.0  ...   \n",
              "2                                  1.0  ...   \n",
              "3                                  1.0  ...   \n",
              "4                                  0.0  ...   \n",
              "...                                ...  ...   \n",
              "8843                               1.0  ...   \n",
              "8844                               1.0  ...   \n",
              "8845                               1.0  ...   \n",
              "8846                               0.0  ...   \n",
              "8847                               0.0  ...   \n",
              "\n",
              "      away_team_history_opponent_rating_1  \\\n",
              "0                                4.721590   \n",
              "1                                4.459100   \n",
              "2                                7.091122   \n",
              "3                                3.790810   \n",
              "4                                6.000775   \n",
              "...                                   ...   \n",
              "8843                             4.007680   \n",
              "8844                             3.590624   \n",
              "8845                             3.210950   \n",
              "8846                             3.820614   \n",
              "8847                                  NaN   \n",
              "\n",
              "      away_team_history_opponent_rating_2  \\\n",
              "0                                6.953965   \n",
              "1                                4.543053   \n",
              "2                                5.880817   \n",
              "3                                3.562960   \n",
              "4                                7.648230   \n",
              "...                                   ...   \n",
              "8843                             6.455658   \n",
              "8844                             4.850037   \n",
              "8845                             3.148440   \n",
              "8846                             4.396505   \n",
              "8847                                  NaN   \n",
              "\n",
              "      away_team_history_opponent_rating_3  \\\n",
              "0                                6.535228   \n",
              "1                                4.861583   \n",
              "2                                7.727192   \n",
              "3                                4.655450   \n",
              "4                                5.580242   \n",
              "...                                   ...   \n",
              "8843                             5.608300   \n",
              "8844                             3.259702   \n",
              "8845                             3.291400   \n",
              "8846                             7.544776   \n",
              "8847                                  NaN   \n",
              "\n",
              "      away_team_history_opponent_rating_4  \\\n",
              "0                                5.782611   \n",
              "1                                5.082300   \n",
              "2                                3.754163   \n",
              "3                                4.232500   \n",
              "4                                6.971550   \n",
              "...                                   ...   \n",
              "8843                             7.383336   \n",
              "8844                             3.934419   \n",
              "8845                            11.684252   \n",
              "8846                             8.538368   \n",
              "8847                                  NaN   \n",
              "\n",
              "      away_team_history_opponent_rating_5  \\\n",
              "0                                7.538950   \n",
              "1                                9.011000   \n",
              "2                                6.756878   \n",
              "3                                3.999711   \n",
              "4                                5.624680   \n",
              "...                                   ...   \n",
              "8843                             5.945269   \n",
              "8844                             4.387054   \n",
              "8845                             5.804956   \n",
              "8846                             4.629244   \n",
              "8847                                  NaN   \n",
              "\n",
              "      away_team_history_opponent_rating_6  \\\n",
              "0                                8.428800   \n",
              "1                                6.621075   \n",
              "2                                7.167800   \n",
              "3                                4.095675   \n",
              "4                                5.733725   \n",
              "...                                   ...   \n",
              "8843                             7.173248   \n",
              "8844                             2.725050   \n",
              "8845                             5.080637   \n",
              "8846                             3.061412   \n",
              "8847                                  NaN   \n",
              "\n",
              "      away_team_history_opponent_rating_7  \\\n",
              "0                                4.922229   \n",
              "1                                4.141575   \n",
              "2                                8.135642   \n",
              "3                                3.746925   \n",
              "4                                4.453211   \n",
              "...                                   ...   \n",
              "8843                             5.652190   \n",
              "8844                             3.729041   \n",
              "8845                             6.965300   \n",
              "8846                             3.470452   \n",
              "8847                                  NaN   \n",
              "\n",
              "      away_team_history_opponent_rating_8  \\\n",
              "0                                6.796484   \n",
              "1                                5.056690   \n",
              "2                                     NaN   \n",
              "3                                4.952475   \n",
              "4                                8.787767   \n",
              "...                                   ...   \n",
              "8843                             9.085503   \n",
              "8844                             3.367843   \n",
              "8845                             5.994717   \n",
              "8846                             4.884133   \n",
              "8847                                  NaN   \n",
              "\n",
              "      away_team_history_opponent_rating_9  \\\n",
              "0                                3.809293   \n",
              "1                                6.625557   \n",
              "2                                4.635817   \n",
              "3                                4.894475   \n",
              "4                                8.194879   \n",
              "...                                   ...   \n",
              "8843                             4.960186   \n",
              "8844                             5.019950   \n",
              "8845                             8.599784   \n",
              "8846                             3.094850   \n",
              "8847                                  NaN   \n",
              "\n",
              "      away_team_history_opponent_rating_10  \n",
              "0                                 6.721784  \n",
              "1                                 5.895073  \n",
              "2                                 5.381225  \n",
              "3                                 6.120000  \n",
              "4                                 7.362907  \n",
              "...                                    ...  \n",
              "8843                              7.295618  \n",
              "8844                              2.988996  \n",
              "8845                              3.510467  \n",
              "8846                              4.570055  \n",
              "8847                                   NaN  \n",
              "\n",
              "[8848 rows x 122 columns]"
            ],
            "text/html": [
              "\n",
              "  <div id=\"df-1513014a-cbff-40f1-854e-7d39f852fb9b\">\n",
              "    <div class=\"colab-df-container\">\n",
              "      <div>\n",
              "<style scoped>\n",
              "    .dataframe tbody tr th:only-of-type {\n",
              "        vertical-align: middle;\n",
              "    }\n",
              "\n",
              "    .dataframe tbody tr th {\n",
              "        vertical-align: top;\n",
              "    }\n",
              "\n",
              "    .dataframe thead th {\n",
              "        text-align: right;\n",
              "    }\n",
              "</style>\n",
              "<table border=\"1\" class=\"dataframe\">\n",
              "  <thead>\n",
              "    <tr style=\"text-align: right;\">\n",
              "      <th></th>\n",
              "      <th>id</th>\n",
              "      <th>is_cup</th>\n",
              "      <th>home_team_history_is_play_home_1</th>\n",
              "      <th>home_team_history_is_play_home_2</th>\n",
              "      <th>home_team_history_is_play_home_3</th>\n",
              "      <th>home_team_history_is_play_home_4</th>\n",
              "      <th>home_team_history_is_play_home_5</th>\n",
              "      <th>home_team_history_is_play_home_6</th>\n",
              "      <th>home_team_history_is_play_home_7</th>\n",
              "      <th>home_team_history_is_play_home_8</th>\n",
              "      <th>...</th>\n",
              "      <th>away_team_history_opponent_rating_1</th>\n",
              "      <th>away_team_history_opponent_rating_2</th>\n",
              "      <th>away_team_history_opponent_rating_3</th>\n",
              "      <th>away_team_history_opponent_rating_4</th>\n",
              "      <th>away_team_history_opponent_rating_5</th>\n",
              "      <th>away_team_history_opponent_rating_6</th>\n",
              "      <th>away_team_history_opponent_rating_7</th>\n",
              "      <th>away_team_history_opponent_rating_8</th>\n",
              "      <th>away_team_history_opponent_rating_9</th>\n",
              "      <th>away_team_history_opponent_rating_10</th>\n",
              "    </tr>\n",
              "  </thead>\n",
              "  <tbody>\n",
              "    <tr>\n",
              "      <th>0</th>\n",
              "      <td>17761448</td>\n",
              "      <td>False</td>\n",
              "      <td>0.0</td>\n",
              "      <td>0.0</td>\n",
              "      <td>1.0</td>\n",
              "      <td>1.0</td>\n",
              "      <td>0.0</td>\n",
              "      <td>0.0</td>\n",
              "      <td>0.0</td>\n",
              "      <td>0.0</td>\n",
              "      <td>...</td>\n",
              "      <td>4.721590</td>\n",
              "      <td>6.953965</td>\n",
              "      <td>6.535228</td>\n",
              "      <td>5.782611</td>\n",
              "      <td>7.538950</td>\n",
              "      <td>8.428800</td>\n",
              "      <td>4.922229</td>\n",
              "      <td>6.796484</td>\n",
              "      <td>3.809293</td>\n",
              "      <td>6.721784</td>\n",
              "    </tr>\n",
              "    <tr>\n",
              "      <th>1</th>\n",
              "      <td>17695487</td>\n",
              "      <td>False</td>\n",
              "      <td>0.0</td>\n",
              "      <td>1.0</td>\n",
              "      <td>1.0</td>\n",
              "      <td>0.0</td>\n",
              "      <td>1.0</td>\n",
              "      <td>0.0</td>\n",
              "      <td>0.0</td>\n",
              "      <td>1.0</td>\n",
              "      <td>...</td>\n",
              "      <td>4.459100</td>\n",
              "      <td>4.543053</td>\n",
              "      <td>4.861583</td>\n",
              "      <td>5.082300</td>\n",
              "      <td>9.011000</td>\n",
              "      <td>6.621075</td>\n",
              "      <td>4.141575</td>\n",
              "      <td>5.056690</td>\n",
              "      <td>6.625557</td>\n",
              "      <td>5.895073</td>\n",
              "    </tr>\n",
              "    <tr>\n",
              "      <th>2</th>\n",
              "      <td>17715496</td>\n",
              "      <td>False</td>\n",
              "      <td>1.0</td>\n",
              "      <td>0.0</td>\n",
              "      <td>1.0</td>\n",
              "      <td>0.0</td>\n",
              "      <td>0.0</td>\n",
              "      <td>1.0</td>\n",
              "      <td>0.0</td>\n",
              "      <td>1.0</td>\n",
              "      <td>...</td>\n",
              "      <td>7.091122</td>\n",
              "      <td>5.880817</td>\n",
              "      <td>7.727192</td>\n",
              "      <td>3.754163</td>\n",
              "      <td>6.756878</td>\n",
              "      <td>7.167800</td>\n",
              "      <td>8.135642</td>\n",
              "      <td>NaN</td>\n",
              "      <td>4.635817</td>\n",
              "      <td>5.381225</td>\n",
              "    </tr>\n",
              "    <tr>\n",
              "      <th>3</th>\n",
              "      <td>17715493</td>\n",
              "      <td>False</td>\n",
              "      <td>0.0</td>\n",
              "      <td>0.0</td>\n",
              "      <td>1.0</td>\n",
              "      <td>0.0</td>\n",
              "      <td>1.0</td>\n",
              "      <td>0.0</td>\n",
              "      <td>0.0</td>\n",
              "      <td>1.0</td>\n",
              "      <td>...</td>\n",
              "      <td>3.790810</td>\n",
              "      <td>3.562960</td>\n",
              "      <td>4.655450</td>\n",
              "      <td>4.232500</td>\n",
              "      <td>3.999711</td>\n",
              "      <td>4.095675</td>\n",
              "      <td>3.746925</td>\n",
              "      <td>4.952475</td>\n",
              "      <td>4.894475</td>\n",
              "      <td>6.120000</td>\n",
              "    </tr>\n",
              "    <tr>\n",
              "      <th>4</th>\n",
              "      <td>17715492</td>\n",
              "      <td>False</td>\n",
              "      <td>0.0</td>\n",
              "      <td>0.0</td>\n",
              "      <td>1.0</td>\n",
              "      <td>0.0</td>\n",
              "      <td>1.0</td>\n",
              "      <td>0.0</td>\n",
              "      <td>1.0</td>\n",
              "      <td>0.0</td>\n",
              "      <td>...</td>\n",
              "      <td>6.000775</td>\n",
              "      <td>7.648230</td>\n",
              "      <td>5.580242</td>\n",
              "      <td>6.971550</td>\n",
              "      <td>5.624680</td>\n",
              "      <td>5.733725</td>\n",
              "      <td>4.453211</td>\n",
              "      <td>8.787767</td>\n",
              "      <td>8.194879</td>\n",
              "      <td>7.362907</td>\n",
              "    </tr>\n",
              "    <tr>\n",
              "      <th>...</th>\n",
              "      <td>...</td>\n",
              "      <td>...</td>\n",
              "      <td>...</td>\n",
              "      <td>...</td>\n",
              "      <td>...</td>\n",
              "      <td>...</td>\n",
              "      <td>...</td>\n",
              "      <td>...</td>\n",
              "      <td>...</td>\n",
              "      <td>...</td>\n",
              "      <td>...</td>\n",
              "      <td>...</td>\n",
              "      <td>...</td>\n",
              "      <td>...</td>\n",
              "      <td>...</td>\n",
              "      <td>...</td>\n",
              "      <td>...</td>\n",
              "      <td>...</td>\n",
              "      <td>...</td>\n",
              "      <td>...</td>\n",
              "      <td>...</td>\n",
              "    </tr>\n",
              "    <tr>\n",
              "      <th>8843</th>\n",
              "      <td>18085099</td>\n",
              "      <td>False</td>\n",
              "      <td>0.0</td>\n",
              "      <td>1.0</td>\n",
              "      <td>0.0</td>\n",
              "      <td>1.0</td>\n",
              "      <td>0.0</td>\n",
              "      <td>1.0</td>\n",
              "      <td>0.0</td>\n",
              "      <td>1.0</td>\n",
              "      <td>...</td>\n",
              "      <td>4.007680</td>\n",
              "      <td>6.455658</td>\n",
              "      <td>5.608300</td>\n",
              "      <td>7.383336</td>\n",
              "      <td>5.945269</td>\n",
              "      <td>7.173248</td>\n",
              "      <td>5.652190</td>\n",
              "      <td>9.085503</td>\n",
              "      <td>4.960186</td>\n",
              "      <td>7.295618</td>\n",
              "    </tr>\n",
              "    <tr>\n",
              "      <th>8844</th>\n",
              "      <td>18085097</td>\n",
              "      <td>False</td>\n",
              "      <td>0.0</td>\n",
              "      <td>1.0</td>\n",
              "      <td>1.0</td>\n",
              "      <td>0.0</td>\n",
              "      <td>0.0</td>\n",
              "      <td>1.0</td>\n",
              "      <td>0.0</td>\n",
              "      <td>1.0</td>\n",
              "      <td>...</td>\n",
              "      <td>3.590624</td>\n",
              "      <td>4.850037</td>\n",
              "      <td>3.259702</td>\n",
              "      <td>3.934419</td>\n",
              "      <td>4.387054</td>\n",
              "      <td>2.725050</td>\n",
              "      <td>3.729041</td>\n",
              "      <td>3.367843</td>\n",
              "      <td>5.019950</td>\n",
              "      <td>2.988996</td>\n",
              "    </tr>\n",
              "    <tr>\n",
              "      <th>8845</th>\n",
              "      <td>17242709</td>\n",
              "      <td>False</td>\n",
              "      <td>1.0</td>\n",
              "      <td>1.0</td>\n",
              "      <td>1.0</td>\n",
              "      <td>0.0</td>\n",
              "      <td>0.0</td>\n",
              "      <td>1.0</td>\n",
              "      <td>0.0</td>\n",
              "      <td>1.0</td>\n",
              "      <td>...</td>\n",
              "      <td>3.210950</td>\n",
              "      <td>3.148440</td>\n",
              "      <td>3.291400</td>\n",
              "      <td>11.684252</td>\n",
              "      <td>5.804956</td>\n",
              "      <td>5.080637</td>\n",
              "      <td>6.965300</td>\n",
              "      <td>5.994717</td>\n",
              "      <td>8.599784</td>\n",
              "      <td>3.510467</td>\n",
              "    </tr>\n",
              "    <tr>\n",
              "      <th>8846</th>\n",
              "      <td>18085095</td>\n",
              "      <td>False</td>\n",
              "      <td>0.0</td>\n",
              "      <td>0.0</td>\n",
              "      <td>1.0</td>\n",
              "      <td>0.0</td>\n",
              "      <td>1.0</td>\n",
              "      <td>0.0</td>\n",
              "      <td>1.0</td>\n",
              "      <td>0.0</td>\n",
              "      <td>...</td>\n",
              "      <td>3.820614</td>\n",
              "      <td>4.396505</td>\n",
              "      <td>7.544776</td>\n",
              "      <td>8.538368</td>\n",
              "      <td>4.629244</td>\n",
              "      <td>3.061412</td>\n",
              "      <td>3.470452</td>\n",
              "      <td>4.884133</td>\n",
              "      <td>3.094850</td>\n",
              "      <td>4.570055</td>\n",
              "    </tr>\n",
              "    <tr>\n",
              "      <th>8847</th>\n",
              "      <td>18085098</td>\n",
              "      <td>False</td>\n",
              "      <td>0.0</td>\n",
              "      <td>1.0</td>\n",
              "      <td>0.0</td>\n",
              "      <td>0.0</td>\n",
              "      <td>1.0</td>\n",
              "      <td>1.0</td>\n",
              "      <td>1.0</td>\n",
              "      <td>0.0</td>\n",
              "      <td>...</td>\n",
              "      <td>NaN</td>\n",
              "      <td>NaN</td>\n",
              "      <td>NaN</td>\n",
              "      <td>NaN</td>\n",
              "      <td>NaN</td>\n",
              "      <td>NaN</td>\n",
              "      <td>NaN</td>\n",
              "      <td>NaN</td>\n",
              "      <td>NaN</td>\n",
              "      <td>NaN</td>\n",
              "    </tr>\n",
              "  </tbody>\n",
              "</table>\n",
              "<p>8848 rows × 122 columns</p>\n",
              "</div>\n",
              "      <button class=\"colab-df-convert\" onclick=\"convertToInteractive('df-1513014a-cbff-40f1-854e-7d39f852fb9b')\"\n",
              "              title=\"Convert this dataframe to an interactive table.\"\n",
              "              style=\"display:none;\">\n",
              "        \n",
              "  <svg xmlns=\"http://www.w3.org/2000/svg\" height=\"24px\"viewBox=\"0 0 24 24\"\n",
              "       width=\"24px\">\n",
              "    <path d=\"M0 0h24v24H0V0z\" fill=\"none\"/>\n",
              "    <path d=\"M18.56 5.44l.94 2.06.94-2.06 2.06-.94-2.06-.94-.94-2.06-.94 2.06-2.06.94zm-11 1L8.5 8.5l.94-2.06 2.06-.94-2.06-.94L8.5 2.5l-.94 2.06-2.06.94zm10 10l.94 2.06.94-2.06 2.06-.94-2.06-.94-.94-2.06-.94 2.06-2.06.94z\"/><path d=\"M17.41 7.96l-1.37-1.37c-.4-.4-.92-.59-1.43-.59-.52 0-1.04.2-1.43.59L10.3 9.45l-7.72 7.72c-.78.78-.78 2.05 0 2.83L4 21.41c.39.39.9.59 1.41.59.51 0 1.02-.2 1.41-.59l7.78-7.78 2.81-2.81c.8-.78.8-2.07 0-2.86zM5.41 20L4 18.59l7.72-7.72 1.47 1.35L5.41 20z\"/>\n",
              "  </svg>\n",
              "      </button>\n",
              "      \n",
              "  <style>\n",
              "    .colab-df-container {\n",
              "      display:flex;\n",
              "      flex-wrap:wrap;\n",
              "      gap: 12px;\n",
              "    }\n",
              "\n",
              "    .colab-df-convert {\n",
              "      background-color: #E8F0FE;\n",
              "      border: none;\n",
              "      border-radius: 50%;\n",
              "      cursor: pointer;\n",
              "      display: none;\n",
              "      fill: #1967D2;\n",
              "      height: 32px;\n",
              "      padding: 0 0 0 0;\n",
              "      width: 32px;\n",
              "    }\n",
              "\n",
              "    .colab-df-convert:hover {\n",
              "      background-color: #E2EBFA;\n",
              "      box-shadow: 0px 1px 2px rgba(60, 64, 67, 0.3), 0px 1px 3px 1px rgba(60, 64, 67, 0.15);\n",
              "      fill: #174EA6;\n",
              "    }\n",
              "\n",
              "    [theme=dark] .colab-df-convert {\n",
              "      background-color: #3B4455;\n",
              "      fill: #D2E3FC;\n",
              "    }\n",
              "\n",
              "    [theme=dark] .colab-df-convert:hover {\n",
              "      background-color: #434B5C;\n",
              "      box-shadow: 0px 1px 3px 1px rgba(0, 0, 0, 0.15);\n",
              "      filter: drop-shadow(0px 1px 2px rgba(0, 0, 0, 0.3));\n",
              "      fill: #FFFFFF;\n",
              "    }\n",
              "  </style>\n",
              "\n",
              "      <script>\n",
              "        const buttonEl =\n",
              "          document.querySelector('#df-1513014a-cbff-40f1-854e-7d39f852fb9b button.colab-df-convert');\n",
              "        buttonEl.style.display =\n",
              "          google.colab.kernel.accessAllowed ? 'block' : 'none';\n",
              "\n",
              "        async function convertToInteractive(key) {\n",
              "          const element = document.querySelector('#df-1513014a-cbff-40f1-854e-7d39f852fb9b');\n",
              "          const dataTable =\n",
              "            await google.colab.kernel.invokeFunction('convertToInteractive',\n",
              "                                                     [key], {});\n",
              "          if (!dataTable) return;\n",
              "\n",
              "          const docLinkHtml = 'Like what you see? Visit the ' +\n",
              "            '<a target=\"_blank\" href=https://colab.research.google.com/notebooks/data_table.ipynb>data table notebook</a>'\n",
              "            + ' to learn more about interactive tables.';\n",
              "          element.innerHTML = '';\n",
              "          dataTable['output_type'] = 'display_data';\n",
              "          await google.colab.output.renderOutput(dataTable, element);\n",
              "          const docLink = document.createElement('div');\n",
              "          docLink.innerHTML = docLinkHtml;\n",
              "          element.appendChild(docLink);\n",
              "        }\n",
              "      </script>\n",
              "    </div>\n",
              "  </div>\n",
              "  "
            ]
          },
          "metadata": {},
          "execution_count": 19
        }
      ]
    },
    {
      "cell_type": "code",
      "execution_count": 20,
      "metadata": {
        "colab": {
          "base_uri": "https://localhost:8080/"
        },
        "id": "2Pg1Qo5XrF3G",
        "outputId": "c53a08eb-6489-422c-f7a5-a22b7f6bef51"
      },
      "outputs": [
        {
          "output_type": "execute_result",
          "data": {
            "text/plain": [
              "id                                         0\n",
              "target                                     0\n",
              "is_cup                                     0\n",
              "home_team_history_is_play_home_1         167\n",
              "home_team_history_is_play_home_2         345\n",
              "                                        ... \n",
              "away_team_history_opponent_rating_6     1156\n",
              "away_team_history_opponent_rating_7     1334\n",
              "away_team_history_opponent_rating_8     1555\n",
              "away_team_history_opponent_rating_9     1773\n",
              "away_team_history_opponent_rating_10    2008\n",
              "Length: 123, dtype: int64"
            ]
          },
          "metadata": {},
          "execution_count": 20
        }
      ],
      "source": [
        "new_data_train.isnull().sum()"
      ]
    },
    {
      "cell_type": "code",
      "execution_count": 21,
      "metadata": {
        "colab": {
          "base_uri": "https://localhost:8080/"
        },
        "id": "XSQ9ra_2wIjA",
        "outputId": "177c157e-488f-4f75-bff5-7da91b964843"
      },
      "outputs": [
        {
          "output_type": "execute_result",
          "data": {
            "text/plain": [
              "id                                        0\n",
              "is_cup                                    0\n",
              "home_team_history_is_play_home_1         26\n",
              "home_team_history_is_play_home_2         65\n",
              "home_team_history_is_play_home_3        105\n",
              "                                       ... \n",
              "away_team_history_opponent_rating_6     325\n",
              "away_team_history_opponent_rating_7     404\n",
              "away_team_history_opponent_rating_8     489\n",
              "away_team_history_opponent_rating_9     566\n",
              "away_team_history_opponent_rating_10    632\n",
              "Length: 122, dtype: int64"
            ]
          },
          "metadata": {},
          "execution_count": 21
        }
      ],
      "source": [
        "new_data_test.isnull().sum()"
      ]
    },
    {
      "cell_type": "code",
      "execution_count": 22,
      "metadata": {
        "colab": {
          "base_uri": "https://localhost:8080/"
        },
        "id": "MO7aVzkEx_KV",
        "outputId": "aafaa226-0866-4fe2-d9f9-9e74ae73dc3b"
      },
      "outputs": [
        {
          "output_type": "stream",
          "name": "stderr",
          "text": [
            "/usr/local/lib/python3.7/dist-packages/ipykernel_launcher.py:1: FutureWarning: Dropping of nuisance columns in DataFrame reductions (with 'numeric_only=None') is deprecated; in a future version this will raise TypeError.  Select only valid columns before calling the reduction.\n",
            "  \"\"\"Entry point for launching an IPython kernel.\n"
          ]
        }
      ],
      "source": [
        "new_data_train = new_data_train.fillna(new_data_train.mean())"
      ]
    },
    {
      "cell_type": "markdown",
      "source": [
        "### features selection SelectKBest\n",
        "\n",
        "\n"
      ],
      "metadata": {
        "id": "zgZ4Cs64qk_4"
      }
    },
    {
      "cell_type": "code",
      "source": [
        "\n",
        "import pandas as pd\n",
        "from sklearn.feature_selection import SelectKBest, f_classif\n",
        "#Suppose, we select 5 features with top 5 Fisher scores\n",
        "selector = SelectKBest(f_classif, k = 50)\n",
        "#New dataframe with the selected features for later use in the classifier. fit() method works too, if you want only the feature names and their corresponding scores\n",
        "y= new_data_train['target']\n",
        "X = new_data_train.iloc[:,50:]\n",
        "X.shape\n",
        "\n",
        "X_new = SelectKBest(chi2, k=50).fit_transform(X, y)\n",
        "X_new.shape\n",
        "X_new = selector.fit_transform(X, y)\n",
        "names = X.columns.values[selector.get_support()]\n",
        "scores = selector.scores_[selector.get_support()]\n",
        "names_scores = list(zip(names, scores))\n",
        "ns_df = pd.DataFrame(data = names_scores, columns=['Feat_names', 'F_Scores'])\n",
        "#Sort the dataframe for better visualization\n",
        "ns_df_sorted = ns_df.sort_values(['F_Scores', 'Feat_names'], ascending = [False, True])\n",
        "print(ns_df_sorted)"
      ],
      "metadata": {
        "colab": {
          "base_uri": "https://localhost:8080/"
        },
        "id": "tAagvJSiT3ZM",
        "outputId": "809c6887-8789-49c3-97e2-273cafe95588"
      },
      "execution_count": 23,
      "outputs": [
        {
          "output_type": "stream",
          "name": "stdout",
          "text": [
            "                              Feat_names    F_Scores\n",
            "30            away_team_history_rating_1  113.379568\n",
            "4    home_team_history_opponent_rating_2  105.750253\n",
            "33            away_team_history_rating_4  101.861596\n",
            "3    home_team_history_opponent_rating_1   95.400907\n",
            "34            away_team_history_rating_5   94.495748\n",
            "31            away_team_history_rating_2   92.358576\n",
            "32            away_team_history_rating_3   92.017635\n",
            "35            away_team_history_rating_6   90.749307\n",
            "5    home_team_history_opponent_rating_3   85.292339\n",
            "36            away_team_history_rating_7   78.371218\n",
            "38            away_team_history_rating_9   76.462993\n",
            "37            away_team_history_rating_8   76.108854\n",
            "39           away_team_history_rating_10   76.076673\n",
            "6    home_team_history_opponent_rating_4   75.857275\n",
            "7    home_team_history_opponent_rating_5   74.731091\n",
            "40   away_team_history_opponent_rating_1   67.406640\n",
            "8    home_team_history_opponent_rating_6   59.046754\n",
            "10   home_team_history_opponent_rating_8   55.655713\n",
            "42   away_team_history_opponent_rating_3   51.255987\n",
            "45   away_team_history_opponent_rating_6   48.894250\n",
            "41   away_team_history_opponent_rating_2   48.139842\n",
            "44   away_team_history_opponent_rating_5   45.027278\n",
            "43   away_team_history_opponent_rating_4   44.548494\n",
            "9    home_team_history_opponent_rating_7   43.143811\n",
            "2            home_team_history_rating_10   40.732304\n",
            "46   away_team_history_opponent_rating_7   40.306825\n",
            "49  away_team_history_opponent_rating_10   37.579511\n",
            "11   home_team_history_opponent_rating_9   37.133943\n",
            "17              away_team_history_goal_5   35.032282\n",
            "47   away_team_history_opponent_rating_8   34.441131\n",
            "16              away_team_history_goal_4   34.260540\n",
            "0             home_team_history_rating_8   31.992113\n",
            "12  home_team_history_opponent_rating_10   31.308896\n",
            "48   away_team_history_opponent_rating_9   31.289181\n",
            "19              away_team_history_goal_7   31.126045\n",
            "15              away_team_history_goal_3   30.370131\n",
            "27     away_team_history_opponent_goal_6   29.880431\n",
            "23     away_team_history_opponent_goal_1   29.022312\n",
            "25     away_team_history_opponent_goal_3   28.183720\n",
            "22             away_team_history_goal_10   27.086811\n",
            "1             home_team_history_rating_9   26.079688\n",
            "14              away_team_history_goal_2   25.946017\n",
            "13              away_team_history_goal_1   23.740811\n",
            "20              away_team_history_goal_8   23.034458\n",
            "18              away_team_history_goal_6   21.907110\n",
            "24     away_team_history_opponent_goal_2   21.231019\n",
            "29    away_team_history_opponent_goal_10   20.574499\n",
            "28     away_team_history_opponent_goal_7   20.110227\n",
            "26     away_team_history_opponent_goal_4   18.878020\n",
            "21              away_team_history_goal_9   18.122215\n"
          ]
        }
      ]
    },
    {
      "cell_type": "code",
      "execution_count": 24,
      "metadata": {
        "id": "aO-OmK6VwIjB"
      },
      "outputs": [],
      "source": [
        "new_data_test = new_data_test.fillna(new_data_test.mean())"
      ]
    },
    {
      "cell_type": "markdown",
      "source": [
        "## PCA (Pour réduire les dimensions de la base de données)"
      ],
      "metadata": {
        "id": "PKncBqt7qbmJ"
      }
    },
    {
      "cell_type": "code",
      "execution_count": 25,
      "metadata": {
        "id": "6ieqVcZZ6YDz"
      },
      "outputs": [],
      "source": [
        "features = ['home_team_history_is_play_home_1', 'home_team_history_is_play_home_2','home_team_history_is_play_home_3','home_team_history_is_play_home_4','home_team_history_is_play_home_5','home_team_history_is_play_home_6','home_team_history_is_play_home_7','home_team_history_is_play_home_8','home_team_history_is_play_home_9','home_team_history_is_play_home_10',]"
      ]
    },
    {
      "cell_type": "code",
      "execution_count": 26,
      "metadata": {
        "colab": {
          "base_uri": "https://localhost:8080/"
        },
        "id": "2pZpITZJ9kZh",
        "outputId": "176a5917-7971-4493-8008-b05455f8ff8b"
      },
      "outputs": [
        {
          "output_type": "stream",
          "name": "stdout",
          "text": [
            "[[-3.0710157 ]\n",
            " [ 0.14990596]\n",
            " [-3.0710157 ]\n",
            " ...\n",
            " [ 1.37006967]\n",
            " [-3.0710157 ]\n",
            " [-2.61273284]]\n"
          ]
        }
      ],
      "source": [
        "x = new_data_train.loc[:, features].values\n",
        "y = new_data_train.loc[:, ['target']].values\n",
        "x = StandardScaler().fit_transform(x)\n",
        "pca = PCA(n_components=1)\n",
        "principalComponents = pca.fit_transform(x)\n",
        "principalDataframe = pd.DataFrame(data= principalComponents, columns = ['HTHPH'])\n",
        "targetDataframe = new_data_train[['target']]\n",
        "newDataframe1 = pd.concat([principalDataframe, targetDataframe],axis = 1)\n",
        "print(principalComponents)"
      ]
    },
    {
      "cell_type": "code",
      "source": [
        "x = new_data_test.loc[:, features].values\n",
        "y = new_data_test.loc[:, ['id']].values\n",
        "x = StandardScaler().fit_transform(x)\n",
        "pca = PCA(n_components=1)\n",
        "principalComponents = pca.fit_transform(x)\n",
        "principalDataframe = pd.DataFrame(data= principalComponents, columns = ['HTHPH'])\n",
        "targetDataframe = new_data_test[['id']]\n",
        "newDataframe2 = pd.concat([principalDataframe, targetDataframe],axis = 1)\n",
        "print(principalComponents)"
      ],
      "metadata": {
        "colab": {
          "base_uri": "https://localhost:8080/"
        },
        "id": "hoGo2GaoVaSI",
        "outputId": "725428d3-bf30-4c75-fd6d-97d3ab4b0297"
      },
      "execution_count": 27,
      "outputs": [
        {
          "output_type": "stream",
          "name": "stdout",
          "text": [
            "[[ 0.33402883]\n",
            " [ 0.14076218]\n",
            " [-0.43273078]\n",
            " ...\n",
            " [-1.00947499]\n",
            " [ 2.99644567]\n",
            " [ 0.41834346]]\n"
          ]
        }
      ]
    },
    {
      "cell_type": "code",
      "execution_count": 28,
      "metadata": {
        "id": "URcYe-x69od9"
      },
      "outputs": [],
      "source": [
        "new_data_train['X_HTHPH'] = newDataframe1.HTHPH"
      ]
    },
    {
      "cell_type": "code",
      "source": [
        "new_data_test['X_HTHPH'] = newDataframe2.HTHPH"
      ],
      "metadata": {
        "id": "LGQZ6rxoVu0R"
      },
      "execution_count": 29,
      "outputs": []
    },
    {
      "cell_type": "code",
      "execution_count": 30,
      "metadata": {
        "id": "xqeBrcwp9sZ8"
      },
      "outputs": [],
      "source": [
        "features1 = ['away_team_history_opponent_rating_1','away_team_history_opponent_rating_2','away_team_history_opponent_rating_3','away_team_history_opponent_rating_4','away_team_history_opponent_rating_5','away_team_history_opponent_rating_6','away_team_history_opponent_rating_7','away_team_history_opponent_rating_8','away_team_history_opponent_rating_9','away_team_history_opponent_rating_10']"
      ]
    },
    {
      "cell_type": "code",
      "execution_count": 31,
      "metadata": {
        "id": "xUUzDpqR9tEq",
        "colab": {
          "base_uri": "https://localhost:8080/"
        },
        "outputId": "4ed6f473-8351-484f-c634-30a8af6201b0"
      },
      "outputs": [
        {
          "output_type": "stream",
          "name": "stdout",
          "text": [
            "[[-7.79747155e+00]\n",
            " [ 1.47473396e+00]\n",
            " [-3.18888714e+00]\n",
            " ...\n",
            " [-7.63545486e+00]\n",
            " [-4.62913336e+00]\n",
            " [-6.92531296e-15]]\n"
          ]
        }
      ],
      "source": [
        "x = new_data_train.loc[:, features1].values\n",
        "y = new_data_train.loc[:, ['target']].values\n",
        "# x = StandardScaler().fit_transform(x)\n",
        "pca = PCA(n_components=1)\n",
        "principalComponents = pca.fit_transform(x)\n",
        "principalDataframe = pd.DataFrame(data = principalComponents, columns = ['ATHOR'])\n",
        "targetDataframe = new_data_train[['target']]\n",
        "newDataframe1 = pd.concat([principalDataframe, targetDataframe],axis = 1)\n",
        "print(principalComponents)"
      ]
    },
    {
      "cell_type": "code",
      "source": [
        "x = new_data_test.loc[:, features1].values\n",
        "y = new_data_test.loc[:, ['id']].values\n",
        "# x = StandardScaler().fit_transform(x)\n",
        "pca = PCA(n_components=1)\n",
        "principalComponents = pca.fit_transform(x)\n",
        "principalDataframe = pd.DataFrame(data = principalComponents, columns = ['ATHOR'])\n",
        "targetDataframe = new_data_test[['id']]\n",
        "newDataframe2 = pd.concat([principalDataframe, targetDataframe],axis = 1)\n",
        "print(principalComponents)"
      ],
      "metadata": {
        "colab": {
          "base_uri": "https://localhost:8080/"
        },
        "id": "x4ZXhRNiWJd-",
        "outputId": "29852a0c-2eba-409b-cca5-02770be8faba"
      },
      "execution_count": 32,
      "outputs": [
        {
          "output_type": "stream",
          "name": "stdout",
          "text": [
            "[[-4.29378034e-01]\n",
            " [-2.35977961e+00]\n",
            " [-1.74624230e-01]\n",
            " ...\n",
            " [-1.98648638e+00]\n",
            " [-4.83682325e+00]\n",
            " [-1.63584528e-16]]\n"
          ]
        }
      ]
    },
    {
      "cell_type": "code",
      "execution_count": 33,
      "metadata": {
        "id": "OemwzU0j9y7R"
      },
      "outputs": [],
      "source": [
        "new_data_train['X_ATHOR'] = newDataframe1.ATHOR"
      ]
    },
    {
      "cell_type": "code",
      "source": [
        "new_data_test['X_ATHOR'] = newDataframe2.ATHOR"
      ],
      "metadata": {
        "id": "yid3dqhSWglC"
      },
      "execution_count": 34,
      "outputs": []
    },
    {
      "cell_type": "code",
      "execution_count": 35,
      "metadata": {
        "id": "cRUr-0sC-jpS"
      },
      "outputs": [],
      "source": [
        "features2 = ['away_team_history_rating_1','away_team_history_rating_2','away_team_history_rating_3','away_team_history_rating_4','away_team_history_rating_5','away_team_history_rating_6','away_team_history_rating_7','away_team_history_rating_8','away_team_history_rating_9','away_team_history_rating_10']"
      ]
    },
    {
      "cell_type": "code",
      "execution_count": 36,
      "metadata": {
        "id": "0mDMwobf_Hpj",
        "colab": {
          "base_uri": "https://localhost:8080/"
        },
        "outputId": "b171cdb7-373c-45da-e547-582fa54c50b4"
      },
      "outputs": [
        {
          "output_type": "stream",
          "name": "stdout",
          "text": [
            "[[ 2.90047578e+00]\n",
            " [-1.50970702e+00]\n",
            " [ 1.60926690e+00]\n",
            " ...\n",
            " [ 8.04171303e-01]\n",
            " [-1.22593375e+00]\n",
            " [-9.51955492e-15]]\n"
          ]
        }
      ],
      "source": [
        "x = new_data_train.loc[:, features2].values\n",
        "y = new_data_train.loc[:, ['target']].values\n",
        "x = StandardScaler().fit_transform(x)\n",
        "pca = PCA(n_components=1)\n",
        "principalComponents = pca.fit_transform(x)\n",
        "principalDataframe = pd.DataFrame(data = principalComponents, columns = ['ATHR'])\n",
        "targetDataframe = new_data_train[['target']]\n",
        "newDataframe1 = pd.concat([principalDataframe, targetDataframe],axis = 1)\n",
        "print(principalComponents)"
      ]
    },
    {
      "cell_type": "code",
      "source": [
        "x = new_data_test.loc[:, features2].values\n",
        "y = new_data_test.loc[:, ['id']].values\n",
        "x = StandardScaler().fit_transform(x)\n",
        "pca = PCA(n_components=1)\n",
        "principalComponents = pca.fit_transform(x)\n",
        "principalDataframe = pd.DataFrame(data = principalComponents, columns = ['ATHR'])\n",
        "targetDataframe = new_data_test[['id']]\n",
        "newDataframe2 = pd.concat([principalDataframe, targetDataframe],axis = 1)\n",
        "print(principalComponents)"
      ],
      "metadata": {
        "colab": {
          "base_uri": "https://localhost:8080/"
        },
        "id": "b9IvKuj7WmMi",
        "outputId": "bbf1fd2e-c426-4924-e437-2f6422f5cc37"
      },
      "execution_count": 37,
      "outputs": [
        {
          "output_type": "stream",
          "name": "stdout",
          "text": [
            "[[-1.96884058]\n",
            " [-0.68244732]\n",
            " [-1.9431878 ]\n",
            " ...\n",
            " [-1.60972722]\n",
            " [-0.53751533]\n",
            " [ 0.74574667]]\n"
          ]
        }
      ]
    },
    {
      "cell_type": "code",
      "execution_count": 38,
      "metadata": {
        "id": "691KMDSu_N6a"
      },
      "outputs": [],
      "source": [
        "new_data_train['X_ATHR'] = newDataframe1.ATHR"
      ]
    },
    {
      "cell_type": "code",
      "source": [
        "new_data_test['X_ATHR'] = newDataframe2.ATHR"
      ],
      "metadata": {
        "id": "Y-P9jBbbW3Ap"
      },
      "execution_count": 39,
      "outputs": []
    },
    {
      "cell_type": "code",
      "execution_count": 40,
      "metadata": {
        "id": "T4dgtChs_xds"
      },
      "outputs": [],
      "source": [
        "features3 = ['away_team_history_opponent_goal_1','away_team_history_opponent_goal_2','away_team_history_opponent_goal_3','away_team_history_opponent_goal_4','away_team_history_opponent_goal_5','away_team_history_opponent_goal_6','away_team_history_opponent_goal_7','away_team_history_opponent_goal_8','away_team_history_opponent_goal_9','away_team_history_opponent_goal_10']"
      ]
    },
    {
      "cell_type": "code",
      "execution_count": 41,
      "metadata": {
        "colab": {
          "base_uri": "https://localhost:8080/"
        },
        "id": "Pq7KlfZrAP50",
        "outputId": "98fa2c04-ba3c-4c44-9e9c-92f3bbbf3f2f"
      },
      "outputs": [
        {
          "output_type": "stream",
          "name": "stdout",
          "text": [
            "[[-1.15326598e+00]\n",
            " [ 1.61445311e-01]\n",
            " [-6.18564720e-01]\n",
            " ...\n",
            " [-1.17023322e+00]\n",
            " [-1.55786438e-01]\n",
            " [-2.29767333e-17]]\n"
          ]
        }
      ],
      "source": [
        "x = new_data_train.loc[:, features3].values\n",
        "y = new_data_train.loc[:, ['target']].values\n",
        "x = StandardScaler().fit_transform(x)\n",
        "pca = PCA(n_components=1)\n",
        "principalComponents = pca.fit_transform(x)\n",
        "principalDataframe = pd.DataFrame(data = principalComponents, columns = ['ATHOG'])\n",
        "targetDataframe = new_data_train[['target']]\n",
        "newDataframe1 = pd.concat([principalDataframe, targetDataframe],axis = 1)\n",
        "print(principalComponents)"
      ]
    },
    {
      "cell_type": "code",
      "execution_count": 42,
      "metadata": {
        "colab": {
          "base_uri": "https://localhost:8080/"
        },
        "id": "G-2x9CivwIjO",
        "outputId": "dcafb173-68d4-4af6-89de-0a6fa35aa76f"
      },
      "outputs": [
        {
          "output_type": "stream",
          "name": "stdout",
          "text": [
            "[[ 0.2029394 ]\n",
            " [-0.78485889]\n",
            " [ 0.34797985]\n",
            " ...\n",
            " [-0.15049552]\n",
            " [-1.53017219]\n",
            " [-2.11908727]]\n"
          ]
        }
      ],
      "source": [
        "x = new_data_test.loc[:, features3].values\n",
        "y = new_data_test.loc[:, ['id']].values\n",
        "x = StandardScaler().fit_transform(x)\n",
        "pca = PCA(n_components=1)\n",
        "principalComponents = pca.fit_transform(x)\n",
        "principalDataframe = pd.DataFrame(data = principalComponents, columns = ['ATHOG'])\n",
        "targetDataframe = new_data_test[['id']]\n",
        "newDataframe2 = pd.concat([principalDataframe, targetDataframe],axis = 1)\n",
        "print(principalComponents)"
      ]
    },
    {
      "cell_type": "code",
      "execution_count": 43,
      "metadata": {
        "id": "Q8CK9v3mAhKS"
      },
      "outputs": [],
      "source": [
        "new_data_train['X_ATHOG'] = newDataframe1.ATHOG"
      ]
    },
    {
      "cell_type": "code",
      "execution_count": 44,
      "metadata": {
        "id": "O_UABphywIjP"
      },
      "outputs": [],
      "source": [
        "new_data_test['X_ATHOG'] = newDataframe2.ATHOG"
      ]
    },
    {
      "cell_type": "code",
      "execution_count": 45,
      "metadata": {
        "id": "WVdfQ-e9Mp15"
      },
      "outputs": [],
      "source": [
        "features9 = ['home_team_history_opponent_goal_1','home_team_history_opponent_goal_2','home_team_history_opponent_goal_3','home_team_history_opponent_goal_4','home_team_history_opponent_goal_5','home_team_history_opponent_goal_6','home_team_history_opponent_goal_7','home_team_history_opponent_goal_8','home_team_history_opponent_goal_9','home_team_history_opponent_goal_10']"
      ]
    },
    {
      "cell_type": "code",
      "execution_count": 46,
      "metadata": {
        "colab": {
          "base_uri": "https://localhost:8080/"
        },
        "id": "TlqJhtYUM_8u",
        "outputId": "72a2f358-32c9-4e74-a5a0-c226f860b392"
      },
      "outputs": [
        {
          "output_type": "stream",
          "name": "stdout",
          "text": [
            "[[-0.87550725]\n",
            " [-0.94324754]\n",
            " [ 0.90091541]\n",
            " ...\n",
            " [-0.93631399]\n",
            " [-1.20537706]\n",
            " [ 1.09951995]]\n"
          ]
        }
      ],
      "source": [
        "x = new_data_train.loc[:, features9].values\n",
        "y = new_data_train.loc[:, ['target']].values\n",
        "x = StandardScaler().fit_transform(x)\n",
        "pca = PCA(n_components=1)\n",
        "principalComponents = pca.fit_transform(x)\n",
        "principalDataframe = pd.DataFrame(data = principalComponents, columns = ['HTHOG'])\n",
        "targetDataframe = new_data_train[['target']]\n",
        "newDataframe1 = pd.concat([principalDataframe, targetDataframe],axis = 1)\n",
        "print(principalComponents)"
      ]
    },
    {
      "cell_type": "code",
      "execution_count": 47,
      "metadata": {
        "colab": {
          "base_uri": "https://localhost:8080/"
        },
        "id": "6Iymk8dXwIjQ",
        "outputId": "226a3745-3651-4929-f014-fdc0b51d5483"
      },
      "outputs": [
        {
          "output_type": "stream",
          "name": "stdout",
          "text": [
            "[[-1.84463   ]\n",
            " [ 0.13060646]\n",
            " [ 0.19451111]\n",
            " ...\n",
            " [-1.05922874]\n",
            " [-0.81626347]\n",
            " [ 0.85653234]]\n"
          ]
        }
      ],
      "source": [
        "x = new_data_test.loc[:, features9].values\n",
        "y = new_data_test.loc[:, ['id']].values\n",
        "x = StandardScaler().fit_transform(x)\n",
        "pca = PCA(n_components=1)\n",
        "principalComponents = pca.fit_transform(x)\n",
        "principalDataframe = pd.DataFrame(data = principalComponents, columns = ['HTHOG'])\n",
        "targetDataframe = new_data_test[['id']]\n",
        "newDataframe2 = pd.concat([principalDataframe, targetDataframe],axis = 1)\n",
        "print(principalComponents)"
      ]
    },
    {
      "cell_type": "code",
      "execution_count": 48,
      "metadata": {
        "id": "b8jWM82YNCk6"
      },
      "outputs": [],
      "source": [
        "new_data_train['X_HTHOG'] = newDataframe1.HTHOG"
      ]
    },
    {
      "cell_type": "code",
      "execution_count": 49,
      "metadata": {
        "id": "CdXux8sDwIjQ"
      },
      "outputs": [],
      "source": [
        "new_data_test['X_HTHOG'] = newDataframe2.HTHOG"
      ]
    },
    {
      "cell_type": "code",
      "execution_count": 50,
      "metadata": {
        "id": "GFwI0MkzBez2"
      },
      "outputs": [],
      "source": [
        "features4 = ['away_team_history_goal_1','away_team_history_goal_2','away_team_history_goal_3','away_team_history_goal_4','away_team_history_goal_5','away_team_history_goal_6','away_team_history_goal_7','away_team_history_goal_8','away_team_history_goal_9','away_team_history_goal_10']"
      ]
    },
    {
      "cell_type": "code",
      "execution_count": 51,
      "metadata": {
        "colab": {
          "base_uri": "https://localhost:8080/"
        },
        "id": "j4kf0YTHCGmz",
        "outputId": "efc10d5e-476d-440b-8dd9-8d43149af8b6"
      },
      "outputs": [
        {
          "output_type": "stream",
          "name": "stdout",
          "text": [
            "[[ 5.22419167e-01]\n",
            " [-1.50473537e+00]\n",
            " [ 1.81882026e+00]\n",
            " ...\n",
            " [ 6.16719301e-01]\n",
            " [ 2.12321041e+00]\n",
            " [ 7.58401922e-17]]\n"
          ]
        }
      ],
      "source": [
        "x = new_data_train.loc[:, features4].values\n",
        "y = new_data_train.loc[:, ['target']].values\n",
        "x = StandardScaler().fit_transform(x)\n",
        "pca = PCA(n_components=1)\n",
        "principalComponents = pca.fit_transform(x)\n",
        "principalDataframe = pd.DataFrame(data = principalComponents, columns = ['ATHG'])\n",
        "targetDataframe = new_data_train[['target']]\n",
        "newDataframe1 = pd.concat([principalDataframe, targetDataframe],axis = 1)\n",
        "print(principalComponents)"
      ]
    },
    {
      "cell_type": "code",
      "execution_count": 52,
      "metadata": {
        "colab": {
          "base_uri": "https://localhost:8080/"
        },
        "id": "ROnarr7kwIjR",
        "outputId": "fa32b6cb-0047-4d14-81bc-9586e3b676a1"
      },
      "outputs": [
        {
          "output_type": "stream",
          "name": "stdout",
          "text": [
            "[[-0.72887901]\n",
            " [-0.81806713]\n",
            " [-1.83260286]\n",
            " ...\n",
            " [-2.53730524]\n",
            " [ 1.01350191]\n",
            " [ 1.85797551]]\n"
          ]
        }
      ],
      "source": [
        "x = new_data_test.loc[:, features4].values\n",
        "y = new_data_test.loc[:, ['id']].values\n",
        "x = StandardScaler().fit_transform(x)\n",
        "pca = PCA(n_components=1)\n",
        "principalComponents = pca.fit_transform(x)\n",
        "principalDataframe = pd.DataFrame(data = principalComponents, columns = ['ATHG'])\n",
        "targetDataframe = new_data_test[['id']]\n",
        "newDataframe2 = pd.concat([principalDataframe, targetDataframe],axis = 1)\n",
        "print(principalComponents)"
      ]
    },
    {
      "cell_type": "code",
      "execution_count": 53,
      "metadata": {
        "id": "uErIMwLcCLon"
      },
      "outputs": [],
      "source": [
        "new_data_train['X_ATHG'] = newDataframe1.ATHG"
      ]
    },
    {
      "cell_type": "code",
      "execution_count": 54,
      "metadata": {
        "id": "FCYdUfmgwIjS"
      },
      "outputs": [],
      "source": [
        "new_data_test['X_ATHG'] = newDataframe2.ATHG"
      ]
    },
    {
      "cell_type": "code",
      "execution_count": 55,
      "metadata": {
        "id": "KtTB5F9pDdWe"
      },
      "outputs": [],
      "source": [
        "features5 = ['home_team_history_is_cup_1','home_team_history_is_cup_2','home_team_history_is_cup_3','home_team_history_is_cup_4','home_team_history_is_cup_5','home_team_history_is_cup_6','home_team_history_is_cup_7','home_team_history_is_cup_8','home_team_history_is_cup_9','home_team_history_is_cup_10']"
      ]
    },
    {
      "cell_type": "code",
      "execution_count": 56,
      "metadata": {
        "colab": {
          "base_uri": "https://localhost:8080/"
        },
        "id": "MHKXbMxPDs64",
        "outputId": "8d4a80cb-ba84-45e3-bb75-429185ef152f"
      },
      "outputs": [
        {
          "output_type": "stream",
          "name": "stdout",
          "text": [
            "[[-1.1033258 ]\n",
            " [-1.1033258 ]\n",
            " [-1.1033258 ]\n",
            " ...\n",
            " [-0.17086551]\n",
            " [-0.08659372]\n",
            " [-1.1033258 ]]\n"
          ]
        }
      ],
      "source": [
        "x = new_data_train.loc[:, features5].values\n",
        "y = new_data_train.loc[:, ['target']].values\n",
        "x = StandardScaler().fit_transform(x)\n",
        "pca = PCA(n_components=1)\n",
        "principalComponents = pca.fit_transform(x)\n",
        "principalDataframe = pd.DataFrame(data = principalComponents, columns = ['HTHIC'])\n",
        "targetDataframe = new_data_train[['target']]\n",
        "newDataframe1 = pd.concat([principalDataframe, targetDataframe],axis = 1)\n",
        "print(principalComponents)"
      ]
    },
    {
      "cell_type": "code",
      "execution_count": 57,
      "metadata": {
        "colab": {
          "base_uri": "https://localhost:8080/"
        },
        "id": "LyFmDS8WwIjT",
        "outputId": "b2a905d2-9186-485e-91dd-20c2620095a2"
      },
      "outputs": [
        {
          "output_type": "stream",
          "name": "stdout",
          "text": [
            "[[ 4.26635979]\n",
            " [-0.8653217 ]\n",
            " [-0.8653217 ]\n",
            " ...\n",
            " [-0.8653217 ]\n",
            " [-0.8653217 ]\n",
            " [-0.8653217 ]]\n"
          ]
        }
      ],
      "source": [
        "x = new_data_test.loc[:, features5].values\n",
        "y = new_data_test.loc[:, ['id']].values\n",
        "x = StandardScaler().fit_transform(x)\n",
        "pca = PCA(n_components=1)\n",
        "principalComponents = pca.fit_transform(x)\n",
        "principalDataframe = pd.DataFrame(data = principalComponents, columns = ['HTHIC'])\n",
        "targetDataframe = new_data_test[['id']]\n",
        "newDataframe2 = pd.concat([principalDataframe, targetDataframe],axis = 1)\n",
        "print(principalComponents)"
      ]
    },
    {
      "cell_type": "code",
      "execution_count": 58,
      "metadata": {
        "id": "bBX81sE2D0Ca"
      },
      "outputs": [],
      "source": [
        "new_data_train['X_HTHIC'] = newDataframe1.HTHIC"
      ]
    },
    {
      "cell_type": "code",
      "execution_count": 59,
      "metadata": {
        "id": "SaxsbDg_wIjT"
      },
      "outputs": [],
      "source": [
        "new_data_test['X_HTHIC'] = newDataframe2.HTHIC"
      ]
    },
    {
      "cell_type": "code",
      "execution_count": 60,
      "metadata": {
        "id": "P2BmWSi-D6uB"
      },
      "outputs": [],
      "source": [
        "features6 = ['away_team_history_is_cup_1','away_team_history_is_cup_2','away_team_history_is_cup_3','away_team_history_is_cup_4','away_team_history_is_cup_5','away_team_history_is_cup_6','away_team_history_is_cup_7','away_team_history_is_cup_8','away_team_history_is_cup_9','away_team_history_is_cup_10']"
      ]
    },
    {
      "cell_type": "code",
      "execution_count": 61,
      "metadata": {
        "colab": {
          "base_uri": "https://localhost:8080/"
        },
        "id": "Btzt-2vKEP2B",
        "outputId": "58d7c48a-f77a-46ae-bd0f-fa9186a71390"
      },
      "outputs": [
        {
          "output_type": "stream",
          "name": "stdout",
          "text": [
            "[[ 4.11772797e+00]\n",
            " [-1.11787167e+00]\n",
            " [-1.11787167e+00]\n",
            " ...\n",
            " [ 8.80612396e-01]\n",
            " [-1.11787167e+00]\n",
            " [-1.17885625e-17]]\n"
          ]
        }
      ],
      "source": [
        "x = new_data_train.loc[:, features6].values\n",
        "y = new_data_train.loc[:, ['target']].values\n",
        "x = StandardScaler().fit_transform(x)\n",
        "pca = PCA(n_components=1)\n",
        "principalComponents = pca.fit_transform(x)\n",
        "principalDataframe = pd.DataFrame(data = principalComponents, columns = ['ATHIC'])\n",
        "targetDataframe = new_data_train[['target']]\n",
        "newDataframe1 = pd.concat([principalDataframe, targetDataframe],axis = 1)\n",
        "print(principalComponents)"
      ]
    },
    {
      "cell_type": "code",
      "execution_count": 62,
      "metadata": {
        "colab": {
          "base_uri": "https://localhost:8080/"
        },
        "id": "FkzAMwztwIjU",
        "outputId": "b09f078b-de9c-44cc-8b12-adb7b1dc1e0e"
      },
      "outputs": [
        {
          "output_type": "stream",
          "name": "stdout",
          "text": [
            "[[-0.87648311]\n",
            " [-0.87648311]\n",
            " [-0.87648311]\n",
            " ...\n",
            " [ 6.72282789]\n",
            " [-0.87648311]\n",
            " [ 4.09206785]]\n"
          ]
        }
      ],
      "source": [
        "x = new_data_test.loc[:, features6].values\n",
        "y = new_data_test.loc[:, ['id']].values\n",
        "x = StandardScaler().fit_transform(x)\n",
        "pca = PCA(n_components=1)\n",
        "principalComponents = pca.fit_transform(x)\n",
        "principalDataframe = pd.DataFrame(data = principalComponents, columns = ['ATHIC'])\n",
        "targetDataframe = new_data_test[['id']]\n",
        "newDataframe2 = pd.concat([principalDataframe, targetDataframe],axis = 1)\n",
        "print(principalComponents)"
      ]
    },
    {
      "cell_type": "code",
      "execution_count": 63,
      "metadata": {
        "id": "3dLIZ1LzEVdN"
      },
      "outputs": [],
      "source": [
        "new_data_train['X_ATHIC'] = newDataframe1.ATHIC"
      ]
    },
    {
      "cell_type": "code",
      "execution_count": 64,
      "metadata": {
        "id": "DyttN0-GwIjV"
      },
      "outputs": [],
      "source": [
        "new_data_test['X_ATHIC'] = newDataframe2.ATHIC"
      ]
    },
    {
      "cell_type": "code",
      "execution_count": 65,
      "metadata": {
        "id": "dHQnX4qpJxYw"
      },
      "outputs": [],
      "source": [
        "features7 = ['home_team_history_goal_1','home_team_history_goal_2','home_team_history_goal_3','home_team_history_goal_4','home_team_history_goal_5','home_team_history_goal_6','home_team_history_goal_7','home_team_history_goal_8','home_team_history_goal_9','home_team_history_goal_10']"
      ]
    },
    {
      "cell_type": "code",
      "execution_count": 66,
      "metadata": {
        "colab": {
          "base_uri": "https://localhost:8080/"
        },
        "id": "ORmF1RDiKSyL",
        "outputId": "e43142bc-9418-4468-d94b-0cea846ed4ae"
      },
      "outputs": [
        {
          "output_type": "stream",
          "name": "stdout",
          "text": [
            "[[-0.21684661]\n",
            " [-1.25493542]\n",
            " [ 1.26459433]\n",
            " ...\n",
            " [ 0.05390479]\n",
            " [-1.24007153]\n",
            " [ 0.48139932]]\n"
          ]
        }
      ],
      "source": [
        "x = new_data_train.loc[:, features7].values\n",
        "y = new_data_train.loc[:, ['target']].values\n",
        "x = StandardScaler().fit_transform(x)\n",
        "pca = PCA(n_components=1)\n",
        "principalComponents = pca.fit_transform(x)\n",
        "principalDataframe = pd.DataFrame(data = principalComponents, columns = ['HTHG'])\n",
        "targetDataframe = new_data_train[['target']]\n",
        "newDataframe1 = pd.concat([principalDataframe, targetDataframe],axis = 1)\n",
        "print(principalComponents)"
      ]
    },
    {
      "cell_type": "code",
      "execution_count": 67,
      "metadata": {
        "colab": {
          "base_uri": "https://localhost:8080/"
        },
        "id": "M7iEc0VCwIjW",
        "outputId": "e22a1659-b63b-4aaa-b2b6-be43ace380b2"
      },
      "outputs": [
        {
          "output_type": "stream",
          "name": "stdout",
          "text": [
            "[[-0.9611431 ]\n",
            " [-1.61642107]\n",
            " [-1.36844073]\n",
            " ...\n",
            " [-1.88526408]\n",
            " [-1.31341706]\n",
            " [-0.50111526]]\n"
          ]
        }
      ],
      "source": [
        "x = new_data_test.loc[:, features7].values\n",
        "y = new_data_test.loc[:, ['id']].values\n",
        "x = StandardScaler().fit_transform(x)\n",
        "pca = PCA(n_components=1)\n",
        "principalComponents = pca.fit_transform(x)\n",
        "principalDataframe = pd.DataFrame(data = principalComponents, columns = ['HTHG'])\n",
        "targetDataframe = new_data_test[['id']]\n",
        "newDataframe2 = pd.concat([principalDataframe, targetDataframe],axis = 1)\n",
        "print(principalComponents)"
      ]
    },
    {
      "cell_type": "code",
      "execution_count": 68,
      "metadata": {
        "id": "jaO96D7rKa1v"
      },
      "outputs": [],
      "source": [
        "new_data_train['X_HTHG'] = newDataframe1.HTHG"
      ]
    },
    {
      "cell_type": "code",
      "execution_count": 69,
      "metadata": {
        "id": "Qgpjxf_ewIjW"
      },
      "outputs": [],
      "source": [
        "new_data_test['X_HTHG'] = newDataframe2.HTHG"
      ]
    },
    {
      "cell_type": "code",
      "execution_count": 70,
      "metadata": {
        "id": "CIMb49OuKl5X"
      },
      "outputs": [],
      "source": [
        "features8 = ['away_team_history_is_play_home_1', 'away_team_history_is_play_home_2','away_team_history_is_play_home_3','away_team_history_is_play_home_4','away_team_history_is_play_home_5','away_team_history_is_play_home_6','away_team_history_is_play_home_7','away_team_history_is_play_home_8','away_team_history_is_play_home_9','away_team_history_is_play_home_10',]"
      ]
    },
    {
      "cell_type": "code",
      "execution_count": 71,
      "metadata": {
        "colab": {
          "base_uri": "https://localhost:8080/"
        },
        "id": "-PCuVSqaK26F",
        "outputId": "865c42db-2edc-4dd2-8ad3-bbafc3f2e553"
      },
      "outputs": [
        {
          "output_type": "stream",
          "name": "stdout",
          "text": [
            "[[-3.35437808e-01]\n",
            " [ 1.75904871e+00]\n",
            " [ 7.17701110e-01]\n",
            " ...\n",
            " [ 2.03508178e-01]\n",
            " [-1.96336652e+00]\n",
            " [ 4.42026811e-18]]\n"
          ]
        }
      ],
      "source": [
        "x = new_data_train.loc[:, features8].values\n",
        "y = new_data_train.loc[:, ['target']].values\n",
        "x = StandardScaler().fit_transform(x)\n",
        "pca = PCA(n_components=1)\n",
        "principalComponents = pca.fit_transform(x)\n",
        "principalDataframe = pd.DataFrame(data = principalComponents, columns = ['ATHIPH'])\n",
        "targetDataframe = new_data_train[['target']]\n",
        "newDataframe1 = pd.concat([principalDataframe, targetDataframe],axis = 1)\n",
        "print(principalComponents)"
      ]
    },
    {
      "cell_type": "code",
      "execution_count": 72,
      "metadata": {
        "colab": {
          "base_uri": "https://localhost:8080/"
        },
        "id": "z7MZ8uGUwIjX",
        "outputId": "468f8480-f398-41e7-fb4a-8cb9d1d0e879"
      },
      "outputs": [
        {
          "output_type": "stream",
          "name": "stdout",
          "text": [
            "[[-1.33664041]\n",
            " [ 0.24500404]\n",
            " [ 2.07353103]\n",
            " ...\n",
            " [ 0.23279005]\n",
            " [-0.88785515]\n",
            " [-1.28679331]]\n"
          ]
        }
      ],
      "source": [
        "x = new_data_test.loc[:, features8].values\n",
        "y = new_data_test.loc[:, ['id']].values\n",
        "x = StandardScaler().fit_transform(x)\n",
        "pca = PCA(n_components=1)\n",
        "principalComponents = pca.fit_transform(x)\n",
        "principalDataframe = pd.DataFrame(data = principalComponents, columns = ['ATHIPH'])\n",
        "targetDataframe = new_data_test[['id']]\n",
        "newDataframe2 = pd.concat([principalDataframe, targetDataframe],axis = 1)\n",
        "print(principalComponents)"
      ]
    },
    {
      "cell_type": "code",
      "execution_count": 73,
      "metadata": {
        "id": "TCGQL6MNKl0o"
      },
      "outputs": [],
      "source": [
        "new_data_train['X_ATHIPH'] = newDataframe1.ATHIPH"
      ]
    },
    {
      "cell_type": "code",
      "execution_count": 74,
      "metadata": {
        "id": "F7YfdjOtwIjX"
      },
      "outputs": [],
      "source": [
        "new_data_test['X_ATHIPH'] = newDataframe2.ATHIPH"
      ]
    },
    {
      "cell_type": "code",
      "execution_count": 75,
      "metadata": {
        "id": "m997ZRp4BWCR"
      },
      "outputs": [],
      "source": [
        "new_data_train.drop(train.filter(regex='away_team_history_goal_').columns, axis=1, inplace = True)\n",
        "new_data_test.drop(test.filter(regex='away_team_history_goal_').columns, axis=1, inplace = True)"
      ]
    },
    {
      "cell_type": "code",
      "execution_count": 76,
      "metadata": {
        "id": "gUhk1UMWJqEr"
      },
      "outputs": [],
      "source": [
        "new_data_train.drop(train.filter(regex='home_team_history_goal_').columns, axis=1, inplace = True)\n",
        "new_data_test.drop(test.filter(regex='home_team_history_goal_').columns, axis=1, inplace = True)"
      ]
    },
    {
      "cell_type": "code",
      "execution_count": 77,
      "metadata": {
        "id": "eyklaATvDSYs"
      },
      "outputs": [],
      "source": [
        "new_data_train.drop(train.filter(regex='home_team_history_is_cup_').columns, axis=1, inplace = True)\n",
        "new_data_test.drop(test.filter(regex='home_team_history_is_cup_').columns, axis=1, inplace = True)"
      ]
    },
    {
      "cell_type": "code",
      "execution_count": 78,
      "metadata": {
        "id": "l2UPNm7EDV0F"
      },
      "outputs": [],
      "source": [
        "new_data_train.drop(train.filter(regex='away_team_history_is_cup_').columns, axis=1, inplace = True)\n",
        "new_data_test.drop(test.filter(regex='away_team_history_is_cup_').columns, axis=1, inplace = True)"
      ]
    },
    {
      "cell_type": "code",
      "execution_count": 79,
      "metadata": {
        "id": "tV0IunNO_o7z"
      },
      "outputs": [],
      "source": [
        "new_data_train.drop(train.filter(regex='away_team_history_opponent_goal_').columns, axis=1, inplace = True)\n",
        "new_data_test.drop(test.filter(regex='away_team_history_opponent_goal_').columns, axis=1, inplace = True)"
      ]
    },
    {
      "cell_type": "code",
      "execution_count": 80,
      "metadata": {
        "id": "PpSZNAXVMbV7"
      },
      "outputs": [],
      "source": [
        "new_data_train.drop(train.filter(regex='home_team_history_opponent_goal_').columns, axis=1, inplace = True)\n",
        "new_data_test.drop(test.filter(regex='home_team_history_opponent_goal_').columns, axis=1, inplace = True)"
      ]
    },
    {
      "cell_type": "code",
      "execution_count": 81,
      "metadata": {
        "id": "9BH437Ax90fh"
      },
      "outputs": [],
      "source": [
        "new_data_train.drop(train.filter(regex='home_team_history_is_play_home_').columns, axis=1, inplace = True)\n",
        "new_data_test.drop(test.filter(regex='home_team_history_is_play_home_').columns, axis=1, inplace = True)"
      ]
    },
    {
      "cell_type": "code",
      "execution_count": 82,
      "metadata": {
        "id": "BP_tJQVbKg26"
      },
      "outputs": [],
      "source": [
        "new_data_train.drop(train.filter(regex='away_team_history_is_play_home_').columns, axis=1, inplace = True)\n",
        "new_data_test.drop(test.filter(regex='away_team_history_is_play_home_').columns, axis=1, inplace = True)"
      ]
    },
    {
      "cell_type": "code",
      "execution_count": 83,
      "metadata": {
        "id": "aMqp4xEQ90iy"
      },
      "outputs": [],
      "source": [
        "new_data_train.drop(train.filter(regex='away_team_history_opponent_rating_').columns, axis=1, inplace = True)\n",
        "new_data_test.drop(test.filter(regex='away_team_history_opponent_rating_').columns, axis=1, inplace = True)"
      ]
    },
    {
      "cell_type": "code",
      "execution_count": 84,
      "metadata": {
        "id": "ym6O3UJmL2CT"
      },
      "outputs": [],
      "source": [
        "new_data_train.drop(train.filter(regex='home_team_history_opponent_rating_').columns, axis=1, inplace = True)\n",
        "new_data_test.drop(test.filter(regex='home_team_history_opponent_rating_').columns, axis=1, inplace = True)"
      ]
    },
    {
      "cell_type": "code",
      "execution_count": 85,
      "metadata": {
        "id": "dkxtwT1eL1-K"
      },
      "outputs": [],
      "source": [
        "new_data_train.drop(train.filter(regex='home_team_history_rating_').columns, axis=1, inplace = True)\n",
        "new_data_test.drop(test.filter(regex='home_team_history_rating_').columns, axis=1, inplace = True)"
      ]
    },
    {
      "cell_type": "code",
      "execution_count": 86,
      "metadata": {
        "id": "CL3CTlUS_YaV"
      },
      "outputs": [],
      "source": [
        "new_data_train.drop(train.filter(regex='away_team_history_rating_').columns, axis=1, inplace = True)\n",
        "new_data_test.drop(test.filter(regex='away_team_history_rating_').columns, axis=1, inplace = True)"
      ]
    },
    {
      "cell_type": "code",
      "execution_count": 87,
      "metadata": {
        "colab": {
          "base_uri": "https://localhost:8080/"
        },
        "id": "7ECTk_uJ-Cdu",
        "outputId": "8ab15950-e6bf-4889-e2fd-2af819641f16"
      },
      "outputs": [
        {
          "output_type": "stream",
          "name": "stdout",
          "text": [
            "<bound method DataFrame.info of              id target  is_cup   X_HTHPH       X_ATHOR        X_ATHR  \\\n",
            "0      11906497   away   False -3.071016 -7.797472e+00  2.900476e+00   \n",
            "1      11984383   home   False  0.149906  1.474734e+00 -1.509707e+00   \n",
            "2      11983301   draw   False -3.071016 -3.188887e+00  1.609267e+00   \n",
            "3      11983471   away   False -2.093322  3.923875e-01 -8.251346e-01   \n",
            "4      11883005   home   False -3.071016 -8.953784e-01 -5.814567e-01   \n",
            "...         ...    ...     ...       ...           ...           ...   \n",
            "12868  11908577   away   False -3.071016 -3.778138e+00 -1.765003e+00   \n",
            "12869  11908573   home   False  0.109672 -4.030090e+00 -1.670875e+00   \n",
            "12870  11871407   draw   False  1.370070 -7.635455e+00  8.041713e-01   \n",
            "12871  11908575   draw   False -3.071016 -4.629133e+00 -1.225934e+00   \n",
            "12872  11872123   home   False -2.612733 -6.925313e-15 -9.519555e-15   \n",
            "\n",
            "            X_ATHOG   X_HTHOG        X_ATHG   X_HTHIC       X_ATHIC    X_HTHG  \\\n",
            "0     -1.153266e+00 -0.875507  5.224192e-01 -1.103326  4.117728e+00 -0.216847   \n",
            "1      1.614453e-01 -0.943248 -1.504735e+00 -1.103326 -1.117872e+00 -1.254935   \n",
            "2     -6.185647e-01  0.900915  1.818820e+00 -1.103326 -1.117872e+00  1.264594   \n",
            "3      1.661890e+00 -0.213967  2.568850e+00 -1.103326 -2.459136e-01  0.998973   \n",
            "4     -9.247414e-01  0.081829  9.980802e-01 -1.103326 -1.117872e+00  1.027183   \n",
            "...             ...       ...           ...       ...           ...       ...   \n",
            "12868 -1.941631e+00 -0.853228 -7.553192e-01 -1.103326 -8.576023e-02 -1.989427   \n",
            "12869  1.544606e-01  0.695483 -3.019080e+00  2.166927 -3.934196e-02 -0.702188   \n",
            "12870 -1.170233e+00 -0.936314  6.167193e-01 -0.170866  8.806124e-01  0.053905   \n",
            "12871 -1.557864e-01 -1.205377  2.123210e+00 -0.086594 -1.117872e+00 -1.240072   \n",
            "12872 -2.297673e-17  1.099520  7.584019e-17 -1.103326 -1.178856e-17  0.481399   \n",
            "\n",
            "           X_ATHIPH  \n",
            "0     -3.354378e-01  \n",
            "1      1.759049e+00  \n",
            "2      7.177011e-01  \n",
            "3      6.028507e-02  \n",
            "4      9.024593e-01  \n",
            "...             ...  \n",
            "12868  1.329702e+00  \n",
            "12869  6.654281e-01  \n",
            "12870  2.035082e-01  \n",
            "12871 -1.963367e+00  \n",
            "12872  4.420268e-18  \n",
            "\n",
            "[12873 rows x 13 columns]>\n"
          ]
        }
      ],
      "source": [
        "print(new_data_train.info)"
      ]
    },
    {
      "cell_type": "code",
      "source": [
        "new_data_train"
      ],
      "metadata": {
        "colab": {
          "base_uri": "https://localhost:8080/",
          "height": 488
        },
        "id": "8mqyJdjCgRrk",
        "outputId": "37f37387-35a9-4194-ad49-c3f2093e13e0"
      },
      "execution_count": 88,
      "outputs": [
        {
          "output_type": "execute_result",
          "data": {
            "text/plain": [
              "             id target  is_cup   X_HTHPH       X_ATHOR        X_ATHR  \\\n",
              "0      11906497   away   False -3.071016 -7.797472e+00  2.900476e+00   \n",
              "1      11984383   home   False  0.149906  1.474734e+00 -1.509707e+00   \n",
              "2      11983301   draw   False -3.071016 -3.188887e+00  1.609267e+00   \n",
              "3      11983471   away   False -2.093322  3.923875e-01 -8.251346e-01   \n",
              "4      11883005   home   False -3.071016 -8.953784e-01 -5.814567e-01   \n",
              "...         ...    ...     ...       ...           ...           ...   \n",
              "12868  11908577   away   False -3.071016 -3.778138e+00 -1.765003e+00   \n",
              "12869  11908573   home   False  0.109672 -4.030090e+00 -1.670875e+00   \n",
              "12870  11871407   draw   False  1.370070 -7.635455e+00  8.041713e-01   \n",
              "12871  11908575   draw   False -3.071016 -4.629133e+00 -1.225934e+00   \n",
              "12872  11872123   home   False -2.612733 -6.925313e-15 -9.519555e-15   \n",
              "\n",
              "            X_ATHOG   X_HTHOG        X_ATHG   X_HTHIC       X_ATHIC    X_HTHG  \\\n",
              "0     -1.153266e+00 -0.875507  5.224192e-01 -1.103326  4.117728e+00 -0.216847   \n",
              "1      1.614453e-01 -0.943248 -1.504735e+00 -1.103326 -1.117872e+00 -1.254935   \n",
              "2     -6.185647e-01  0.900915  1.818820e+00 -1.103326 -1.117872e+00  1.264594   \n",
              "3      1.661890e+00 -0.213967  2.568850e+00 -1.103326 -2.459136e-01  0.998973   \n",
              "4     -9.247414e-01  0.081829  9.980802e-01 -1.103326 -1.117872e+00  1.027183   \n",
              "...             ...       ...           ...       ...           ...       ...   \n",
              "12868 -1.941631e+00 -0.853228 -7.553192e-01 -1.103326 -8.576023e-02 -1.989427   \n",
              "12869  1.544606e-01  0.695483 -3.019080e+00  2.166927 -3.934196e-02 -0.702188   \n",
              "12870 -1.170233e+00 -0.936314  6.167193e-01 -0.170866  8.806124e-01  0.053905   \n",
              "12871 -1.557864e-01 -1.205377  2.123210e+00 -0.086594 -1.117872e+00 -1.240072   \n",
              "12872 -2.297673e-17  1.099520  7.584019e-17 -1.103326 -1.178856e-17  0.481399   \n",
              "\n",
              "           X_ATHIPH  \n",
              "0     -3.354378e-01  \n",
              "1      1.759049e+00  \n",
              "2      7.177011e-01  \n",
              "3      6.028507e-02  \n",
              "4      9.024593e-01  \n",
              "...             ...  \n",
              "12868  1.329702e+00  \n",
              "12869  6.654281e-01  \n",
              "12870  2.035082e-01  \n",
              "12871 -1.963367e+00  \n",
              "12872  4.420268e-18  \n",
              "\n",
              "[12873 rows x 13 columns]"
            ],
            "text/html": [
              "\n",
              "  <div id=\"df-ee4aeae7-a500-4052-bc71-e75b4a39641b\">\n",
              "    <div class=\"colab-df-container\">\n",
              "      <div>\n",
              "<style scoped>\n",
              "    .dataframe tbody tr th:only-of-type {\n",
              "        vertical-align: middle;\n",
              "    }\n",
              "\n",
              "    .dataframe tbody tr th {\n",
              "        vertical-align: top;\n",
              "    }\n",
              "\n",
              "    .dataframe thead th {\n",
              "        text-align: right;\n",
              "    }\n",
              "</style>\n",
              "<table border=\"1\" class=\"dataframe\">\n",
              "  <thead>\n",
              "    <tr style=\"text-align: right;\">\n",
              "      <th></th>\n",
              "      <th>id</th>\n",
              "      <th>target</th>\n",
              "      <th>is_cup</th>\n",
              "      <th>X_HTHPH</th>\n",
              "      <th>X_ATHOR</th>\n",
              "      <th>X_ATHR</th>\n",
              "      <th>X_ATHOG</th>\n",
              "      <th>X_HTHOG</th>\n",
              "      <th>X_ATHG</th>\n",
              "      <th>X_HTHIC</th>\n",
              "      <th>X_ATHIC</th>\n",
              "      <th>X_HTHG</th>\n",
              "      <th>X_ATHIPH</th>\n",
              "    </tr>\n",
              "  </thead>\n",
              "  <tbody>\n",
              "    <tr>\n",
              "      <th>0</th>\n",
              "      <td>11906497</td>\n",
              "      <td>away</td>\n",
              "      <td>False</td>\n",
              "      <td>-3.071016</td>\n",
              "      <td>-7.797472e+00</td>\n",
              "      <td>2.900476e+00</td>\n",
              "      <td>-1.153266e+00</td>\n",
              "      <td>-0.875507</td>\n",
              "      <td>5.224192e-01</td>\n",
              "      <td>-1.103326</td>\n",
              "      <td>4.117728e+00</td>\n",
              "      <td>-0.216847</td>\n",
              "      <td>-3.354378e-01</td>\n",
              "    </tr>\n",
              "    <tr>\n",
              "      <th>1</th>\n",
              "      <td>11984383</td>\n",
              "      <td>home</td>\n",
              "      <td>False</td>\n",
              "      <td>0.149906</td>\n",
              "      <td>1.474734e+00</td>\n",
              "      <td>-1.509707e+00</td>\n",
              "      <td>1.614453e-01</td>\n",
              "      <td>-0.943248</td>\n",
              "      <td>-1.504735e+00</td>\n",
              "      <td>-1.103326</td>\n",
              "      <td>-1.117872e+00</td>\n",
              "      <td>-1.254935</td>\n",
              "      <td>1.759049e+00</td>\n",
              "    </tr>\n",
              "    <tr>\n",
              "      <th>2</th>\n",
              "      <td>11983301</td>\n",
              "      <td>draw</td>\n",
              "      <td>False</td>\n",
              "      <td>-3.071016</td>\n",
              "      <td>-3.188887e+00</td>\n",
              "      <td>1.609267e+00</td>\n",
              "      <td>-6.185647e-01</td>\n",
              "      <td>0.900915</td>\n",
              "      <td>1.818820e+00</td>\n",
              "      <td>-1.103326</td>\n",
              "      <td>-1.117872e+00</td>\n",
              "      <td>1.264594</td>\n",
              "      <td>7.177011e-01</td>\n",
              "    </tr>\n",
              "    <tr>\n",
              "      <th>3</th>\n",
              "      <td>11983471</td>\n",
              "      <td>away</td>\n",
              "      <td>False</td>\n",
              "      <td>-2.093322</td>\n",
              "      <td>3.923875e-01</td>\n",
              "      <td>-8.251346e-01</td>\n",
              "      <td>1.661890e+00</td>\n",
              "      <td>-0.213967</td>\n",
              "      <td>2.568850e+00</td>\n",
              "      <td>-1.103326</td>\n",
              "      <td>-2.459136e-01</td>\n",
              "      <td>0.998973</td>\n",
              "      <td>6.028507e-02</td>\n",
              "    </tr>\n",
              "    <tr>\n",
              "      <th>4</th>\n",
              "      <td>11883005</td>\n",
              "      <td>home</td>\n",
              "      <td>False</td>\n",
              "      <td>-3.071016</td>\n",
              "      <td>-8.953784e-01</td>\n",
              "      <td>-5.814567e-01</td>\n",
              "      <td>-9.247414e-01</td>\n",
              "      <td>0.081829</td>\n",
              "      <td>9.980802e-01</td>\n",
              "      <td>-1.103326</td>\n",
              "      <td>-1.117872e+00</td>\n",
              "      <td>1.027183</td>\n",
              "      <td>9.024593e-01</td>\n",
              "    </tr>\n",
              "    <tr>\n",
              "      <th>...</th>\n",
              "      <td>...</td>\n",
              "      <td>...</td>\n",
              "      <td>...</td>\n",
              "      <td>...</td>\n",
              "      <td>...</td>\n",
              "      <td>...</td>\n",
              "      <td>...</td>\n",
              "      <td>...</td>\n",
              "      <td>...</td>\n",
              "      <td>...</td>\n",
              "      <td>...</td>\n",
              "      <td>...</td>\n",
              "      <td>...</td>\n",
              "    </tr>\n",
              "    <tr>\n",
              "      <th>12868</th>\n",
              "      <td>11908577</td>\n",
              "      <td>away</td>\n",
              "      <td>False</td>\n",
              "      <td>-3.071016</td>\n",
              "      <td>-3.778138e+00</td>\n",
              "      <td>-1.765003e+00</td>\n",
              "      <td>-1.941631e+00</td>\n",
              "      <td>-0.853228</td>\n",
              "      <td>-7.553192e-01</td>\n",
              "      <td>-1.103326</td>\n",
              "      <td>-8.576023e-02</td>\n",
              "      <td>-1.989427</td>\n",
              "      <td>1.329702e+00</td>\n",
              "    </tr>\n",
              "    <tr>\n",
              "      <th>12869</th>\n",
              "      <td>11908573</td>\n",
              "      <td>home</td>\n",
              "      <td>False</td>\n",
              "      <td>0.109672</td>\n",
              "      <td>-4.030090e+00</td>\n",
              "      <td>-1.670875e+00</td>\n",
              "      <td>1.544606e-01</td>\n",
              "      <td>0.695483</td>\n",
              "      <td>-3.019080e+00</td>\n",
              "      <td>2.166927</td>\n",
              "      <td>-3.934196e-02</td>\n",
              "      <td>-0.702188</td>\n",
              "      <td>6.654281e-01</td>\n",
              "    </tr>\n",
              "    <tr>\n",
              "      <th>12870</th>\n",
              "      <td>11871407</td>\n",
              "      <td>draw</td>\n",
              "      <td>False</td>\n",
              "      <td>1.370070</td>\n",
              "      <td>-7.635455e+00</td>\n",
              "      <td>8.041713e-01</td>\n",
              "      <td>-1.170233e+00</td>\n",
              "      <td>-0.936314</td>\n",
              "      <td>6.167193e-01</td>\n",
              "      <td>-0.170866</td>\n",
              "      <td>8.806124e-01</td>\n",
              "      <td>0.053905</td>\n",
              "      <td>2.035082e-01</td>\n",
              "    </tr>\n",
              "    <tr>\n",
              "      <th>12871</th>\n",
              "      <td>11908575</td>\n",
              "      <td>draw</td>\n",
              "      <td>False</td>\n",
              "      <td>-3.071016</td>\n",
              "      <td>-4.629133e+00</td>\n",
              "      <td>-1.225934e+00</td>\n",
              "      <td>-1.557864e-01</td>\n",
              "      <td>-1.205377</td>\n",
              "      <td>2.123210e+00</td>\n",
              "      <td>-0.086594</td>\n",
              "      <td>-1.117872e+00</td>\n",
              "      <td>-1.240072</td>\n",
              "      <td>-1.963367e+00</td>\n",
              "    </tr>\n",
              "    <tr>\n",
              "      <th>12872</th>\n",
              "      <td>11872123</td>\n",
              "      <td>home</td>\n",
              "      <td>False</td>\n",
              "      <td>-2.612733</td>\n",
              "      <td>-6.925313e-15</td>\n",
              "      <td>-9.519555e-15</td>\n",
              "      <td>-2.297673e-17</td>\n",
              "      <td>1.099520</td>\n",
              "      <td>7.584019e-17</td>\n",
              "      <td>-1.103326</td>\n",
              "      <td>-1.178856e-17</td>\n",
              "      <td>0.481399</td>\n",
              "      <td>4.420268e-18</td>\n",
              "    </tr>\n",
              "  </tbody>\n",
              "</table>\n",
              "<p>12873 rows × 13 columns</p>\n",
              "</div>\n",
              "      <button class=\"colab-df-convert\" onclick=\"convertToInteractive('df-ee4aeae7-a500-4052-bc71-e75b4a39641b')\"\n",
              "              title=\"Convert this dataframe to an interactive table.\"\n",
              "              style=\"display:none;\">\n",
              "        \n",
              "  <svg xmlns=\"http://www.w3.org/2000/svg\" height=\"24px\"viewBox=\"0 0 24 24\"\n",
              "       width=\"24px\">\n",
              "    <path d=\"M0 0h24v24H0V0z\" fill=\"none\"/>\n",
              "    <path d=\"M18.56 5.44l.94 2.06.94-2.06 2.06-.94-2.06-.94-.94-2.06-.94 2.06-2.06.94zm-11 1L8.5 8.5l.94-2.06 2.06-.94-2.06-.94L8.5 2.5l-.94 2.06-2.06.94zm10 10l.94 2.06.94-2.06 2.06-.94-2.06-.94-.94-2.06-.94 2.06-2.06.94z\"/><path d=\"M17.41 7.96l-1.37-1.37c-.4-.4-.92-.59-1.43-.59-.52 0-1.04.2-1.43.59L10.3 9.45l-7.72 7.72c-.78.78-.78 2.05 0 2.83L4 21.41c.39.39.9.59 1.41.59.51 0 1.02-.2 1.41-.59l7.78-7.78 2.81-2.81c.8-.78.8-2.07 0-2.86zM5.41 20L4 18.59l7.72-7.72 1.47 1.35L5.41 20z\"/>\n",
              "  </svg>\n",
              "      </button>\n",
              "      \n",
              "  <style>\n",
              "    .colab-df-container {\n",
              "      display:flex;\n",
              "      flex-wrap:wrap;\n",
              "      gap: 12px;\n",
              "    }\n",
              "\n",
              "    .colab-df-convert {\n",
              "      background-color: #E8F0FE;\n",
              "      border: none;\n",
              "      border-radius: 50%;\n",
              "      cursor: pointer;\n",
              "      display: none;\n",
              "      fill: #1967D2;\n",
              "      height: 32px;\n",
              "      padding: 0 0 0 0;\n",
              "      width: 32px;\n",
              "    }\n",
              "\n",
              "    .colab-df-convert:hover {\n",
              "      background-color: #E2EBFA;\n",
              "      box-shadow: 0px 1px 2px rgba(60, 64, 67, 0.3), 0px 1px 3px 1px rgba(60, 64, 67, 0.15);\n",
              "      fill: #174EA6;\n",
              "    }\n",
              "\n",
              "    [theme=dark] .colab-df-convert {\n",
              "      background-color: #3B4455;\n",
              "      fill: #D2E3FC;\n",
              "    }\n",
              "\n",
              "    [theme=dark] .colab-df-convert:hover {\n",
              "      background-color: #434B5C;\n",
              "      box-shadow: 0px 1px 3px 1px rgba(0, 0, 0, 0.15);\n",
              "      filter: drop-shadow(0px 1px 2px rgba(0, 0, 0, 0.3));\n",
              "      fill: #FFFFFF;\n",
              "    }\n",
              "  </style>\n",
              "\n",
              "      <script>\n",
              "        const buttonEl =\n",
              "          document.querySelector('#df-ee4aeae7-a500-4052-bc71-e75b4a39641b button.colab-df-convert');\n",
              "        buttonEl.style.display =\n",
              "          google.colab.kernel.accessAllowed ? 'block' : 'none';\n",
              "\n",
              "        async function convertToInteractive(key) {\n",
              "          const element = document.querySelector('#df-ee4aeae7-a500-4052-bc71-e75b4a39641b');\n",
              "          const dataTable =\n",
              "            await google.colab.kernel.invokeFunction('convertToInteractive',\n",
              "                                                     [key], {});\n",
              "          if (!dataTable) return;\n",
              "\n",
              "          const docLinkHtml = 'Like what you see? Visit the ' +\n",
              "            '<a target=\"_blank\" href=https://colab.research.google.com/notebooks/data_table.ipynb>data table notebook</a>'\n",
              "            + ' to learn more about interactive tables.';\n",
              "          element.innerHTML = '';\n",
              "          dataTable['output_type'] = 'display_data';\n",
              "          await google.colab.output.renderOutput(dataTable, element);\n",
              "          const docLink = document.createElement('div');\n",
              "          docLink.innerHTML = docLinkHtml;\n",
              "          element.appendChild(docLink);\n",
              "        }\n",
              "      </script>\n",
              "    </div>\n",
              "  </div>\n",
              "  "
            ]
          },
          "metadata": {},
          "execution_count": 88
        }
      ]
    },
    {
      "cell_type": "code",
      "execution_count": 89,
      "metadata": {
        "colab": {
          "base_uri": "https://localhost:8080/",
          "height": 488
        },
        "id": "YXldqs9mwIja",
        "outputId": "d130b71b-f2f8-4157-8bc8-fff4bffd0611"
      },
      "outputs": [
        {
          "output_type": "execute_result",
          "data": {
            "text/plain": [
              "            id  is_cup   X_HTHPH       X_ATHOR    X_ATHR   X_ATHOG   X_HTHOG  \\\n",
              "0     17761448   False  0.334029 -4.293780e-01 -1.968841  0.202939 -1.844630   \n",
              "1     17695487   False  0.140762 -2.359780e+00 -0.682447 -0.784859  0.130606   \n",
              "2     17715496   False -0.432731 -1.746242e-01 -1.943188  0.347980  0.194511   \n",
              "3     17715493   False  1.603946 -6.277407e+00  0.404952 -1.342912  0.673499   \n",
              "4     17715492   False  2.110006  7.532526e-01 -2.452773 -1.080706 -0.307405   \n",
              "...        ...     ...       ...           ...       ...       ...       ...   \n",
              "8843  18085099   False -2.514110 -7.541283e-02 -3.147571  0.692530 -0.816501   \n",
              "8844  18085097   False -1.420926 -8.137082e+00  0.252253 -2.051740  0.171064   \n",
              "8845  17242709   False -1.009475 -1.986486e+00 -1.609727 -0.150496 -1.059229   \n",
              "8846  18085095   False  2.996446 -4.836823e+00 -0.537515 -1.530172 -0.816263   \n",
              "8847  18085098   False  0.418343 -1.635845e-16  0.745747 -2.119087  0.856532   \n",
              "\n",
              "        X_ATHG   X_HTHIC   X_ATHIC    X_HTHG  X_ATHIPH  \n",
              "0    -0.728879  4.266360 -0.876483 -0.961143 -1.336640  \n",
              "1    -0.818067 -0.865322 -0.876483 -1.616421  0.245004  \n",
              "2    -1.832603 -0.865322 -0.876483 -1.368441  2.073531  \n",
              "3    -0.631141 -0.865322  1.141346 -1.364416 -0.921544  \n",
              "4    -1.870559 -0.865322 -0.876483 -1.120804 -1.974170  \n",
              "...        ...       ...       ...       ...       ...  \n",
              "8843 -1.643180 -0.865322 -0.876483  0.479061 -0.703333  \n",
              "8844  1.022870 -0.865322 -0.876483 -0.187430  0.232790  \n",
              "8845 -2.537305 -0.865322  6.722828 -1.885264  0.232790  \n",
              "8846  1.013502 -0.865322 -0.876483 -1.313417 -0.887855  \n",
              "8847  1.857976 -0.865322  4.092068 -0.501115 -1.286793  \n",
              "\n",
              "[8848 rows x 12 columns]"
            ],
            "text/html": [
              "\n",
              "  <div id=\"df-a27dfcb7-2da8-4f9b-9e68-4eb1f41abcb8\">\n",
              "    <div class=\"colab-df-container\">\n",
              "      <div>\n",
              "<style scoped>\n",
              "    .dataframe tbody tr th:only-of-type {\n",
              "        vertical-align: middle;\n",
              "    }\n",
              "\n",
              "    .dataframe tbody tr th {\n",
              "        vertical-align: top;\n",
              "    }\n",
              "\n",
              "    .dataframe thead th {\n",
              "        text-align: right;\n",
              "    }\n",
              "</style>\n",
              "<table border=\"1\" class=\"dataframe\">\n",
              "  <thead>\n",
              "    <tr style=\"text-align: right;\">\n",
              "      <th></th>\n",
              "      <th>id</th>\n",
              "      <th>is_cup</th>\n",
              "      <th>X_HTHPH</th>\n",
              "      <th>X_ATHOR</th>\n",
              "      <th>X_ATHR</th>\n",
              "      <th>X_ATHOG</th>\n",
              "      <th>X_HTHOG</th>\n",
              "      <th>X_ATHG</th>\n",
              "      <th>X_HTHIC</th>\n",
              "      <th>X_ATHIC</th>\n",
              "      <th>X_HTHG</th>\n",
              "      <th>X_ATHIPH</th>\n",
              "    </tr>\n",
              "  </thead>\n",
              "  <tbody>\n",
              "    <tr>\n",
              "      <th>0</th>\n",
              "      <td>17761448</td>\n",
              "      <td>False</td>\n",
              "      <td>0.334029</td>\n",
              "      <td>-4.293780e-01</td>\n",
              "      <td>-1.968841</td>\n",
              "      <td>0.202939</td>\n",
              "      <td>-1.844630</td>\n",
              "      <td>-0.728879</td>\n",
              "      <td>4.266360</td>\n",
              "      <td>-0.876483</td>\n",
              "      <td>-0.961143</td>\n",
              "      <td>-1.336640</td>\n",
              "    </tr>\n",
              "    <tr>\n",
              "      <th>1</th>\n",
              "      <td>17695487</td>\n",
              "      <td>False</td>\n",
              "      <td>0.140762</td>\n",
              "      <td>-2.359780e+00</td>\n",
              "      <td>-0.682447</td>\n",
              "      <td>-0.784859</td>\n",
              "      <td>0.130606</td>\n",
              "      <td>-0.818067</td>\n",
              "      <td>-0.865322</td>\n",
              "      <td>-0.876483</td>\n",
              "      <td>-1.616421</td>\n",
              "      <td>0.245004</td>\n",
              "    </tr>\n",
              "    <tr>\n",
              "      <th>2</th>\n",
              "      <td>17715496</td>\n",
              "      <td>False</td>\n",
              "      <td>-0.432731</td>\n",
              "      <td>-1.746242e-01</td>\n",
              "      <td>-1.943188</td>\n",
              "      <td>0.347980</td>\n",
              "      <td>0.194511</td>\n",
              "      <td>-1.832603</td>\n",
              "      <td>-0.865322</td>\n",
              "      <td>-0.876483</td>\n",
              "      <td>-1.368441</td>\n",
              "      <td>2.073531</td>\n",
              "    </tr>\n",
              "    <tr>\n",
              "      <th>3</th>\n",
              "      <td>17715493</td>\n",
              "      <td>False</td>\n",
              "      <td>1.603946</td>\n",
              "      <td>-6.277407e+00</td>\n",
              "      <td>0.404952</td>\n",
              "      <td>-1.342912</td>\n",
              "      <td>0.673499</td>\n",
              "      <td>-0.631141</td>\n",
              "      <td>-0.865322</td>\n",
              "      <td>1.141346</td>\n",
              "      <td>-1.364416</td>\n",
              "      <td>-0.921544</td>\n",
              "    </tr>\n",
              "    <tr>\n",
              "      <th>4</th>\n",
              "      <td>17715492</td>\n",
              "      <td>False</td>\n",
              "      <td>2.110006</td>\n",
              "      <td>7.532526e-01</td>\n",
              "      <td>-2.452773</td>\n",
              "      <td>-1.080706</td>\n",
              "      <td>-0.307405</td>\n",
              "      <td>-1.870559</td>\n",
              "      <td>-0.865322</td>\n",
              "      <td>-0.876483</td>\n",
              "      <td>-1.120804</td>\n",
              "      <td>-1.974170</td>\n",
              "    </tr>\n",
              "    <tr>\n",
              "      <th>...</th>\n",
              "      <td>...</td>\n",
              "      <td>...</td>\n",
              "      <td>...</td>\n",
              "      <td>...</td>\n",
              "      <td>...</td>\n",
              "      <td>...</td>\n",
              "      <td>...</td>\n",
              "      <td>...</td>\n",
              "      <td>...</td>\n",
              "      <td>...</td>\n",
              "      <td>...</td>\n",
              "      <td>...</td>\n",
              "    </tr>\n",
              "    <tr>\n",
              "      <th>8843</th>\n",
              "      <td>18085099</td>\n",
              "      <td>False</td>\n",
              "      <td>-2.514110</td>\n",
              "      <td>-7.541283e-02</td>\n",
              "      <td>-3.147571</td>\n",
              "      <td>0.692530</td>\n",
              "      <td>-0.816501</td>\n",
              "      <td>-1.643180</td>\n",
              "      <td>-0.865322</td>\n",
              "      <td>-0.876483</td>\n",
              "      <td>0.479061</td>\n",
              "      <td>-0.703333</td>\n",
              "    </tr>\n",
              "    <tr>\n",
              "      <th>8844</th>\n",
              "      <td>18085097</td>\n",
              "      <td>False</td>\n",
              "      <td>-1.420926</td>\n",
              "      <td>-8.137082e+00</td>\n",
              "      <td>0.252253</td>\n",
              "      <td>-2.051740</td>\n",
              "      <td>0.171064</td>\n",
              "      <td>1.022870</td>\n",
              "      <td>-0.865322</td>\n",
              "      <td>-0.876483</td>\n",
              "      <td>-0.187430</td>\n",
              "      <td>0.232790</td>\n",
              "    </tr>\n",
              "    <tr>\n",
              "      <th>8845</th>\n",
              "      <td>17242709</td>\n",
              "      <td>False</td>\n",
              "      <td>-1.009475</td>\n",
              "      <td>-1.986486e+00</td>\n",
              "      <td>-1.609727</td>\n",
              "      <td>-0.150496</td>\n",
              "      <td>-1.059229</td>\n",
              "      <td>-2.537305</td>\n",
              "      <td>-0.865322</td>\n",
              "      <td>6.722828</td>\n",
              "      <td>-1.885264</td>\n",
              "      <td>0.232790</td>\n",
              "    </tr>\n",
              "    <tr>\n",
              "      <th>8846</th>\n",
              "      <td>18085095</td>\n",
              "      <td>False</td>\n",
              "      <td>2.996446</td>\n",
              "      <td>-4.836823e+00</td>\n",
              "      <td>-0.537515</td>\n",
              "      <td>-1.530172</td>\n",
              "      <td>-0.816263</td>\n",
              "      <td>1.013502</td>\n",
              "      <td>-0.865322</td>\n",
              "      <td>-0.876483</td>\n",
              "      <td>-1.313417</td>\n",
              "      <td>-0.887855</td>\n",
              "    </tr>\n",
              "    <tr>\n",
              "      <th>8847</th>\n",
              "      <td>18085098</td>\n",
              "      <td>False</td>\n",
              "      <td>0.418343</td>\n",
              "      <td>-1.635845e-16</td>\n",
              "      <td>0.745747</td>\n",
              "      <td>-2.119087</td>\n",
              "      <td>0.856532</td>\n",
              "      <td>1.857976</td>\n",
              "      <td>-0.865322</td>\n",
              "      <td>4.092068</td>\n",
              "      <td>-0.501115</td>\n",
              "      <td>-1.286793</td>\n",
              "    </tr>\n",
              "  </tbody>\n",
              "</table>\n",
              "<p>8848 rows × 12 columns</p>\n",
              "</div>\n",
              "      <button class=\"colab-df-convert\" onclick=\"convertToInteractive('df-a27dfcb7-2da8-4f9b-9e68-4eb1f41abcb8')\"\n",
              "              title=\"Convert this dataframe to an interactive table.\"\n",
              "              style=\"display:none;\">\n",
              "        \n",
              "  <svg xmlns=\"http://www.w3.org/2000/svg\" height=\"24px\"viewBox=\"0 0 24 24\"\n",
              "       width=\"24px\">\n",
              "    <path d=\"M0 0h24v24H0V0z\" fill=\"none\"/>\n",
              "    <path d=\"M18.56 5.44l.94 2.06.94-2.06 2.06-.94-2.06-.94-.94-2.06-.94 2.06-2.06.94zm-11 1L8.5 8.5l.94-2.06 2.06-.94-2.06-.94L8.5 2.5l-.94 2.06-2.06.94zm10 10l.94 2.06.94-2.06 2.06-.94-2.06-.94-.94-2.06-.94 2.06-2.06.94z\"/><path d=\"M17.41 7.96l-1.37-1.37c-.4-.4-.92-.59-1.43-.59-.52 0-1.04.2-1.43.59L10.3 9.45l-7.72 7.72c-.78.78-.78 2.05 0 2.83L4 21.41c.39.39.9.59 1.41.59.51 0 1.02-.2 1.41-.59l7.78-7.78 2.81-2.81c.8-.78.8-2.07 0-2.86zM5.41 20L4 18.59l7.72-7.72 1.47 1.35L5.41 20z\"/>\n",
              "  </svg>\n",
              "      </button>\n",
              "      \n",
              "  <style>\n",
              "    .colab-df-container {\n",
              "      display:flex;\n",
              "      flex-wrap:wrap;\n",
              "      gap: 12px;\n",
              "    }\n",
              "\n",
              "    .colab-df-convert {\n",
              "      background-color: #E8F0FE;\n",
              "      border: none;\n",
              "      border-radius: 50%;\n",
              "      cursor: pointer;\n",
              "      display: none;\n",
              "      fill: #1967D2;\n",
              "      height: 32px;\n",
              "      padding: 0 0 0 0;\n",
              "      width: 32px;\n",
              "    }\n",
              "\n",
              "    .colab-df-convert:hover {\n",
              "      background-color: #E2EBFA;\n",
              "      box-shadow: 0px 1px 2px rgba(60, 64, 67, 0.3), 0px 1px 3px 1px rgba(60, 64, 67, 0.15);\n",
              "      fill: #174EA6;\n",
              "    }\n",
              "\n",
              "    [theme=dark] .colab-df-convert {\n",
              "      background-color: #3B4455;\n",
              "      fill: #D2E3FC;\n",
              "    }\n",
              "\n",
              "    [theme=dark] .colab-df-convert:hover {\n",
              "      background-color: #434B5C;\n",
              "      box-shadow: 0px 1px 3px 1px rgba(0, 0, 0, 0.15);\n",
              "      filter: drop-shadow(0px 1px 2px rgba(0, 0, 0, 0.3));\n",
              "      fill: #FFFFFF;\n",
              "    }\n",
              "  </style>\n",
              "\n",
              "      <script>\n",
              "        const buttonEl =\n",
              "          document.querySelector('#df-a27dfcb7-2da8-4f9b-9e68-4eb1f41abcb8 button.colab-df-convert');\n",
              "        buttonEl.style.display =\n",
              "          google.colab.kernel.accessAllowed ? 'block' : 'none';\n",
              "\n",
              "        async function convertToInteractive(key) {\n",
              "          const element = document.querySelector('#df-a27dfcb7-2da8-4f9b-9e68-4eb1f41abcb8');\n",
              "          const dataTable =\n",
              "            await google.colab.kernel.invokeFunction('convertToInteractive',\n",
              "                                                     [key], {});\n",
              "          if (!dataTable) return;\n",
              "\n",
              "          const docLinkHtml = 'Like what you see? Visit the ' +\n",
              "            '<a target=\"_blank\" href=https://colab.research.google.com/notebooks/data_table.ipynb>data table notebook</a>'\n",
              "            + ' to learn more about interactive tables.';\n",
              "          element.innerHTML = '';\n",
              "          dataTable['output_type'] = 'display_data';\n",
              "          await google.colab.output.renderOutput(dataTable, element);\n",
              "          const docLink = document.createElement('div');\n",
              "          docLink.innerHTML = docLinkHtml;\n",
              "          element.appendChild(docLink);\n",
              "        }\n",
              "      </script>\n",
              "    </div>\n",
              "  </div>\n",
              "  "
            ]
          },
          "metadata": {},
          "execution_count": 89
        }
      ],
      "source": [
        "new_data_test"
      ]
    },
    {
      "cell_type": "markdown",
      "source": [
        "## Logistic Regression"
      ],
      "metadata": {
        "id": "FaPaSLKjrfn4"
      }
    },
    {
      "cell_type": "code",
      "execution_count": 90,
      "metadata": {
        "id": "CIhWtRbJOmMB"
      },
      "outputs": [],
      "source": [
        "\n",
        "ID = new_data_train['id']\n",
        "Y = new_data_train['target']\n",
        "X = new_data_train.iloc[:,2:]\n",
        "test = new_data_test['id']"
      ]
    },
    {
      "cell_type": "code",
      "execution_count": 91,
      "metadata": {
        "id": "W35YnY3xP2RH"
      },
      "outputs": [],
      "source": [
        "from sklearn.model_selection import train_test_split\n",
        "x_train, x_test, y_train, y_test = train_test_split(X, Y, test_size=0.3, random_state=2)"
      ]
    },
    {
      "cell_type": "code",
      "execution_count": 92,
      "metadata": {
        "colab": {
          "base_uri": "https://localhost:8080/"
        },
        "id": "U0UMVB4MwIjc",
        "outputId": "490a229e-701f-4065-dd97-bb04c0a3764a"
      },
      "outputs": [
        {
          "output_type": "execute_result",
          "data": {
            "text/plain": [
              "LogisticRegression(random_state=42)"
            ]
          },
          "metadata": {},
          "execution_count": 92
        }
      ],
      "source": [
        "from sklearn.linear_model import LogisticRegression\n",
        "\n",
        "#USING LOGISTICREGRESSION FOR PREDICTION\n",
        "lg = LogisticRegression(random_state = 42)\n",
        "lg.fit(x_train, y_train)"
      ]
    },
    {
      "cell_type": "code",
      "source": [
        "y_prop_pred = lg.predict_proba(x_test)\n",
        "y_prop_pred"
      ],
      "metadata": {
        "colab": {
          "base_uri": "https://localhost:8080/"
        },
        "id": "Uts9OibJwhkI",
        "outputId": "a100b03b-74ab-4202-8c99-5b7174f064fa"
      },
      "execution_count": 93,
      "outputs": [
        {
          "output_type": "execute_result",
          "data": {
            "text/plain": [
              "array([[0.2356901 , 0.25966546, 0.50464444],\n",
              "       [0.36467247, 0.34963879, 0.28568874],\n",
              "       [0.2594892 , 0.25410677, 0.48640404],\n",
              "       ...,\n",
              "       [0.45766076, 0.28776294, 0.2545763 ],\n",
              "       [0.31735184, 0.27092019, 0.41172798],\n",
              "       [0.2535791 , 0.25665791, 0.48976299]])"
            ]
          },
          "metadata": {},
          "execution_count": 93
        }
      ]
    },
    {
      "cell_type": "code",
      "source": [
        "y_pred = lg.predict(x_test)\n",
        "y_pred"
      ],
      "metadata": {
        "colab": {
          "base_uri": "https://localhost:8080/"
        },
        "id": "T3VGT9ONwoBH",
        "outputId": "a855048b-e162-4d70-e535-1e39039dfd50"
      },
      "execution_count": 94,
      "outputs": [
        {
          "output_type": "execute_result",
          "data": {
            "text/plain": [
              "array(['home', 'away', 'home', ..., 'away', 'home', 'home'], dtype=object)"
            ]
          },
          "metadata": {},
          "execution_count": 94
        }
      ]
    },
    {
      "cell_type": "code",
      "source": [
        "from sklearn import metrics \n",
        "accuracy = metrics.accuracy_score(y_test, y_pred)\n",
        "print('accuracy :',accuracy)\n",
        "matrix = metrics.confusion_matrix(y_test, y_pred)\n",
        "print(matrix)"
      ],
      "metadata": {
        "colab": {
          "base_uri": "https://localhost:8080/"
        },
        "id": "Kr6XdiOIwqZX",
        "outputId": "6aa48659-4c33-44fa-9c13-49677b6f0525"
      },
      "execution_count": 95,
      "outputs": [
        {
          "output_type": "stream",
          "name": "stdout",
          "text": [
            "accuracy : 0.4829104091144485\n",
            "[[ 452    1  766]\n",
            " [ 222    3  726]\n",
            " [ 282    0 1410]]\n"
          ]
        }
      ]
    },
    {
      "cell_type": "code",
      "source": [
        "# away, draw, home\n",
        "submission = pd.DataFrame(y_prop_pred,columns=['away', 'draw', 'home'])\n",
        "\n",
        "# Round\n",
        "round_num = False\n",
        "if round_num:\n",
        "    submission = submission.round(2)\n",
        "    submission['draw'] = 1 - (submission['home'] + submission['away'])  \n",
        "    \n",
        "#do not forget the id column\n",
        "submission['id'] = ID\n",
        "#submit!\n",
        "submission[['id', 'home', 'away', 'draw']].to_csv('submission.csv', index=False)\n",
        "submission[['id', 'home', 'away', 'draw']].head()"
      ],
      "metadata": {
        "colab": {
          "base_uri": "https://localhost:8080/",
          "height": 206
        },
        "id": "gv5g6RpVwtzE",
        "outputId": "16d41ba0-dc35-4b21-88a8-52bddfea981b"
      },
      "execution_count": 96,
      "outputs": [
        {
          "output_type": "execute_result",
          "data": {
            "text/plain": [
              "         id      home      away      draw\n",
              "0  11906497  0.504644  0.235690  0.259665\n",
              "1  11984383  0.285689  0.364672  0.349639\n",
              "2  11983301  0.486404  0.259489  0.254107\n",
              "3  11983471  0.355634  0.415561  0.228805\n",
              "4  11883005  0.576687  0.163993  0.259320"
            ],
            "text/html": [
              "\n",
              "  <div id=\"df-3d8820ab-d18a-4aec-8958-72042402249f\">\n",
              "    <div class=\"colab-df-container\">\n",
              "      <div>\n",
              "<style scoped>\n",
              "    .dataframe tbody tr th:only-of-type {\n",
              "        vertical-align: middle;\n",
              "    }\n",
              "\n",
              "    .dataframe tbody tr th {\n",
              "        vertical-align: top;\n",
              "    }\n",
              "\n",
              "    .dataframe thead th {\n",
              "        text-align: right;\n",
              "    }\n",
              "</style>\n",
              "<table border=\"1\" class=\"dataframe\">\n",
              "  <thead>\n",
              "    <tr style=\"text-align: right;\">\n",
              "      <th></th>\n",
              "      <th>id</th>\n",
              "      <th>home</th>\n",
              "      <th>away</th>\n",
              "      <th>draw</th>\n",
              "    </tr>\n",
              "  </thead>\n",
              "  <tbody>\n",
              "    <tr>\n",
              "      <th>0</th>\n",
              "      <td>11906497</td>\n",
              "      <td>0.504644</td>\n",
              "      <td>0.235690</td>\n",
              "      <td>0.259665</td>\n",
              "    </tr>\n",
              "    <tr>\n",
              "      <th>1</th>\n",
              "      <td>11984383</td>\n",
              "      <td>0.285689</td>\n",
              "      <td>0.364672</td>\n",
              "      <td>0.349639</td>\n",
              "    </tr>\n",
              "    <tr>\n",
              "      <th>2</th>\n",
              "      <td>11983301</td>\n",
              "      <td>0.486404</td>\n",
              "      <td>0.259489</td>\n",
              "      <td>0.254107</td>\n",
              "    </tr>\n",
              "    <tr>\n",
              "      <th>3</th>\n",
              "      <td>11983471</td>\n",
              "      <td>0.355634</td>\n",
              "      <td>0.415561</td>\n",
              "      <td>0.228805</td>\n",
              "    </tr>\n",
              "    <tr>\n",
              "      <th>4</th>\n",
              "      <td>11883005</td>\n",
              "      <td>0.576687</td>\n",
              "      <td>0.163993</td>\n",
              "      <td>0.259320</td>\n",
              "    </tr>\n",
              "  </tbody>\n",
              "</table>\n",
              "</div>\n",
              "      <button class=\"colab-df-convert\" onclick=\"convertToInteractive('df-3d8820ab-d18a-4aec-8958-72042402249f')\"\n",
              "              title=\"Convert this dataframe to an interactive table.\"\n",
              "              style=\"display:none;\">\n",
              "        \n",
              "  <svg xmlns=\"http://www.w3.org/2000/svg\" height=\"24px\"viewBox=\"0 0 24 24\"\n",
              "       width=\"24px\">\n",
              "    <path d=\"M0 0h24v24H0V0z\" fill=\"none\"/>\n",
              "    <path d=\"M18.56 5.44l.94 2.06.94-2.06 2.06-.94-2.06-.94-.94-2.06-.94 2.06-2.06.94zm-11 1L8.5 8.5l.94-2.06 2.06-.94-2.06-.94L8.5 2.5l-.94 2.06-2.06.94zm10 10l.94 2.06.94-2.06 2.06-.94-2.06-.94-.94-2.06-.94 2.06-2.06.94z\"/><path d=\"M17.41 7.96l-1.37-1.37c-.4-.4-.92-.59-1.43-.59-.52 0-1.04.2-1.43.59L10.3 9.45l-7.72 7.72c-.78.78-.78 2.05 0 2.83L4 21.41c.39.39.9.59 1.41.59.51 0 1.02-.2 1.41-.59l7.78-7.78 2.81-2.81c.8-.78.8-2.07 0-2.86zM5.41 20L4 18.59l7.72-7.72 1.47 1.35L5.41 20z\"/>\n",
              "  </svg>\n",
              "      </button>\n",
              "      \n",
              "  <style>\n",
              "    .colab-df-container {\n",
              "      display:flex;\n",
              "      flex-wrap:wrap;\n",
              "      gap: 12px;\n",
              "    }\n",
              "\n",
              "    .colab-df-convert {\n",
              "      background-color: #E8F0FE;\n",
              "      border: none;\n",
              "      border-radius: 50%;\n",
              "      cursor: pointer;\n",
              "      display: none;\n",
              "      fill: #1967D2;\n",
              "      height: 32px;\n",
              "      padding: 0 0 0 0;\n",
              "      width: 32px;\n",
              "    }\n",
              "\n",
              "    .colab-df-convert:hover {\n",
              "      background-color: #E2EBFA;\n",
              "      box-shadow: 0px 1px 2px rgba(60, 64, 67, 0.3), 0px 1px 3px 1px rgba(60, 64, 67, 0.15);\n",
              "      fill: #174EA6;\n",
              "    }\n",
              "\n",
              "    [theme=dark] .colab-df-convert {\n",
              "      background-color: #3B4455;\n",
              "      fill: #D2E3FC;\n",
              "    }\n",
              "\n",
              "    [theme=dark] .colab-df-convert:hover {\n",
              "      background-color: #434B5C;\n",
              "      box-shadow: 0px 1px 3px 1px rgba(0, 0, 0, 0.15);\n",
              "      filter: drop-shadow(0px 1px 2px rgba(0, 0, 0, 0.3));\n",
              "      fill: #FFFFFF;\n",
              "    }\n",
              "  </style>\n",
              "\n",
              "      <script>\n",
              "        const buttonEl =\n",
              "          document.querySelector('#df-3d8820ab-d18a-4aec-8958-72042402249f button.colab-df-convert');\n",
              "        buttonEl.style.display =\n",
              "          google.colab.kernel.accessAllowed ? 'block' : 'none';\n",
              "\n",
              "        async function convertToInteractive(key) {\n",
              "          const element = document.querySelector('#df-3d8820ab-d18a-4aec-8958-72042402249f');\n",
              "          const dataTable =\n",
              "            await google.colab.kernel.invokeFunction('convertToInteractive',\n",
              "                                                     [key], {});\n",
              "          if (!dataTable) return;\n",
              "\n",
              "          const docLinkHtml = 'Like what you see? Visit the ' +\n",
              "            '<a target=\"_blank\" href=https://colab.research.google.com/notebooks/data_table.ipynb>data table notebook</a>'\n",
              "            + ' to learn more about interactive tables.';\n",
              "          element.innerHTML = '';\n",
              "          dataTable['output_type'] = 'display_data';\n",
              "          await google.colab.output.renderOutput(dataTable, element);\n",
              "          const docLink = document.createElement('div');\n",
              "          docLink.innerHTML = docLinkHtml;\n",
              "          element.appendChild(docLink);\n",
              "        }\n",
              "      </script>\n",
              "    </div>\n",
              "  </div>\n",
              "  "
            ]
          },
          "metadata": {},
          "execution_count": 96
        }
      ]
    },
    {
      "cell_type": "code",
      "source": [
        "submission.iloc[:, 1:].plot.hist(alpha=0.5);"
      ],
      "metadata": {
        "colab": {
          "base_uri": "https://localhost:8080/",
          "height": 279
        },
        "id": "ovzHBGCYiBaL",
        "outputId": "e528f5cd-cc75-497a-a538-32b29235be59"
      },
      "execution_count": 97,
      "outputs": [
        {
          "output_type": "display_data",
          "data": {
            "text/plain": [
              "<Figure size 432x288 with 1 Axes>"
            ],
            "image/png": "[encoded data removed]"
          },
          "metadata": {
            "needs_background": "light"
          }
        }
      ]
    },
    {
      "cell_type": "markdown",
      "metadata": {
        "id": "LblCjapUwzYy"
      },
      "source": [
        ""
      ]
    },
    {
      "cell_type": "markdown",
      "metadata": {
        "id": "R7yK--fdg0kt"
      },
      "source": [
        ""
      ]
    }
  ],
  "metadata": {
    "colab": {
      "collapsed_sections": [],
      "name": "prediction1.ipynb",
      "provenance": []
    },
    "kernelspec": {
      "display_name": "Python 3 (ipykernel)",
      "language": "python",
      "name": "python3"
    },
    "language_info": {
      "codemirror_mode": {
        "name": "ipython",
        "version": 3
      },
      "file_extension": ".py",
      "mimetype": "text/x-python",
      "name": "python",
      "nbconvert_exporter": "python",
      "pygments_lexer": "ipython3",
      "version": "3.9.12"
    }
  },
  "nbformat": 4,
  "nbformat_minor": 0
}